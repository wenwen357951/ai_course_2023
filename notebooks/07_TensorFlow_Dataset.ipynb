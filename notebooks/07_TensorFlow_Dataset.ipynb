{
 "cells": [
  {
   "cell_type": "markdown",
   "metadata": {
    "id": "sUtoed20cRJJ"
   },
   "source": [
    "# 07 使用 TensorFlow Dataset 進行資料處裡"
   ]
  },
  {
   "cell_type": "markdown",
   "metadata": {
    "id": "fgZ9gjmPfSnK"
   },
   "source": [
    "## CSV 基本的訓練方式"
   ]
  },
  {
   "cell_type": "code",
   "execution_count": 1,
   "metadata": {
    "execution": {
     "iopub.execute_input": "2022-12-14T03:19:20.280863Z",
     "iopub.status.busy": "2022-12-14T03:19:20.280606Z",
     "iopub.status.idle": "2022-12-14T03:19:22.299999Z",
     "shell.execute_reply": "2022-12-14T03:19:22.299282Z"
    },
    "id": "baYFZMW_bJHh",
    "ExecuteTime": {
     "end_time": "2023-10-23T21:04:23.056592300Z",
     "start_time": "2023-10-23T21:04:19.098987400Z"
    }
   },
   "outputs": [],
   "source": [
    "import numpy as np\n",
    "# 匯入套件\n",
    "import pandas as pd\n",
    "\n",
    "# 設定小數點經度，更容易閱讀\n",
    "np.set_printoptions(precision=3, suppress=True)\n",
    "\n",
    "# 匯入 Tensorflow 與 tf.keras 套件\n",
    "import tensorflow as tf"
   ]
  },
  {
   "cell_type": "markdown",
   "metadata": {
    "id": "1ZhJYbJxHNGJ"
   },
   "source": [
    "### 讀取資料集\n",
    "\n",
    "鮑魚的資料集: [https://storage.googleapis.com/download.tensorflow.org/data/abalone_train.csv](https://storage.googleapis.com/download.tensorflow.org/data/abalone_train.csv)\n",
    "\n",
    "使用此資料集推測鮑魚年齡"
   ]
  },
  {
   "cell_type": "markdown",
   "source": [
    "#### 定義欄位名稱"
   ],
   "metadata": {
    "collapsed": false
   }
  },
  {
   "cell_type": "code",
   "execution_count": 2,
   "metadata": {
    "execution": {
     "iopub.execute_input": "2022-12-14T03:19:22.304973Z",
     "iopub.status.busy": "2022-12-14T03:19:22.304092Z",
     "iopub.status.idle": "2022-12-14T03:19:22.380824Z",
     "shell.execute_reply": "2022-12-14T03:19:22.380092Z"
    },
    "id": "IZVExo9DKoNz",
    "ExecuteTime": {
     "end_time": "2023-10-23T21:04:23.072300900Z",
     "start_time": "2023-10-23T21:04:23.053592300Z"
    }
   },
   "outputs": [],
   "source": [
    "columns_name = [\"長度\", \"直徑\", \"高度\", \"總重\", \"去殼重量\",\n",
    "                \"內臟重量\", \"外殼重量\", \"年齡\"]"
   ]
  },
  {
   "cell_type": "markdown",
   "source": [
    "#### 載入資料集"
   ],
   "metadata": {
    "collapsed": false
   }
  },
  {
   "cell_type": "code",
   "execution_count": 3,
   "outputs": [],
   "source": [
    "abalone_train = pd.read_csv(\n",
    "    \"https://storage.googleapis.com/download.tensorflow.org/data/abalone_train.csv\",\n",
    "    names=columns_name)"
   ],
   "metadata": {
    "collapsed": false,
    "ExecuteTime": {
     "end_time": "2023-10-23T21:04:23.329489500Z",
     "start_time": "2023-10-23T21:04:23.068104600Z"
    }
   }
  },
  {
   "cell_type": "markdown",
   "source": [
    "#### 印出前幾筆"
   ],
   "metadata": {
    "collapsed": false
   }
  },
  {
   "cell_type": "code",
   "execution_count": 4,
   "outputs": [
    {
     "data": {
      "text/plain": "      長度     直徑     高度     總重    去殼重量    內臟重量    外殼重量  年齡\n0  0.435  0.335  0.110  0.334  0.1355  0.0775  0.0965   7\n1  0.585  0.450  0.125  0.874  0.3545  0.2075  0.2250   6\n2  0.655  0.510  0.160  1.092  0.3960  0.2825  0.3700  14\n3  0.545  0.425  0.125  0.768  0.2940  0.1495  0.2600  16\n4  0.545  0.420  0.130  0.879  0.3740  0.1695  0.2300  13",
      "text/html": "<div>\n<style scoped>\n    .dataframe tbody tr th:only-of-type {\n        vertical-align: middle;\n    }\n\n    .dataframe tbody tr th {\n        vertical-align: top;\n    }\n\n    .dataframe thead th {\n        text-align: right;\n    }\n</style>\n<table border=\"1\" class=\"dataframe\">\n  <thead>\n    <tr style=\"text-align: right;\">\n      <th></th>\n      <th>長度</th>\n      <th>直徑</th>\n      <th>高度</th>\n      <th>總重</th>\n      <th>去殼重量</th>\n      <th>內臟重量</th>\n      <th>外殼重量</th>\n      <th>年齡</th>\n    </tr>\n  </thead>\n  <tbody>\n    <tr>\n      <th>0</th>\n      <td>0.435</td>\n      <td>0.335</td>\n      <td>0.110</td>\n      <td>0.334</td>\n      <td>0.1355</td>\n      <td>0.0775</td>\n      <td>0.0965</td>\n      <td>7</td>\n    </tr>\n    <tr>\n      <th>1</th>\n      <td>0.585</td>\n      <td>0.450</td>\n      <td>0.125</td>\n      <td>0.874</td>\n      <td>0.3545</td>\n      <td>0.2075</td>\n      <td>0.2250</td>\n      <td>6</td>\n    </tr>\n    <tr>\n      <th>2</th>\n      <td>0.655</td>\n      <td>0.510</td>\n      <td>0.160</td>\n      <td>1.092</td>\n      <td>0.3960</td>\n      <td>0.2825</td>\n      <td>0.3700</td>\n      <td>14</td>\n    </tr>\n    <tr>\n      <th>3</th>\n      <td>0.545</td>\n      <td>0.425</td>\n      <td>0.125</td>\n      <td>0.768</td>\n      <td>0.2940</td>\n      <td>0.1495</td>\n      <td>0.2600</td>\n      <td>16</td>\n    </tr>\n    <tr>\n      <th>4</th>\n      <td>0.545</td>\n      <td>0.420</td>\n      <td>0.130</td>\n      <td>0.879</td>\n      <td>0.3740</td>\n      <td>0.1695</td>\n      <td>0.2300</td>\n      <td>13</td>\n    </tr>\n  </tbody>\n</table>\n</div>"
     },
     "execution_count": 4,
     "metadata": {},
     "output_type": "execute_result"
    }
   ],
   "source": [
    "abalone_train.head()"
   ],
   "metadata": {
    "collapsed": false,
    "ExecuteTime": {
     "end_time": "2023-10-23T21:04:23.389013700Z",
     "start_time": "2023-10-23T21:04:23.331999300Z"
    }
   }
  },
  {
   "cell_type": "markdown",
   "source": [
    "### 提取出標籤"
   ],
   "metadata": {
    "collapsed": false
   }
  },
  {
   "cell_type": "code",
   "execution_count": 5,
   "metadata": {
    "execution": {
     "iopub.execute_input": "2022-12-14T03:19:22.385521Z",
     "iopub.status.busy": "2022-12-14T03:19:22.384868Z",
     "iopub.status.idle": "2022-12-14T03:19:22.389606Z",
     "shell.execute_reply": "2022-12-14T03:19:22.388982Z"
    },
    "id": "udOnDJOxNi7p",
    "ExecuteTime": {
     "end_time": "2023-10-23T21:04:23.467992Z",
     "start_time": "2023-10-23T21:04:23.364290800Z"
    }
   },
   "outputs": [
    {
     "data": {
      "text/plain": "0        7\n1        6\n2       14\n3       16\n4       13\n        ..\n3315    15\n3316    10\n3317    11\n3318    16\n3319    19\nName: 年齡, Length: 3320, dtype: int64"
     },
     "execution_count": 5,
     "metadata": {},
     "output_type": "execute_result"
    }
   ],
   "source": [
    "abalone_features = abalone_train.copy()\n",
    "abalone_labels = abalone_features.pop('年齡')\n",
    "abalone_labels"
   ]
  },
  {
   "cell_type": "markdown",
   "source": [
    "### 查看特徵"
   ],
   "metadata": {
    "collapsed": false
   }
  },
  {
   "cell_type": "code",
   "execution_count": 6,
   "metadata": {
    "execution": {
     "iopub.execute_input": "2022-12-14T03:19:22.393442Z",
     "iopub.status.busy": "2022-12-14T03:19:22.392811Z",
     "iopub.status.idle": "2022-12-14T03:19:22.398000Z",
     "shell.execute_reply": "2022-12-14T03:19:22.397416Z"
    },
    "id": "Dp3N5McbUMwb",
    "ExecuteTime": {
     "end_time": "2023-10-23T21:04:23.481041700Z",
     "start_time": "2023-10-23T21:04:23.379438700Z"
    }
   },
   "outputs": [
    {
     "data": {
      "text/plain": "array([[0.435, 0.335, 0.11 , ..., 0.136, 0.077, 0.097],\n       [0.585, 0.45 , 0.125, ..., 0.354, 0.207, 0.225],\n       [0.655, 0.51 , 0.16 , ..., 0.396, 0.282, 0.37 ],\n       ...,\n       [0.53 , 0.42 , 0.13 , ..., 0.374, 0.167, 0.249],\n       [0.395, 0.315, 0.105, ..., 0.118, 0.091, 0.119],\n       [0.45 , 0.355, 0.12 , ..., 0.115, 0.067, 0.16 ]])"
     },
     "execution_count": 6,
     "metadata": {},
     "output_type": "execute_result"
    }
   ],
   "source": [
    "abalone_features = np.array(abalone_features)\n",
    "abalone_features"
   ]
  },
  {
   "cell_type": "markdown",
   "source": [
    "### 建立模型"
   ],
   "metadata": {
    "collapsed": false
   }
  },
  {
   "cell_type": "code",
   "execution_count": 7,
   "outputs": [],
   "source": [
    "abalone_model = tf.keras.Sequential([\n",
    "    tf.keras.layers.Input(shape=(None, 7)),\n",
    "    tf.keras.layers.Dense(64),\n",
    "    tf.keras.layers.Dense(1)\n",
    "])"
   ],
   "metadata": {
    "collapsed": false,
    "ExecuteTime": {
     "end_time": "2023-10-23T21:04:23.654077900Z",
     "start_time": "2023-10-23T21:04:23.395270200Z"
    }
   }
  },
  {
   "cell_type": "markdown",
   "source": [
    "#### 模型總覽"
   ],
   "metadata": {
    "collapsed": false
   }
  },
  {
   "cell_type": "code",
   "execution_count": 8,
   "outputs": [
    {
     "name": "stdout",
     "output_type": "stream",
     "text": [
      "Model: \"sequential\"\n",
      "_________________________________________________________________\n",
      " Layer (type)                Output Shape              Param #   \n",
      "=================================================================\n",
      " dense (Dense)               (None, None, 64)          512       \n",
      "                                                                 \n",
      " dense_1 (Dense)             (None, None, 1)           65        \n",
      "                                                                 \n",
      "=================================================================\n",
      "Total params: 577 (2.25 KB)\n",
      "Trainable params: 577 (2.25 KB)\n",
      "Non-trainable params: 0 (0.00 Byte)\n",
      "_________________________________________________________________\n"
     ]
    }
   ],
   "source": [
    "abalone_model.summary()"
   ],
   "metadata": {
    "collapsed": false,
    "ExecuteTime": {
     "end_time": "2023-10-23T21:04:23.708657400Z",
     "start_time": "2023-10-23T21:04:23.630023Z"
    }
   }
  },
  {
   "cell_type": "markdown",
   "source": [
    "#### 編譯模型"
   ],
   "metadata": {
    "collapsed": false
   }
  },
  {
   "cell_type": "code",
   "execution_count": 9,
   "outputs": [],
   "source": [
    "abalone_model.compile(loss=tf.keras.losses.MeanSquaredError(),\n",
    "                      optimizer=tf.keras.optimizers.Adam())"
   ],
   "metadata": {
    "collapsed": false,
    "ExecuteTime": {
     "end_time": "2023-10-23T21:04:23.709652800Z",
     "start_time": "2023-10-23T21:04:23.661585300Z"
    }
   }
  },
  {
   "cell_type": "markdown",
   "source": [
    "### 訓練模型"
   ],
   "metadata": {
    "collapsed": false
   }
  },
  {
   "cell_type": "code",
   "execution_count": 10,
   "metadata": {
    "execution": {
     "iopub.execute_input": "2022-12-14T03:19:25.950304Z",
     "iopub.status.busy": "2022-12-14T03:19:25.949715Z",
     "iopub.status.idle": "2022-12-14T03:19:29.443282Z",
     "shell.execute_reply": "2022-12-14T03:19:29.442650Z"
    },
    "id": "uZdpCD92SN3Z",
    "ExecuteTime": {
     "end_time": "2023-10-23T21:04:25.493591900Z",
     "start_time": "2023-10-23T21:04:23.678115500Z"
    }
   },
   "outputs": [
    {
     "name": "stdout",
     "output_type": "stream",
     "text": [
      "Epoch 1/10\n",
      "104/104 [==============================] - 1s 1ms/step - loss: 67.6143\n",
      "Epoch 2/10\n",
      "104/104 [==============================] - 0s 1ms/step - loss: 12.1156\n",
      "Epoch 3/10\n",
      "104/104 [==============================] - 0s 1ms/step - loss: 8.2744\n",
      "Epoch 4/10\n",
      "104/104 [==============================] - 0s 1ms/step - loss: 7.8679\n",
      "Epoch 5/10\n",
      "104/104 [==============================] - 0s 1ms/step - loss: 7.5166\n",
      "Epoch 6/10\n",
      "104/104 [==============================] - 0s 934us/step - loss: 7.2148\n",
      "Epoch 7/10\n",
      "104/104 [==============================] - 0s 1ms/step - loss: 7.0082\n",
      "Epoch 8/10\n",
      "104/104 [==============================] - 0s 1ms/step - loss: 6.8251\n",
      "Epoch 9/10\n",
      "104/104 [==============================] - 0s 1ms/step - loss: 6.6963\n",
      "Epoch 10/10\n",
      "104/104 [==============================] - 0s 1ms/step - loss: 6.5905\n"
     ]
    },
    {
     "data": {
      "text/plain": "<keras.src.callbacks.History at 0x1d768a1bb80>"
     },
     "execution_count": 10,
     "metadata": {},
     "output_type": "execute_result"
    }
   ],
   "source": [
    "abalone_model.fit(abalone_features, abalone_labels, epochs=10)"
   ]
  },
  {
   "cell_type": "markdown",
   "metadata": {
    "id": "B87Rd1SOUv02"
   },
   "source": [
    "## 基本的預處理器"
   ]
  },
  {
   "cell_type": "code",
   "execution_count": 11,
   "metadata": {
    "execution": {
     "iopub.execute_input": "2022-12-14T03:19:29.447369Z",
     "iopub.status.busy": "2022-12-14T03:19:29.446620Z",
     "iopub.status.idle": "2022-12-14T03:19:29.451590Z",
     "shell.execute_reply": "2022-12-14T03:19:29.451000Z"
    },
    "id": "H2WQpDU5VRk7",
    "ExecuteTime": {
     "end_time": "2023-10-23T21:04:25.538654700Z",
     "start_time": "2023-10-23T21:04:25.495591900Z"
    }
   },
   "outputs": [],
   "source": [
    "normalize = tf.keras.layers.Normalization()"
   ]
  },
  {
   "cell_type": "markdown",
   "source": [
    "### 讓 Normalization 自適應資料"
   ],
   "metadata": {
    "collapsed": false
   }
  },
  {
   "cell_type": "code",
   "execution_count": 12,
   "metadata": {
    "execution": {
     "iopub.execute_input": "2022-12-14T03:19:29.454954Z",
     "iopub.status.busy": "2022-12-14T03:19:29.454366Z",
     "iopub.status.idle": "2022-12-14T03:19:29.768221Z",
     "shell.execute_reply": "2022-12-14T03:19:29.767456Z"
    },
    "id": "2WgOPIiOVpLg",
    "ExecuteTime": {
     "end_time": "2023-10-23T21:04:25.774875300Z",
     "start_time": "2023-10-23T21:04:25.511609400Z"
    }
   },
   "outputs": [],
   "source": [
    "normalize.adapt(abalone_features)"
   ]
  },
  {
   "cell_type": "markdown",
   "source": [
    "### 在模型中添加正規化層"
   ],
   "metadata": {
    "collapsed": false
   }
  },
  {
   "cell_type": "code",
   "execution_count": 13,
   "metadata": {
    "execution": {
     "iopub.execute_input": "2022-12-14T03:19:29.773051Z",
     "iopub.status.busy": "2022-12-14T03:19:29.772432Z",
     "iopub.status.idle": "2022-12-14T03:19:32.766440Z",
     "shell.execute_reply": "2022-12-14T03:19:32.765669Z"
    },
    "id": "quPcZ9dTWA9A",
    "ExecuteTime": {
     "end_time": "2023-10-23T21:04:25.823075300Z",
     "start_time": "2023-10-23T21:04:25.782388400Z"
    }
   },
   "outputs": [],
   "source": [
    "norm_abalone_model = tf.keras.Sequential([\n",
    "    tf.keras.layers.Input(shape=(None, 7)),\n",
    "    normalize,\n",
    "    tf.keras.layers.Dense(64),\n",
    "    tf.keras.layers.Dense(1)\n",
    "])"
   ]
  },
  {
   "cell_type": "markdown",
   "source": [
    "#### 模型總覽"
   ],
   "metadata": {
    "collapsed": false
   }
  },
  {
   "cell_type": "code",
   "execution_count": 14,
   "outputs": [
    {
     "name": "stdout",
     "output_type": "stream",
     "text": [
      "Model: \"sequential_1\"\n",
      "_________________________________________________________________\n",
      " Layer (type)                Output Shape              Param #   \n",
      "=================================================================\n",
      " normalization (Normalizati  (None, None, 7)           15        \n",
      " on)                                                             \n",
      "                                                                 \n",
      " dense_2 (Dense)             (None, None, 64)          512       \n",
      "                                                                 \n",
      " dense_3 (Dense)             (None, None, 1)           65        \n",
      "                                                                 \n",
      "=================================================================\n",
      "Total params: 592 (2.32 KB)\n",
      "Trainable params: 577 (2.25 KB)\n",
      "Non-trainable params: 15 (64.00 Byte)\n",
      "_________________________________________________________________\n"
     ]
    }
   ],
   "source": [
    "norm_abalone_model.summary()"
   ],
   "metadata": {
    "collapsed": false,
    "ExecuteTime": {
     "end_time": "2023-10-23T21:04:25.914812700Z",
     "start_time": "2023-10-23T21:04:25.827045500Z"
    }
   }
  },
  {
   "cell_type": "markdown",
   "source": [
    "#### 編譯模型"
   ],
   "metadata": {
    "collapsed": false
   }
  },
  {
   "cell_type": "code",
   "execution_count": 15,
   "outputs": [],
   "source": [
    "norm_abalone_model.compile(loss=tf.keras.losses.MeanSquaredError(),\n",
    "                           optimizer=tf.keras.optimizers.Adam())"
   ],
   "metadata": {
    "collapsed": false,
    "ExecuteTime": {
     "end_time": "2023-10-23T21:04:25.927879200Z",
     "start_time": "2023-10-23T21:04:25.857167700Z"
    }
   }
  },
  {
   "cell_type": "markdown",
   "source": [
    "#### 訓練模型"
   ],
   "metadata": {
    "collapsed": false
   }
  },
  {
   "cell_type": "code",
   "execution_count": 16,
   "outputs": [
    {
     "name": "stdout",
     "output_type": "stream",
     "text": [
      "Epoch 1/10\n",
      "104/104 [==============================] - 0s 1ms/step - loss: 92.0956\n",
      "Epoch 2/10\n",
      "104/104 [==============================] - 0s 1ms/step - loss: 52.9966\n",
      "Epoch 3/10\n",
      "104/104 [==============================] - 0s 1ms/step - loss: 16.6260\n",
      "Epoch 4/10\n",
      "104/104 [==============================] - 0s 1ms/step - loss: 5.9123\n",
      "Epoch 5/10\n",
      "104/104 [==============================] - 0s 1ms/step - loss: 5.1255\n",
      "Epoch 6/10\n",
      "104/104 [==============================] - 0s 1ms/step - loss: 5.0433\n",
      "Epoch 7/10\n",
      "104/104 [==============================] - 0s 1ms/step - loss: 5.0276\n",
      "Epoch 8/10\n",
      "104/104 [==============================] - 0s 1ms/step - loss: 5.0356\n",
      "Epoch 9/10\n",
      "104/104 [==============================] - 0s 1ms/step - loss: 4.9947\n",
      "Epoch 10/10\n",
      "104/104 [==============================] - 0s 1ms/step - loss: 4.9826\n"
     ]
    },
    {
     "data": {
      "text/plain": "<keras.src.callbacks.History at 0x1d769d04f10>"
     },
     "execution_count": 16,
     "metadata": {},
     "output_type": "execute_result"
    }
   ],
   "source": [
    "norm_abalone_model.fit(abalone_features, abalone_labels, epochs=10)"
   ],
   "metadata": {
    "collapsed": false,
    "ExecuteTime": {
     "end_time": "2023-10-23T21:04:27.481696200Z",
     "start_time": "2023-10-23T21:04:25.871754500Z"
    }
   }
  },
  {
   "cell_type": "markdown",
   "metadata": {
    "id": "Wuqj601Qw0Ml"
   },
   "source": [
    "## 混合資料類型的訓練\n",
    "\n",
    "鐵達尼號乘客資訊: [https://storage.googleapis.com/tf-datasets/titanic/train.csv](https://storage.googleapis.com/tf-datasets/titanic/train.csv)\n",
    "\n",
    "使用此資料及推測倖存者。"
   ]
  },
  {
   "cell_type": "markdown",
   "source": [
    "### 載入資料集"
   ],
   "metadata": {
    "collapsed": false
   }
  },
  {
   "cell_type": "markdown",
   "source": [
    "### 讀取資料集\n",
    "\n",
    "- Survived: 是否生還\n",
    "- Sex: 性別\n",
    "- Age: 年齡\n",
    "- n_siblings_spouses: 船上的兄弟姐妹人數\n",
    "- parch: 船上的的父母與子女人數\n",
    "- fare: 船票的費用\n",
    "- class: 船艙的等級\n",
    "- deck: 甲板\n",
    "- embark_town: 登船的城市\n",
    "- alone: 是否一個人在船上"
   ],
   "metadata": {
    "collapsed": false
   }
  },
  {
   "cell_type": "code",
   "execution_count": 17,
   "metadata": {
    "execution": {
     "iopub.execute_input": "2022-12-14T03:19:32.770388Z",
     "iopub.status.busy": "2022-12-14T03:19:32.769703Z",
     "iopub.status.idle": "2022-12-14T03:19:32.843427Z",
     "shell.execute_reply": "2022-12-14T03:19:32.842735Z"
    },
    "id": "GS-dBMpuYMnz",
    "ExecuteTime": {
     "end_time": "2023-10-23T21:04:27.559079800Z",
     "start_time": "2023-10-23T21:04:27.483693900Z"
    }
   },
   "outputs": [
    {
     "data": {
      "text/plain": "   survived     sex   age  n_siblings_spouses  parch     fare  class     deck  \\\n0         0    male  22.0                   1      0   7.2500  Third  unknown   \n1         1  female  38.0                   1      0  71.2833  First        C   \n2         1  female  26.0                   0      0   7.9250  Third  unknown   \n3         1  female  35.0                   1      0  53.1000  First        C   \n4         0    male  28.0                   0      0   8.4583  Third  unknown   \n\n   embark_town alone  \n0  Southampton     n  \n1    Cherbourg     n  \n2  Southampton     y  \n3  Southampton     n  \n4   Queenstown     y  ",
      "text/html": "<div>\n<style scoped>\n    .dataframe tbody tr th:only-of-type {\n        vertical-align: middle;\n    }\n\n    .dataframe tbody tr th {\n        vertical-align: top;\n    }\n\n    .dataframe thead th {\n        text-align: right;\n    }\n</style>\n<table border=\"1\" class=\"dataframe\">\n  <thead>\n    <tr style=\"text-align: right;\">\n      <th></th>\n      <th>survived</th>\n      <th>sex</th>\n      <th>age</th>\n      <th>n_siblings_spouses</th>\n      <th>parch</th>\n      <th>fare</th>\n      <th>class</th>\n      <th>deck</th>\n      <th>embark_town</th>\n      <th>alone</th>\n    </tr>\n  </thead>\n  <tbody>\n    <tr>\n      <th>0</th>\n      <td>0</td>\n      <td>male</td>\n      <td>22.0</td>\n      <td>1</td>\n      <td>0</td>\n      <td>7.2500</td>\n      <td>Third</td>\n      <td>unknown</td>\n      <td>Southampton</td>\n      <td>n</td>\n    </tr>\n    <tr>\n      <th>1</th>\n      <td>1</td>\n      <td>female</td>\n      <td>38.0</td>\n      <td>1</td>\n      <td>0</td>\n      <td>71.2833</td>\n      <td>First</td>\n      <td>C</td>\n      <td>Cherbourg</td>\n      <td>n</td>\n    </tr>\n    <tr>\n      <th>2</th>\n      <td>1</td>\n      <td>female</td>\n      <td>26.0</td>\n      <td>0</td>\n      <td>0</td>\n      <td>7.9250</td>\n      <td>Third</td>\n      <td>unknown</td>\n      <td>Southampton</td>\n      <td>y</td>\n    </tr>\n    <tr>\n      <th>3</th>\n      <td>1</td>\n      <td>female</td>\n      <td>35.0</td>\n      <td>1</td>\n      <td>0</td>\n      <td>53.1000</td>\n      <td>First</td>\n      <td>C</td>\n      <td>Southampton</td>\n      <td>n</td>\n    </tr>\n    <tr>\n      <th>4</th>\n      <td>0</td>\n      <td>male</td>\n      <td>28.0</td>\n      <td>0</td>\n      <td>0</td>\n      <td>8.4583</td>\n      <td>Third</td>\n      <td>unknown</td>\n      <td>Queenstown</td>\n      <td>y</td>\n    </tr>\n  </tbody>\n</table>\n</div>"
     },
     "execution_count": 17,
     "metadata": {},
     "output_type": "execute_result"
    }
   ],
   "source": [
    "titanic = pd.read_csv(\"https://storage.googleapis.com/tf-datasets/titanic/train.csv\")\n",
    "titanic.head()"
   ]
  },
  {
   "cell_type": "markdown",
   "source": [
    "### 提出預測標籤"
   ],
   "metadata": {
    "collapsed": false
   }
  },
  {
   "cell_type": "code",
   "execution_count": 18,
   "metadata": {
    "execution": {
     "iopub.execute_input": "2022-12-14T03:19:32.847077Z",
     "iopub.status.busy": "2022-12-14T03:19:32.846402Z",
     "iopub.status.idle": "2022-12-14T03:19:32.850257Z",
     "shell.execute_reply": "2022-12-14T03:19:32.849645Z"
    },
    "id": "D8rCGIK1ZzKx",
    "ExecuteTime": {
     "end_time": "2023-10-23T21:04:27.598339700Z",
     "start_time": "2023-10-23T21:04:27.561079500Z"
    }
   },
   "outputs": [],
   "source": [
    "titanic_features = titanic.copy()\n",
    "titanic_labels = titanic_features.pop('survived')"
   ]
  },
  {
   "cell_type": "markdown",
   "source": [
    "### 示範: 使用 API 方式來建立模型"
   ],
   "metadata": {
    "collapsed": false
   }
  },
  {
   "cell_type": "code",
   "execution_count": 19,
   "metadata": {
    "execution": {
     "iopub.execute_input": "2022-12-14T03:19:32.853946Z",
     "iopub.status.busy": "2022-12-14T03:19:32.853298Z",
     "iopub.status.idle": "2022-12-14T03:19:32.867022Z",
     "shell.execute_reply": "2022-12-14T03:19:32.866391Z"
    },
    "id": "730F16_97D-3",
    "ExecuteTime": {
     "end_time": "2023-10-23T21:04:27.634697200Z",
     "start_time": "2023-10-23T21:04:27.577724500Z"
    }
   },
   "outputs": [],
   "source": [
    "_input = tf.keras.Input(shape=(), dtype=tf.float32)"
   ]
  },
  {
   "cell_type": "code",
   "execution_count": 20,
   "outputs": [],
   "source": [
    "result = 2 * _input + 1"
   ],
   "metadata": {
    "collapsed": false,
    "ExecuteTime": {
     "end_time": "2023-10-23T21:04:27.693476Z",
     "start_time": "2023-10-23T21:04:27.592334900Z"
    }
   }
  },
  {
   "cell_type": "code",
   "execution_count": 21,
   "outputs": [
    {
     "data": {
      "text/plain": "<KerasTensor: shape=(None,) dtype=float32 (created by layer 'tf.__operators__.add')>"
     },
     "execution_count": 21,
     "metadata": {},
     "output_type": "execute_result"
    }
   ],
   "source": [
    "result"
   ],
   "metadata": {
    "collapsed": false,
    "ExecuteTime": {
     "end_time": "2023-10-23T21:04:27.778118400Z",
     "start_time": "2023-10-23T21:04:27.607853300Z"
    }
   }
  },
  {
   "cell_type": "markdown",
   "source": [
    "#### 建立模型"
   ],
   "metadata": {
    "collapsed": false
   }
  },
  {
   "cell_type": "code",
   "execution_count": 22,
   "metadata": {
    "execution": {
     "iopub.execute_input": "2022-12-14T03:19:32.870266Z",
     "iopub.status.busy": "2022-12-14T03:19:32.869735Z",
     "iopub.status.idle": "2022-12-14T03:19:32.876136Z",
     "shell.execute_reply": "2022-12-14T03:19:32.875506Z"
    },
    "id": "RtcNXWB18kMJ",
    "ExecuteTime": {
     "end_time": "2023-10-23T21:04:27.785601800Z",
     "start_time": "2023-10-23T21:04:27.622097600Z"
    }
   },
   "outputs": [],
   "source": [
    "calc = tf.keras.Model(inputs=_input, outputs=result)"
   ]
  },
  {
   "cell_type": "markdown",
   "source": [
    "#### 測試模型"
   ],
   "metadata": {
    "collapsed": false
   }
  },
  {
   "cell_type": "code",
   "execution_count": 23,
   "metadata": {
    "execution": {
     "iopub.execute_input": "2022-12-14T03:19:32.879797Z",
     "iopub.status.busy": "2022-12-14T03:19:32.879171Z",
     "iopub.status.idle": "2022-12-14T03:19:32.887775Z",
     "shell.execute_reply": "2022-12-14T03:19:32.887119Z"
    },
    "id": "fUGQOUqZ8sa-",
    "ExecuteTime": {
     "end_time": "2023-10-23T21:04:27.786603Z",
     "start_time": "2023-10-23T21:04:27.639659500Z"
    }
   },
   "outputs": [
    {
     "name": "stdout",
     "output_type": "stream",
     "text": [
      "3.0\n",
      "5.0\n"
     ]
    }
   ],
   "source": [
    "print(calc(1).numpy())\n",
    "print(calc(2).numpy())"
   ]
  },
  {
   "cell_type": "markdown",
   "source": [
    "### 建立模型"
   ],
   "metadata": {
    "collapsed": false
   }
  },
  {
   "cell_type": "markdown",
   "source": [
    "#### 設置模型的輸入"
   ],
   "metadata": {
    "collapsed": false
   }
  },
  {
   "cell_type": "code",
   "execution_count": 24,
   "metadata": {
    "execution": {
     "iopub.execute_input": "2022-12-14T03:19:32.891052Z",
     "iopub.status.busy": "2022-12-14T03:19:32.890446Z",
     "iopub.status.idle": "2022-12-14T03:19:32.904062Z",
     "shell.execute_reply": "2022-12-14T03:19:32.903382Z"
    },
    "id": "5WODe_1da3yw",
    "ExecuteTime": {
     "end_time": "2023-10-23T21:04:27.786603Z",
     "start_time": "2023-10-23T21:04:27.654307500Z"
    }
   },
   "outputs": [
    {
     "data": {
      "text/plain": "{'sex': <KerasTensor: shape=(None, 1) dtype=string (created by layer 'sex')>,\n 'age': <KerasTensor: shape=(None, 1) dtype=float32 (created by layer 'age')>,\n 'n_siblings_spouses': <KerasTensor: shape=(None, 1) dtype=float32 (created by layer 'n_siblings_spouses')>,\n 'parch': <KerasTensor: shape=(None, 1) dtype=float32 (created by layer 'parch')>,\n 'fare': <KerasTensor: shape=(None, 1) dtype=float32 (created by layer 'fare')>,\n 'class': <KerasTensor: shape=(None, 1) dtype=string (created by layer 'class')>,\n 'deck': <KerasTensor: shape=(None, 1) dtype=string (created by layer 'deck')>,\n 'embark_town': <KerasTensor: shape=(None, 1) dtype=string (created by layer 'embark_town')>,\n 'alone': <KerasTensor: shape=(None, 1) dtype=string (created by layer 'alone')>}"
     },
     "execution_count": 24,
     "metadata": {},
     "output_type": "execute_result"
    }
   ],
   "source": [
    "inputs = {}\n",
    "\n",
    "for name, column in titanic_features.items():\n",
    "    dtype = column.dtype\n",
    "\n",
    "    if dtype == object:\n",
    "        dtype = tf.string\n",
    "\n",
    "    else:\n",
    "        dtype = tf.float32\n",
    "\n",
    "    inputs[name] = tf.keras.Input(shape=(1,), name=name, dtype=dtype)\n",
    "\n",
    "inputs"
   ]
  },
  {
   "cell_type": "markdown",
   "source": [
    "#### 對輸入是數字的進行正規化"
   ],
   "metadata": {
    "collapsed": false
   }
  },
  {
   "cell_type": "markdown",
   "source": [
    "##### 找出是數字的層"
   ],
   "metadata": {
    "collapsed": false
   }
  },
  {
   "cell_type": "code",
   "execution_count": 25,
   "metadata": {
    "execution": {
     "iopub.execute_input": "2022-12-14T03:19:32.907579Z",
     "iopub.status.busy": "2022-12-14T03:19:32.906927Z",
     "iopub.status.idle": "2022-12-14T03:19:33.124308Z",
     "shell.execute_reply": "2022-12-14T03:19:33.123602Z"
    },
    "id": "wPRC_E6rkp8D",
    "ExecuteTime": {
     "end_time": "2023-10-23T21:04:27.786603Z",
     "start_time": "2023-10-23T21:04:27.670844600Z"
    }
   },
   "outputs": [
    {
     "data": {
      "text/plain": "{'age': <KerasTensor: shape=(None, 1) dtype=float32 (created by layer 'age')>,\n 'n_siblings_spouses': <KerasTensor: shape=(None, 1) dtype=float32 (created by layer 'n_siblings_spouses')>,\n 'parch': <KerasTensor: shape=(None, 1) dtype=float32 (created by layer 'parch')>,\n 'fare': <KerasTensor: shape=(None, 1) dtype=float32 (created by layer 'fare')>}"
     },
     "execution_count": 25,
     "metadata": {},
     "output_type": "execute_result"
    }
   ],
   "source": [
    "numeric_inputs = {\n",
    "    _name: _input\n",
    "    for _name, _input in inputs.items()\n",
    "    if _input.dtype == tf.float32\n",
    "}\n",
    "numeric_inputs"
   ]
  },
  {
   "cell_type": "markdown",
   "source": [
    "##### 把是數字的層，連結起來"
   ],
   "metadata": {
    "collapsed": false
   }
  },
  {
   "cell_type": "code",
   "execution_count": 26,
   "outputs": [
    {
     "data": {
      "text/plain": "<KerasTensor: shape=(None, 4) dtype=float32 (created by layer 'concatenate')>"
     },
     "execution_count": 26,
     "metadata": {},
     "output_type": "execute_result"
    }
   ],
   "source": [
    "x = tf.keras.layers.Concatenate()(list(numeric_inputs.values()))\n",
    "x"
   ],
   "metadata": {
    "collapsed": false,
    "ExecuteTime": {
     "end_time": "2023-10-23T21:04:27.822847700Z",
     "start_time": "2023-10-23T21:04:27.687935500Z"
    }
   }
  },
  {
   "cell_type": "markdown",
   "source": [
    "##### 進行正規化"
   ],
   "metadata": {
    "collapsed": false
   }
  },
  {
   "cell_type": "code",
   "execution_count": 27,
   "outputs": [
    {
     "data": {
      "text/plain": "<KerasTensor: shape=(None, 4) dtype=float32 (created by layer 'normalization_1')>"
     },
     "execution_count": 27,
     "metadata": {},
     "output_type": "execute_result"
    }
   ],
   "source": [
    "norm = tf.keras.layers.Normalization()\n",
    "norm.adapt(np.array(titanic[numeric_inputs.keys()]))\n",
    "all_numeric_inputs = norm(x)\n",
    "\n",
    "all_numeric_inputs"
   ],
   "metadata": {
    "collapsed": false,
    "ExecuteTime": {
     "end_time": "2023-10-23T21:04:27.962466900Z",
     "start_time": "2023-10-23T21:04:27.702954600Z"
    }
   }
  },
  {
   "cell_type": "markdown",
   "metadata": {
    "id": "-JoR45Uj712l"
   },
   "source": [
    "##### 將預處裡完的輸入集中起來"
   ]
  },
  {
   "cell_type": "code",
   "execution_count": 28,
   "metadata": {
    "execution": {
     "iopub.execute_input": "2022-12-14T03:19:33.128426Z",
     "iopub.status.busy": "2022-12-14T03:19:33.127705Z",
     "iopub.status.idle": "2022-12-14T03:19:33.131347Z",
     "shell.execute_reply": "2022-12-14T03:19:33.130737Z"
    },
    "id": "M7jIJw5XntdN",
    "ExecuteTime": {
     "end_time": "2023-10-23T21:04:27.976953400Z",
     "start_time": "2023-10-23T21:04:27.908885100Z"
    }
   },
   "outputs": [],
   "source": [
    "preprocessed_inputs = [all_numeric_inputs]"
   ]
  },
  {
   "cell_type": "markdown",
   "source": [
    "#### 對輸入是字串的進行編碼"
   ],
   "metadata": {
    "collapsed": false
   }
  },
  {
   "cell_type": "markdown",
   "source": [
    "##### StaringLookup 層\n",
    "\n",
    "轉換字詞為正數"
   ],
   "metadata": {
    "collapsed": false
   }
  },
  {
   "cell_type": "markdown",
   "source": [
    "###### 顯示一類字串資料"
   ],
   "metadata": {
    "collapsed": false
   }
  },
  {
   "cell_type": "code",
   "execution_count": 29,
   "outputs": [
    {
     "data": {
      "text/plain": "0    Third\n1    First\n2    Third\n3    First\n4    Third\nName: class, dtype: object"
     },
     "execution_count": 29,
     "metadata": {},
     "output_type": "execute_result"
    }
   ],
   "source": [
    "titanic_features[\"class\"].head()"
   ],
   "metadata": {
    "collapsed": false,
    "ExecuteTime": {
     "end_time": "2023-10-23T21:04:27.977952900Z",
     "start_time": "2023-10-23T21:04:27.926962300Z"
    }
   }
  },
  {
   "cell_type": "markdown",
   "source": [
    "###### 轉換為整數"
   ],
   "metadata": {
    "collapsed": false
   }
  },
  {
   "cell_type": "code",
   "execution_count": 30,
   "outputs": [],
   "source": [
    "_lookup = tf.keras.layers.StringLookup(vocabulary=np.unique(titanic_features[\"class\"]))\n",
    "_class_lookup = _lookup(titanic_features[\"class\"])"
   ],
   "metadata": {
    "collapsed": false,
    "ExecuteTime": {
     "end_time": "2023-10-23T21:04:28.008367400Z",
     "start_time": "2023-10-23T21:04:27.940060900Z"
    }
   }
  },
  {
   "cell_type": "markdown",
   "source": [
    "###### 取得詞彙表的大小"
   ],
   "metadata": {
    "collapsed": false
   }
  },
  {
   "cell_type": "code",
   "execution_count": 31,
   "outputs": [
    {
     "data": {
      "text/plain": "4"
     },
     "execution_count": 31,
     "metadata": {},
     "output_type": "execute_result"
    }
   ],
   "source": [
    "_lookup.vocabulary_size()"
   ],
   "metadata": {
    "collapsed": false,
    "ExecuteTime": {
     "end_time": "2023-10-23T21:04:28.013945Z",
     "start_time": "2023-10-23T21:04:27.970940900Z"
    }
   }
  },
  {
   "cell_type": "markdown",
   "source": [
    "##### CategoryEncoding 層\n",
    "\n",
    "進行類別編碼 (One-End Encoding)"
   ],
   "metadata": {
    "collapsed": false
   }
  },
  {
   "cell_type": "code",
   "execution_count": 32,
   "outputs": [
    {
     "data": {
      "text/plain": "<keras.src.layers.preprocessing.category_encoding.CategoryEncoding at 0x1d769eb1730>"
     },
     "execution_count": 32,
     "metadata": {},
     "output_type": "execute_result"
    }
   ],
   "source": [
    "_one_hot = tf.keras.layers.CategoryEncoding(num_tokens=_lookup.vocabulary_size())\n",
    "_one_hot"
   ],
   "metadata": {
    "collapsed": false,
    "ExecuteTime": {
     "end_time": "2023-10-23T21:04:28.121046Z",
     "start_time": "2023-10-23T21:04:27.985494300Z"
    }
   }
  },
  {
   "cell_type": "markdown",
   "source": [
    "###### 進行 One-Hot 編碼"
   ],
   "metadata": {
    "collapsed": false
   }
  },
  {
   "cell_type": "code",
   "execution_count": 33,
   "outputs": [
    {
     "name": "stdout",
     "output_type": "stream",
     "text": [
      "tf.Tensor(3, shape=(), dtype=int64) tf.Tensor([0. 0. 0. 1.], shape=(4,), dtype=float32)\n",
      "tf.Tensor(1, shape=(), dtype=int64) tf.Tensor([0. 1. 0. 0.], shape=(4,), dtype=float32)\n",
      "tf.Tensor(3, shape=(), dtype=int64) tf.Tensor([0. 0. 0. 1.], shape=(4,), dtype=float32)\n",
      "tf.Tensor(2, shape=(), dtype=int64) tf.Tensor([0. 0. 1. 0.], shape=(4,), dtype=float32)\n"
     ]
    }
   ],
   "source": [
    "print(_class_lookup[0], _one_hot(_class_lookup[0]))\n",
    "print(_class_lookup[1], _one_hot(_class_lookup[1]))\n",
    "print(_class_lookup[2], _one_hot(_class_lookup[2]))\n",
    "print(_class_lookup[7], _one_hot(_class_lookup[7]))"
   ],
   "metadata": {
    "collapsed": false,
    "ExecuteTime": {
     "end_time": "2023-10-23T21:04:28.142851600Z",
     "start_time": "2023-10-23T21:04:28.002362800Z"
    }
   }
  },
  {
   "cell_type": "markdown",
   "source": [
    "##### 對所有輸入是字串的進行編碼"
   ],
   "metadata": {
    "collapsed": false
   }
  },
  {
   "cell_type": "code",
   "execution_count": 34,
   "metadata": {
    "execution": {
     "iopub.execute_input": "2022-12-14T03:19:33.134937Z",
     "iopub.status.busy": "2022-12-14T03:19:33.134418Z",
     "iopub.status.idle": "2022-12-14T03:19:33.254853Z",
     "shell.execute_reply": "2022-12-14T03:19:33.254209Z"
    },
    "id": "79fi1Cgan2YV",
    "ExecuteTime": {
     "end_time": "2023-10-23T21:04:28.156880900Z",
     "start_time": "2023-10-23T21:04:28.035025900Z"
    }
   },
   "outputs": [],
   "source": [
    "for _name, _input in inputs.items():\n",
    "    if _input.dtype == tf.float32:\n",
    "        continue\n",
    "\n",
    "    lookup = tf.keras.layers.StringLookup(vocabulary=np.unique(titanic_features[_name]))\n",
    "    one_hot = tf.keras.layers.CategoryEncoding(num_tokens=lookup.vocabulary_size())\n",
    "\n",
    "    x = lookup(_input)\n",
    "    x = one_hot(x)\n",
    "    preprocessed_inputs.append(x)"
   ]
  },
  {
   "cell_type": "markdown",
   "metadata": {
    "id": "Wnhv0T7itnc7"
   },
   "source": [
    "#### 將所有預處理的 Input 連接起來"
   ]
  },
  {
   "cell_type": "code",
   "execution_count": 35,
   "metadata": {
    "execution": {
     "iopub.execute_input": "2022-12-14T03:19:33.258910Z",
     "iopub.status.busy": "2022-12-14T03:19:33.258421Z",
     "iopub.status.idle": "2022-12-14T03:19:33.495735Z",
     "shell.execute_reply": "2022-12-14T03:19:33.494879Z"
    },
    "id": "XJRzUTe8ukXc",
    "ExecuteTime": {
     "end_time": "2023-10-23T21:04:28.234560700Z",
     "start_time": "2023-10-23T21:04:28.143851200Z"
    }
   },
   "outputs": [
    {
     "data": {
      "text/plain": "<KerasTensor: shape=(None, 28) dtype=float32 (created by layer 'concatenate_1')>"
     },
     "execution_count": 35,
     "metadata": {},
     "output_type": "execute_result"
    }
   ],
   "source": [
    "preprocessed_inputs_cat = tf.keras.layers.Concatenate()(preprocessed_inputs)\n",
    "preprocessed_inputs_cat"
   ]
  },
  {
   "cell_type": "markdown",
   "source": [
    "#### 建立預處理模型"
   ],
   "metadata": {
    "collapsed": false
   }
  },
  {
   "cell_type": "code",
   "execution_count": 36,
   "outputs": [
    {
     "data": {
      "text/plain": "<keras.src.engine.functional.Functional at 0x1d769f23880>"
     },
     "execution_count": 36,
     "metadata": {},
     "output_type": "execute_result"
    }
   ],
   "source": [
    "titanic_preprocessing = tf.keras.Model(inputs, preprocessed_inputs_cat)\n",
    "titanic_preprocessing"
   ],
   "metadata": {
    "collapsed": false,
    "ExecuteTime": {
     "end_time": "2023-10-23T21:04:28.239560700Z",
     "start_time": "2023-10-23T21:04:28.158880700Z"
    }
   }
  },
  {
   "cell_type": "markdown",
   "source": [
    "#### 繪製出模型圖"
   ],
   "metadata": {
    "collapsed": false
   }
  },
  {
   "cell_type": "code",
   "execution_count": 37,
   "outputs": [
    {
     "name": "stdout",
     "output_type": "stream",
     "text": [
      "You must install pydot (`pip install pydot`) and install graphviz (see instructions at https://graphviz.gitlab.io/download/) for plot_model to work.\n"
     ]
    }
   ],
   "source": [
    "tf.keras.utils.plot_model(model = titanic_preprocessing , rankdir=\"LR\", dpi=72, show_shapes=True)"
   ],
   "metadata": {
    "collapsed": false,
    "ExecuteTime": {
     "end_time": "2023-10-23T21:04:28.239560700Z",
     "start_time": "2023-10-23T21:04:28.174921900Z"
    }
   }
  },
  {
   "cell_type": "markdown",
   "metadata": {
    "id": "PNHxrNW8vdda"
   },
   "source": [
    "### 將特徵值建立成字典型式"
   ]
  },
  {
   "cell_type": "code",
   "execution_count": 38,
   "metadata": {
    "execution": {
     "iopub.execute_input": "2022-12-14T03:19:33.500003Z",
     "iopub.status.busy": "2022-12-14T03:19:33.499751Z",
     "iopub.status.idle": "2022-12-14T03:19:33.503911Z",
     "shell.execute_reply": "2022-12-14T03:19:33.503370Z"
    },
    "id": "5YjdYyMEacwQ",
    "ExecuteTime": {
     "end_time": "2023-10-23T21:04:28.239560700Z",
     "start_time": "2023-10-23T21:04:28.188972800Z"
    }
   },
   "outputs": [],
   "source": [
    "titanic_features_dict = {name: np.array(value)\n",
    "                         for name, value in titanic_features.items()}"
   ]
  },
  {
   "cell_type": "markdown",
   "metadata": {
    "id": "0nKJYoPByada"
   },
   "source": [
    "### 將第一筆特徵資料送進預處理模型"
   ]
  },
  {
   "cell_type": "code",
   "execution_count": 39,
   "metadata": {
    "execution": {
     "iopub.execute_input": "2022-12-14T03:19:33.507062Z",
     "iopub.status.busy": "2022-12-14T03:19:33.506584Z",
     "iopub.status.idle": "2022-12-14T03:19:33.566765Z",
     "shell.execute_reply": "2022-12-14T03:19:33.566124Z"
    },
    "id": "SjnmU8PSv8T3",
    "ExecuteTime": {
     "end_time": "2023-10-23T21:04:28.279154400Z",
     "start_time": "2023-10-23T21:04:28.205014400Z"
    }
   },
   "outputs": [
    {
     "data": {
      "text/plain": "<tf.Tensor: shape=(1, 28), dtype=float32, numpy=\narray([[-0.61 ,  0.395, -0.479, -0.497,  0.   ,  0.   ,  1.   ,  0.   ,\n         0.   ,  0.   ,  1.   ,  0.   ,  0.   ,  0.   ,  0.   ,  0.   ,\n         0.   ,  0.   ,  0.   ,  1.   ,  0.   ,  0.   ,  0.   ,  1.   ,\n         0.   ,  0.   ,  1.   ,  0.   ]], dtype=float32)>"
     },
     "execution_count": 39,
     "metadata": {},
     "output_type": "execute_result"
    }
   ],
   "source": [
    "features_dict = {name: values[:1] for name, values in titanic_features_dict.items()}\n",
    "titanic_preprocessing(features_dict)"
   ]
  },
  {
   "cell_type": "markdown",
   "metadata": {
    "id": "qkBf4LvmzMDp"
   },
   "source": [
    "### 在預處理的基礎上建立預測模型"
   ]
  },
  {
   "cell_type": "code",
   "execution_count": 40,
   "metadata": {
    "execution": {
     "iopub.execute_input": "2022-12-14T03:19:33.570222Z",
     "iopub.status.busy": "2022-12-14T03:19:33.569636Z",
     "iopub.status.idle": "2022-12-14T03:19:33.707397Z",
     "shell.execute_reply": "2022-12-14T03:19:33.706763Z"
    },
    "id": "coIPtGaCzUV7",
    "ExecuteTime": {
     "end_time": "2023-10-23T21:04:28.358001100Z",
     "start_time": "2023-10-23T21:04:28.257117700Z"
    }
   },
   "outputs": [],
   "source": [
    "def titanic_model(_preprocessing_head, _input):\n",
    "    _body = tf.keras.Sequential([\n",
    "        tf.keras.layers.Dense(64),\n",
    "        tf.keras.layers.Dense(1)\n",
    "    ])\n",
    "\n",
    "    _preprocessed_inputs = _preprocessing_head(_input)\n",
    "    _result = _body(_preprocessed_inputs)\n",
    "    _model = tf.keras.Model(_input, _result)\n",
    "\n",
    "    _model.compile(loss=tf.keras.losses.BinaryCrossentropy(from_logits=True),\n",
    "                  optimizer=tf.keras.optimizers.Adam())\n",
    "    return _model\n"
   ]
  },
  {
   "cell_type": "code",
   "execution_count": 41,
   "outputs": [],
   "source": [
    "titanic_model = titanic_model(titanic_preprocessing, inputs)"
   ],
   "metadata": {
    "collapsed": false,
    "ExecuteTime": {
     "end_time": "2023-10-23T21:04:28.422232900Z",
     "start_time": "2023-10-23T21:04:28.272147100Z"
    }
   }
  },
  {
   "cell_type": "markdown",
   "metadata": {
    "id": "LK5uBQQF2KbZ"
   },
   "source": [
    "### 訓練預測模型"
   ]
  },
  {
   "cell_type": "code",
   "execution_count": 42,
   "metadata": {
    "execution": {
     "iopub.execute_input": "2022-12-14T03:19:33.711957Z",
     "iopub.status.busy": "2022-12-14T03:19:33.711394Z",
     "iopub.status.idle": "2022-12-14T03:19:35.707588Z",
     "shell.execute_reply": "2022-12-14T03:19:35.706911Z"
    },
    "id": "D1gVfwJ61ejz",
    "ExecuteTime": {
     "end_time": "2023-10-23T21:04:29.864030800Z",
     "start_time": "2023-10-23T21:04:28.396666400Z"
    }
   },
   "outputs": [
    {
     "name": "stdout",
     "output_type": "stream",
     "text": [
      "Epoch 1/10\n",
      "20/20 [==============================] - 1s 4ms/step - loss: 0.7054\n",
      "Epoch 2/10\n",
      "20/20 [==============================] - 0s 4ms/step - loss: 0.5915\n",
      "Epoch 3/10\n",
      "20/20 [==============================] - 0s 2ms/step - loss: 0.5383\n",
      "Epoch 4/10\n",
      "20/20 [==============================] - 0s 2ms/step - loss: 0.5006\n",
      "Epoch 5/10\n",
      "20/20 [==============================] - 0s 1ms/step - loss: 0.4733\n",
      "Epoch 6/10\n",
      "20/20 [==============================] - 0s 1ms/step - loss: 0.4549\n",
      "Epoch 7/10\n",
      "20/20 [==============================] - 0s 1ms/step - loss: 0.4419\n",
      "Epoch 8/10\n",
      "20/20 [==============================] - 0s 1ms/step - loss: 0.4329\n",
      "Epoch 9/10\n",
      "20/20 [==============================] - 0s 1ms/step - loss: 0.4276\n",
      "Epoch 10/10\n",
      "20/20 [==============================] - 0s 1ms/step - loss: 0.4241\n"
     ]
    },
    {
     "data": {
      "text/plain": "<keras.src.callbacks.History at 0x1d76af93820>"
     },
     "execution_count": 42,
     "metadata": {},
     "output_type": "execute_result"
    }
   ],
   "source": [
    "titanic_model.fit(x=titanic_features_dict, y=titanic_labels, epochs=10)"
   ]
  },
  {
   "cell_type": "markdown",
   "metadata": {
    "id": "LxgJarZk3bfH"
   },
   "source": [
    "### 儲存與載入模型"
   ]
  },
  {
   "cell_type": "code",
   "execution_count": 43,
   "metadata": {
    "execution": {
     "iopub.execute_input": "2022-12-14T03:19:35.711122Z",
     "iopub.status.busy": "2022-12-14T03:19:35.710528Z",
     "iopub.status.idle": "2022-12-14T03:19:39.187899Z",
     "shell.execute_reply": "2022-12-14T03:19:39.187177Z"
    },
    "id": "Ay-8ymNA2ZCh",
    "ExecuteTime": {
     "end_time": "2023-10-23T21:04:31.975236200Z",
     "start_time": "2023-10-23T21:04:29.840979400Z"
    }
   },
   "outputs": [
    {
     "name": "stdout",
     "output_type": "stream",
     "text": [
      "INFO:tensorflow:Assets written to: ./output/07_model_test\\assets\n"
     ]
    },
    {
     "name": "stderr",
     "output_type": "stream",
     "text": [
      "INFO:tensorflow:Assets written to: ./output/07_model_test\\assets\n"
     ]
    }
   ],
   "source": [
    "titanic_model.save('./output/07_model_test')\n",
    "reloaded = tf.keras.models.load_model('./output/07_model_test')"
   ]
  },
  {
   "cell_type": "markdown",
   "source": [
    "#### 測試儲存的模型"
   ],
   "metadata": {
    "collapsed": false
   }
  },
  {
   "cell_type": "code",
   "execution_count": 44,
   "outputs": [
    {
     "name": "stdout",
     "output_type": "stream",
     "text": [
      "tf.Tensor([[-1.771]], shape=(1, 1), dtype=float32)\n",
      "tf.Tensor([[-1.771]], shape=(1, 1), dtype=float32)\n"
     ]
    }
   ],
   "source": [
    "features_dict = {name: values[:1] for name, values in titanic_features_dict.items()}\n",
    "\n",
    "before = titanic_model(features_dict)\n",
    "after = reloaded(features_dict)\n",
    "assert (before - after) < 1e-3\n",
    "print(before)\n",
    "print(after)"
   ],
   "metadata": {
    "collapsed": false,
    "ExecuteTime": {
     "end_time": "2023-10-23T21:04:32.037422700Z",
     "start_time": "2023-10-23T21:04:31.979229800Z"
    }
   }
  },
  {
   "cell_type": "markdown",
   "source": [
    "## 使用 tf.data 來處理資料"
   ],
   "metadata": {
    "collapsed": false
   }
  },
  {
   "cell_type": "markdown",
   "source": [
    "..."
   ],
   "metadata": {
    "collapsed": false
   }
  }
 ],
 "metadata": {
  "colab": {
   "collapsed_sections": [],
   "name": "csv.ipynb",
   "toc_visible": true
  },
  "kernelspec": {
   "name": "python3",
   "language": "python",
   "display_name": "Python 3 (ipykernel)"
  },
  "language_info": {
   "codemirror_mode": {
    "name": "ipython",
    "version": 3
   },
   "file_extension": ".py",
   "mimetype": "text/x-python",
   "name": "python",
   "nbconvert_exporter": "python",
   "pygments_lexer": "ipython3",
   "version": "3.9.16"
  }
 },
 "nbformat": 4,
 "nbformat_minor": 0
}
