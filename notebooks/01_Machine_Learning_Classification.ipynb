{
 "cells": [
  {
   "cell_type": "markdown",
   "id": "93ff66e94302fe33",
   "metadata": {},
   "source": [
    "# 訓練機器學習進行分類"
   ]
  },
  {
   "cell_type": "markdown",
   "id": "fdcaefb344874c01",
   "metadata": {
    "collapsed": false
   },
   "source": [
    "## 目錄"
   ]
  },
  {
   "cell_type": "markdown",
   "id": "3b44578972d3fc2d",
   "metadata": {
    "collapsed": false
   },
   "source": [
    "- 人工神經網路\n",
    "- 利用 Iris 資料集訓練感知器"
   ]
  },
  {
   "cell_type": "markdown",
   "id": "ad250405d71e8782",
   "metadata": {},
   "source": [
    "# 在 Python 中實作感知器學習演算法"
   ]
  },
  {
   "cell_type": "markdown",
   "id": "1abd56601fc69dc6",
   "metadata": {
    "collapsed": false
   },
   "source": [
    "## 實作感知器 "
   ]
  },
  {
   "cell_type": "code",
   "execution_count": null,
   "id": "initial_id",
   "metadata": {},
   "outputs": [],
   "source": [
    "import numpy as np\n",
    "\n",
    "\n",
    "class Perceptron:\n",
    "    def __init__(self, eta=0.01, n_iter=50, random_state=1):\n",
    "        # 學習率 Learning rate (介於 0.0 到 1.0 之間) \n",
    "        self._eta = eta\n",
    "        # 回合數 Epoch\n",
    "        self._n_iter = n_iter\n",
    "        # 用於隨機權重初始化的隨機數產生器種子。\n",
    "        self._random_state = random_state #\n",
    "        # 權重\n",
    "        self._weights = np.asarray([]) # 1d-array\n",
    "        # 損失\n",
    "        self.errors = [] # list\n",
    "\n",
    "    # 擬合模型\n",
    "    def fit(self, x, y):\n",
    "        rgen = np.random.RandomState(self._random_state)\n",
    "        self._weights = rgen.normal(loc=0.0, scale=0.01, size=1 + x.shape[1])\n",
    "        self.errors = []\n",
    "\n",
    "        for _ in range(self._n_iter):\n",
    "            errors = 0\n",
    "            for xi, target in zip(x, y):\n",
    "                update = self._eta * (target - self.predict(xi))\n",
    "                self._weights[1:] += update * xi\n",
    "                self._weights[0] += update\n",
    "                errors += int(update != 0.0)\n",
    "            self.errors.append(errors)\n",
    "        return self\n",
    "\n",
    "    # 計算網路輸入\n",
    "    def net_input(self, x):\n",
    "        return np.dot(x, self._weights[1:]) + self._weights[0]\n",
    "\n",
    "    # 預測類別標記\n",
    "    def predict(self, x):\n",
    "        return np.where(self.net_input(x) >= 0.0, 1, -1)"
   ]
  },
  {
   "cell_type": "markdown",
   "id": "7b95b8b40ffcb575",
   "metadata": {},
   "source": [
    "## 利用 Iris 資料集來訓練感知器(Perceptron)\n",
    "\n",
    "使用網路中的開放資料集，來訓練感知器。"
   ]
  },
  {
   "cell_type": "markdown",
   "id": "ef64cbf274327097",
   "metadata": {},
   "source": [
    "### 讀取 Iris 資料集 (網路)"
   ]
  },
  {
   "cell_type": "code",
   "execution_count": null,
   "id": "6d9cfc8631bf2557",
   "metadata": {},
   "outputs": [],
   "source": [
    "import pandas as pd\n",
    "\n",
    "iris_dataset_url = 'https://archive.ics.uci.edu/ml/machine-learning-databases/iris/iris.data'\n",
    "df = pd.read_csv(iris_dataset_url,\n",
    "                 header=None,\n",
    "                 names=[\"花萼長度\", \"花萼寬度\", \"花瓣長度\", \"花瓣寬度\", \"標籤\"],\n",
    "                 encoding='utf-8')\n",
    "\n",
    "\n",
    "df.tail()"
   ]
  },
  {
   "cell_type": "markdown",
   "id": "7d5fceee358d4fde",
   "metadata": {},
   "source": [
    "### 讀取 Iris 的資料集 (本地)"
   ]
  },
  {
   "cell_type": "code",
   "execution_count": null,
   "id": "c4c6d27cdd88cc7",
   "metadata": {
    "collapsed": false
   },
   "outputs": [],
   "source": [
    "df = pd.read_csv(\"./resources/iris_data.csv\", \n",
    "                 header=None,\n",
    "                 names=[\"花萼長度\", \"花萼寬度\", \"花瓣長度\", \"花瓣寬度\", \"標籤\"], \n",
    "                 encoding='utf-8')\n",
    "df.tail()"
   ]
  },
  {
   "cell_type": "markdown",
   "id": "333b76d5be795344",
   "metadata": {
    "collapsed": false
   },
   "source": [
    "讓 MatPlotLib 可以使用中文字型"
   ]
  },
  {
   "cell_type": "code",
   "execution_count": null,
   "id": "91f6f145b69f2a41",
   "metadata": {
    "collapsed": false
   },
   "outputs": [],
   "source": [
    "import matplotlib as mlp\n",
    "from matplotlib.font_manager import fontManager\n",
    "\n",
    "fontManager.addfont('./resources/NotoSansTC.ttf')\n",
    "mlp.rc(\"font\", family=\"Noto Sans TC\")"
   ]
  },
  {
   "cell_type": "code",
   "execution_count": null,
   "id": "c7d0b3f94a36f60",
   "metadata": {},
   "outputs": [],
   "source": [
    "%matplotlib inline\n",
    "import matplotlib.pyplot as plt\n",
    "import numpy as np\n",
    "\n",
    "# 選擇 ‘setosa’ 與 ‘versicolor’\n",
    "y_label = df.iloc[0:100, 4].values\n",
    "y_label = np.where(y_label == 'Iris-setosa', -1, 1)\n",
    "\n",
    "# 提取花萼長度與花瓣長度\n",
    "x_train = df.iloc[0:100, [0, 2]].values\n",
    "\n",
    "# 資料繪圖\n",
    "plt.scatter(x_train[:50, 0], x_train[:50, 1],\n",
    "            color='red', marker='o', label='setosa (山鳶尾)')\n",
    "plt.scatter(x_train[50:100, 0], x_train[50:100, 1],\n",
    "            color='blue', marker='x', label='versicolor (變色鳶尾)')\n",
    "\n",
    "plt.xlabel('花萼長度 [cm]')\n",
    "plt.ylabel('花瓣長度 [cm]')\n",
    "plt.legend(loc='upper left')\n",
    "\n",
    "plt.show()"
   ]
  },
  {
   "cell_type": "code",
   "execution_count": null,
   "id": "fd94b760",
   "metadata": {},
   "outputs": [],
   "source": [
    "ppn = Perceptron(eta=0.1, n_iter=10)\n",
    "\n",
    "ppn.fit(x_train, y_label)\n",
    "\n",
    "plt.plot(range(1, len(ppn.errors) + 1), ppn.errors, marker='o')\n",
    "plt.xlabel('回合')\n",
    "plt.ylabel('錯誤率')\n",
    "\n",
    "plt.show()"
   ]
  },
  {
   "cell_type": "code",
   "execution_count": null,
   "id": "ef92e0348eb12be5",
   "metadata": {
    "collapsed": false
   },
   "outputs": [],
   "source": [
    "from matplotlib.colors import ListedColormap\n",
    "\n",
    "\n",
    "def plot_decision_regions(x, y, classifier, resolution=0.02):\n",
    "    # 設定標記和顏色\n",
    "    markers = ('s', 'x', 'o', '^', 'v')\n",
    "    colors = ('red', 'blue', 'lightgreen', 'gray', 'cyan')\n",
    "    cmap = ListedColormap(colors[:len(np.unique(y))])\n",
    "\n",
    "    # 繪製決策邊界\n",
    "    x1_min, x1_max = x[:, 0].min() - 1, x[:, 0].max() + 1\n",
    "    x2_min, x2_max = x[:, 1].min() - 1, x[:, 1].max() + 1\n",
    "    xx1, xx2 = np.meshgrid(np.arange(x1_min, x1_max, resolution),\n",
    "                           np.arange(x2_min, x2_max, resolution))\n",
    "    z = classifier.predict(np.array([xx1.ravel(), xx2.ravel()]).T)\n",
    "    z = z.reshape(xx1.shape)\n",
    "    plt.contourf(xx1, xx2, z, alpha=0.3, cmap=cmap)\n",
    "    plt.xlim(xx1.min(), xx1.max())\n",
    "    plt.ylim(xx2.min(), xx2.max())\n",
    "    \n",
    "    \n",
    "    # 繪製訓練資料點\n",
    "    for idx, cl in enumerate(np.unique(y)):\n",
    "        plt.scatter(x=x[y == cl, 0],\n",
    "                    y=x[y == cl, 1],\n",
    "                    alpha=0.8,\n",
    "                    c=colors[idx],\n",
    "                    marker=markers[idx],\n",
    "                    label=cl)"
   ]
  },
  {
   "cell_type": "code",
   "execution_count": null,
   "id": "a546e57fc9880af0",
   "metadata": {
    "collapsed": false
   },
   "outputs": [],
   "source": [
    "plot_decision_regions(x_train, y_label, classifier=ppn)\n",
    "\n",
    "plt.xlabel('花萼長度 [cm]')\n",
    "plt.ylabel('花瓣長度 [cm]')\n",
    "plt.legend(loc='upper left')\n",
    "\n",
    "plt.show()"
   ]
  },
  {
   "cell_type": "code",
   "execution_count": null,
   "id": "3ceef035d88d9576",
   "metadata": {
    "collapsed": false
   },
   "outputs": [],
   "source": [
    "class AdalineGD(object):\n",
    "    def __init__(self, eta=0.01, n_iter=50, random_state=1):\n",
    "        self._eta = eta\n",
    "        self._n_iter = n_iter\n",
    "        self._random_state = random_state\n",
    "        self._weights = np.array([])\n",
    "        self.cost = []\n",
    "\n",
    "    def fit(self, x, y):\n",
    "        rgen = np.random.RandomState(self._random_state)\n",
    "        self._weights = rgen.normal(loc=0.0, scale=0.01, size=1 + x.shape[1])\n",
    "        self.cost = []\n",
    "\n",
    "        for i in range(self._n_iter):\n",
    "            net_input = self.net_input(x)\n",
    "            output = self.activation(net_input)\n",
    "            errors = (y - output)\n",
    "            # w = w + \\Delta{w} => w += \\Delta{w} => w += \\eta(y-\\hat{y})x^T\n",
    "            self._weights[1:] += self._eta * x.T.dot(errors)\n",
    "            self._weights[0] += self._eta * errors.sum()\n",
    "            cost = (errors**2).sum() / 2.0 # 誤差平方和 (Sum of the Squared Errors, SSE)\n",
    "            self.cost.append(cost)\n",
    "        return self\n",
    "\n",
    "    def net_input(self, x):\n",
    "        # z = xw + b\n",
    "        return np.dot(x, self._weights[1:]) + self._weights[0]\n",
    "\n",
    "    def activation(self, x):\n",
    "        return x\n",
    "\n",
    "    def predict(self, x):\n",
    "        return np.where(self.activation(self.net_input(x)) >= 0.0, 1, -1)"
   ]
  },
  {
   "cell_type": "code",
   "execution_count": null,
   "outputs": [],
   "source": [
    "# standardize features\n",
    "X_std = np.copy(x_train)\n",
    "X_std[:, 0] = (x_train[:, 0] - x_train[:, 0].mean()) / x_train[:, 0].std()\n",
    "X_std[:, 1] = (x_train[:, 1] - x_train[:, 1].mean()) / x_train[:, 1].std()"
   ],
   "metadata": {
    "collapsed": false
   },
   "id": "b0c0a0699f868e44"
  },
  {
   "cell_type": "code",
   "execution_count": null,
   "outputs": [],
   "source": [
    "ada_gd = AdalineGD(n_iter=15, eta=0.01)\n",
    "ada_gd.fit(X_std, y_label)\n",
    "\n",
    "plot_decision_regions(X_std, y_label, classifier=ada_gd)\n",
    "plt.title('自適應線性神經元 - 梯度下降')\n",
    "plt.xlabel('花萼長度 [標準化]')\n",
    "plt.ylabel('花瓣長度 [標準化]')\n",
    "plt.legend(loc='upper left')\n",
    "plt.tight_layout()\n",
    "plt.show()\n",
    "\n",
    "plt.plot(range(1, len(ada_gd.cost) + 1), ada_gd.cost, marker='o')\n",
    "plt.xlabel('回合')\n",
    "plt.ylabel('誤差平方和')\n",
    "\n",
    "plt.tight_layout()\n",
    "plt.show()"
   ],
   "metadata": {
    "collapsed": false
   },
   "id": "eb3157d8d30c2d68"
  }
 ],
 "metadata": {
  "kernelspec": {
   "display_name": "Python 3 (ipykernel)",
   "language": "python",
   "name": "python3"
  },
  "language_info": {
   "codemirror_mode": {
    "name": "ipython",
    "version": 3
   },
   "file_extension": ".py",
   "mimetype": "text/x-python",
   "name": "python",
   "nbconvert_exporter": "python",
   "pygments_lexer": "ipython3",
   "version": "3.8.17"
  }
 },
 "nbformat": 4,
 "nbformat_minor": 5
}
