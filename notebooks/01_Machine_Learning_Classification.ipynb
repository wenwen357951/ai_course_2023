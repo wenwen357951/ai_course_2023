{
 "cells": [
  {
   "attachments": {},
   "cell_type": "markdown",
   "id": "93ff66e94302fe33",
   "metadata": {},
   "source": [
    "# 01. 訓練機器學習進行分類"
   ]
  },
  {
   "attachments": {},
   "cell_type": "markdown",
   "id": "fdcaefb344874c01",
   "metadata": {
    "collapsed": false
   },
   "source": [
    "## 目錄"
   ]
  },
  {
   "attachments": {},
   "cell_type": "markdown",
   "id": "3b44578972d3fc2d",
   "metadata": {
    "collapsed": false
   },
   "source": [
    "- 在 Python 中實作感知器學習演算法\n",
    "- 利用 Iris 資料集來訓練感知器(Perceptron)\n",
    "- 使用 Matplotlib 繪製決策邊界\n",
    "- 實作自適應梯度下降線性神經網路 (AdalineGD)"
   ]
  },
  {
   "attachments": {},
   "cell_type": "markdown",
   "id": "ad250405d71e8782",
   "metadata": {},
   "source": [
    "# 在 Python 中實作感知器學習演算法"
   ]
  },
  {
   "attachments": {},
   "cell_type": "markdown",
   "id": "1abd56601fc69dc6",
   "metadata": {
    "collapsed": false
   },
   "source": [
    "## 實作感知器 "
   ]
  },
  {
   "cell_type": "code",
   "execution_count": 1,
   "id": "initial_id",
   "metadata": {
    "ExecuteTime": {
     "end_time": "2023-09-26T06:25:24.723607Z",
     "start_time": "2023-09-26T06:25:24.623420Z"
    }
   },
   "outputs": [],
   "source": [
    "# 匯入 Numpy 套件\n",
    "import numpy as np\n",
    "\n",
    "# 實作感知器類別\n",
    "class Perceptron:\n",
    "    def __init__(self, eta=0.01, n_iter=50, random_state=1):\n",
    "        # LR 0.0 ~ 0.1\n",
    "        self._eta = eta\n",
    "        # Epoch\n",
    "        self._n_iter = n_iter\n",
    "        # Random seed\n",
    "        self._random_state = random_state\n",
    "        self._weights = np.asarray([])\n",
    "        self.errors = []\n",
    "\n",
    "    # 擬合模型\n",
    "    def fit(self, x, y):\n",
    "        rgen = np.random.RandomState(self._random_state)\n",
    "        self._weights = rgen.normal(loc=0.0, scale=0.01, size=x.shape[1] + 1)\n",
    "        self.errors = []\n",
    "\n",
    "        for _ in range(self._n_iter):\n",
    "            errors = 0\n",
    "            for xi, target in zip(x, y):\n",
    "                update = self._eta * (target - self.predict(xi))\n",
    "                self._weights[1:] += update * xi\n",
    "                self._weights[0] += update\n",
    "                errors += int(update != 0.0)\n",
    "\n",
    "            self.errors.append(errors)\n",
    "\n",
    "        return self\n",
    "\n",
    "\n",
    "    # 計算網路輸入\n",
    "    def net_input(self, x):\n",
    "        return np.dot(x, self._weights[1:]) + self._weights[0]\n",
    "\n",
    "    # 預測類別標記\n",
    "    def predict(self, x):\n",
    "        # 當 Param 1 , 條件達成, 條件失敗\n",
    "        return np.where(self.net_input(x) >= 0.0, 1, -1)"
   ]
  },
  {
   "attachments": {},
   "cell_type": "markdown",
   "id": "7b95b8b40ffcb575",
   "metadata": {},
   "source": [
    "# 利用 Iris 資料集來訓練感知器(Perceptron)\n",
    "\n",
    "使用網路中的開放資料集，來訓練感知器。"
   ]
  },
  {
   "attachments": {},
   "cell_type": "markdown",
   "id": "ef64cbf274327097",
   "metadata": {},
   "source": [
    "## 讀取 Iris 資料集 (網路)\n",
    "\n",
    "URL: https://archive.ics.uci.edu/ml/machine-learning-databases/iris/iris.data\n",
    "\n",
    "屬性：\n",
    "- Sepal length: 花萼長度 (cm)\n",
    "- Sepal width: 花萼寬度 (cm)\n",
    "- Petal length: 花瓣長度 (cm)\n",
    "- Petal width: 花瓣寬度 (cm)\n",
    "\n",
    "標籤：\n",
    "- setosa: 山鳶尾\n",
    "- versicolor: 變色鳶尾\n",
    "- virginica: 維吉尼亞鳶尾\n"
   ]
  },
  {
   "cell_type": "code",
   "execution_count": 2,
   "id": "6d9cfc8631bf2557",
   "metadata": {
    "ExecuteTime": {
     "end_time": "2023-09-26T06:25:25.476318Z",
     "start_time": "2023-09-26T06:25:24.731016Z"
    }
   },
   "outputs": [
    {
     "data": {
      "text/html": [
       "<div>\n",
       "<style scoped>\n",
       "    .dataframe tbody tr th:only-of-type {\n",
       "        vertical-align: middle;\n",
       "    }\n",
       "\n",
       "    .dataframe tbody tr th {\n",
       "        vertical-align: top;\n",
       "    }\n",
       "\n",
       "    .dataframe thead th {\n",
       "        text-align: right;\n",
       "    }\n",
       "</style>\n",
       "<table border=\"1\" class=\"dataframe\">\n",
       "  <thead>\n",
       "    <tr style=\"text-align: right;\">\n",
       "      <th></th>\n",
       "      <th>花萼長度</th>\n",
       "      <th>花萼寬度</th>\n",
       "      <th>花瓣長度</th>\n",
       "      <th>花瓣寬度</th>\n",
       "      <th>標籤</th>\n",
       "    </tr>\n",
       "  </thead>\n",
       "  <tbody>\n",
       "    <tr>\n",
       "      <th>145</th>\n",
       "      <td>6.7</td>\n",
       "      <td>3.0</td>\n",
       "      <td>5.2</td>\n",
       "      <td>2.3</td>\n",
       "      <td>Iris-virginica</td>\n",
       "    </tr>\n",
       "    <tr>\n",
       "      <th>146</th>\n",
       "      <td>6.3</td>\n",
       "      <td>2.5</td>\n",
       "      <td>5.0</td>\n",
       "      <td>1.9</td>\n",
       "      <td>Iris-virginica</td>\n",
       "    </tr>\n",
       "    <tr>\n",
       "      <th>147</th>\n",
       "      <td>6.5</td>\n",
       "      <td>3.0</td>\n",
       "      <td>5.2</td>\n",
       "      <td>2.0</td>\n",
       "      <td>Iris-virginica</td>\n",
       "    </tr>\n",
       "    <tr>\n",
       "      <th>148</th>\n",
       "      <td>6.2</td>\n",
       "      <td>3.4</td>\n",
       "      <td>5.4</td>\n",
       "      <td>2.3</td>\n",
       "      <td>Iris-virginica</td>\n",
       "    </tr>\n",
       "    <tr>\n",
       "      <th>149</th>\n",
       "      <td>5.9</td>\n",
       "      <td>3.0</td>\n",
       "      <td>5.1</td>\n",
       "      <td>1.8</td>\n",
       "      <td>Iris-virginica</td>\n",
       "    </tr>\n",
       "  </tbody>\n",
       "</table>\n",
       "</div>"
      ],
      "text/plain": [
       "     花萼長度  花萼寬度  花瓣長度  花瓣寬度              標籤\n",
       "145   6.7   3.0   5.2   2.3  Iris-virginica\n",
       "146   6.3   2.5   5.0   1.9  Iris-virginica\n",
       "147   6.5   3.0   5.2   2.0  Iris-virginica\n",
       "148   6.2   3.4   5.4   2.3  Iris-virginica\n",
       "149   5.9   3.0   5.1   1.8  Iris-virginica"
      ]
     },
     "execution_count": 2,
     "metadata": {},
     "output_type": "execute_result"
    }
   ],
   "source": [
    "# 匯入 Pandas 套件\n",
    "\n",
    "# 載入 Iris 資料集\n",
    "\n",
    "# 顯示最後 n 筆資料"
   ]
  },
  {
   "attachments": {},
   "cell_type": "markdown",
   "id": "7d5fceee358d4fde",
   "metadata": {},
   "source": [
    "## 讀取 Iris 的資料集 (本地)"
   ]
  },
  {
   "cell_type": "code",
   "execution_count": 3,
   "id": "c4c6d27cdd88cc7",
   "metadata": {
    "ExecuteTime": {
     "end_time": "2023-09-26T06:25:25.479578Z",
     "start_time": "2023-09-26T06:25:25.472060Z"
    },
    "collapsed": false
   },
   "outputs": [
    {
     "data": {
      "text/html": [
       "<div>\n",
       "<style scoped>\n",
       "    .dataframe tbody tr th:only-of-type {\n",
       "        vertical-align: middle;\n",
       "    }\n",
       "\n",
       "    .dataframe tbody tr th {\n",
       "        vertical-align: top;\n",
       "    }\n",
       "\n",
       "    .dataframe thead th {\n",
       "        text-align: right;\n",
       "    }\n",
       "</style>\n",
       "<table border=\"1\" class=\"dataframe\">\n",
       "  <thead>\n",
       "    <tr style=\"text-align: right;\">\n",
       "      <th></th>\n",
       "      <th>花萼長度</th>\n",
       "      <th>花萼寬度</th>\n",
       "      <th>花瓣長度</th>\n",
       "      <th>花瓣寬度</th>\n",
       "      <th>標籤</th>\n",
       "    </tr>\n",
       "  </thead>\n",
       "  <tbody>\n",
       "    <tr>\n",
       "      <th>145</th>\n",
       "      <td>6.7</td>\n",
       "      <td>3.0</td>\n",
       "      <td>5.2</td>\n",
       "      <td>2.3</td>\n",
       "      <td>Iris-virginica</td>\n",
       "    </tr>\n",
       "    <tr>\n",
       "      <th>146</th>\n",
       "      <td>6.3</td>\n",
       "      <td>2.5</td>\n",
       "      <td>5.0</td>\n",
       "      <td>1.9</td>\n",
       "      <td>Iris-virginica</td>\n",
       "    </tr>\n",
       "    <tr>\n",
       "      <th>147</th>\n",
       "      <td>6.5</td>\n",
       "      <td>3.0</td>\n",
       "      <td>5.2</td>\n",
       "      <td>2.0</td>\n",
       "      <td>Iris-virginica</td>\n",
       "    </tr>\n",
       "    <tr>\n",
       "      <th>148</th>\n",
       "      <td>6.2</td>\n",
       "      <td>3.4</td>\n",
       "      <td>5.4</td>\n",
       "      <td>2.3</td>\n",
       "      <td>Iris-virginica</td>\n",
       "    </tr>\n",
       "    <tr>\n",
       "      <th>149</th>\n",
       "      <td>5.9</td>\n",
       "      <td>3.0</td>\n",
       "      <td>5.1</td>\n",
       "      <td>1.8</td>\n",
       "      <td>Iris-virginica</td>\n",
       "    </tr>\n",
       "  </tbody>\n",
       "</table>\n",
       "</div>"
      ],
      "text/plain": [
       "     花萼長度  花萼寬度  花瓣長度  花瓣寬度              標籤\n",
       "145   6.7   3.0   5.2   2.3  Iris-virginica\n",
       "146   6.3   2.5   5.0   1.9  Iris-virginica\n",
       "147   6.5   3.0   5.2   2.0  Iris-virginica\n",
       "148   6.2   3.4   5.4   2.3  Iris-virginica\n",
       "149   5.9   3.0   5.1   1.8  Iris-virginica"
      ]
     },
     "execution_count": 3,
     "metadata": {},
     "output_type": "execute_result"
    }
   ],
   "source": [
    "# 載入本地的 Iris 資料集\n",
    "\n",
    "# 顯示幾筆資料\n"
   ]
  },
  {
   "attachments": {},
   "cell_type": "markdown",
   "id": "19f3ff66a4ca64d5",
   "metadata": {
    "collapsed": false
   },
   "source": [
    "## 讓 MatPlotLib 可以使用中文字型\n",
    "\n",
    "字體下載: [Noto Sans TC](https://github.com/wenwen357951/ai_course_2023/raw/main/notebooks/resources/NotoSansTC.ttf)"
   ]
  },
  {
   "cell_type": "code",
   "execution_count": 4,
   "id": "91f6f145b69f2a41",
   "metadata": {
    "ExecuteTime": {
     "end_time": "2023-09-26T06:25:25.600134Z",
     "start_time": "2023-09-26T06:25:25.482914Z"
    },
    "collapsed": false
   },
   "outputs": [],
   "source": [
    "# 匯入 matplotlib 套件\n",
    "\n",
    "# 匯入 matplotlib 的字體管理器\n",
    "\n",
    "\n",
    "# 使用 fontManager 加入字體\n",
    "\n",
    "# 將 matplotlib 切換字體\n"
   ]
  },
  {
   "attachments": {},
   "cell_type": "markdown",
   "id": "e6bc28f90b7a3ed0",
   "metadata": {
    "collapsed": false
   },
   "source": [
    "## 繪製資料分布圖"
   ]
  },
  {
   "cell_type": "code",
   "execution_count": 5,
   "id": "381422a50e4e0191",
   "metadata": {
    "ExecuteTime": {
     "end_time": "2023-09-26T06:25:25.804349Z",
     "start_time": "2023-09-26T06:25:25.571762Z"
    },
    "collapsed": false
   },
   "outputs": [
    {
     "data": {
      "image/png": "[encoded data removed]",
      "text/plain": [
       "<Figure size 640x480 with 1 Axes>"
      ]
     },
     "metadata": {},
     "output_type": "display_data"
    }
   ],
   "source": [
    "# 匯入 matplotlib 套件的畫布工具\n",
    "\n",
    "# 匯入 numpy 套件\n",
    "\n",
    "\n",
    "# 選擇 ‘setosa’ 與 ‘versicolor’\n",
    "\n",
    "\n",
    "# 提取花萼長度與花瓣長度\n",
    "\n",
    "\n",
    "# 資料繪圖\n"
   ]
  },
  {
   "attachments": {},
   "cell_type": "markdown",
   "id": "a4689dfc50e5786f",
   "metadata": {
    "collapsed": false
   },
   "source": [
    "## 模型擬合"
   ]
  },
  {
   "cell_type": "code",
   "execution_count": 6,
   "id": "fd94b760",
   "metadata": {
    "ExecuteTime": {
     "end_time": "2023-09-26T06:25:25.883425Z",
     "start_time": "2023-09-26T06:25:25.823430Z"
    }
   },
   "outputs": [
    {
     "data": {
      "image/png": "[encoded data removed]",
      "text/plain": [
       "<Figure size 640x480 with 1 Axes>"
      ]
     },
     "metadata": {},
     "output_type": "display_data"
    }
   ],
   "source": [
    "# 使用 Perceptron 來擬合資料\n",
    "\n",
    "# 資料繪圖\n"
   ]
  },
  {
   "attachments": {},
   "cell_type": "markdown",
   "id": "5b06cc0f51bc995f",
   "metadata": {
    "collapsed": false
   },
   "source": [
    "# 使用 Matplotlib 繪製決策邊界"
   ]
  },
  {
   "cell_type": "code",
   "execution_count": 7,
   "id": "54fde9ff3179acd",
   "metadata": {
    "ExecuteTime": {
     "end_time": "2023-09-26T06:25:25.889366Z",
     "start_time": "2023-09-26T06:25:25.881020Z"
    },
    "collapsed": false
   },
   "outputs": [],
   "source": [
    "# 匯入 matplotlib 的顏色映射清單\n",
    "\n",
    "\n",
    "\n",
    "# 實作繪製決策邊界區域副程式\n"
   ]
  },
  {
   "attachments": {},
   "cell_type": "markdown",
   "id": "8963f7f86b7a8678",
   "metadata": {
    "collapsed": false
   },
   "source": [
    "## 繪製決策邊界"
   ]
  },
  {
   "cell_type": "code",
   "execution_count": 8,
   "id": "a546e57fc9880af0",
   "metadata": {
    "ExecuteTime": {
     "end_time": "2023-09-26T06:25:26.152406Z",
     "start_time": "2023-09-26T06:25:25.889034Z"
    },
    "collapsed": false
   },
   "outputs": [
    {
     "data": {
      "image/png": "[encoded data removed]",
      "text/plain": [
       "<Figure size 640x480 with 1 Axes>"
      ]
     },
     "metadata": {},
     "output_type": "display_data"
    }
   ],
   "source": [
    "# 繪製決策邊界\n"
   ]
  },
  {
   "attachments": {},
   "cell_type": "markdown",
   "id": "db784438563872a3",
   "metadata": {
    "collapsed": false
   },
   "source": [
    "# 實作自適應梯度下降線性神經網路 (AdalineGD)"
   ]
  },
  {
   "cell_type": "code",
   "execution_count": 9,
   "id": "3ceef035d88d9576",
   "metadata": {
    "ExecuteTime": {
     "end_time": "2023-09-26T06:25:26.163326Z",
     "start_time": "2023-09-26T06:25:26.160318Z"
    },
    "collapsed": false
   },
   "outputs": [],
   "source": [
    "# 實作 AdalineGD\n"
   ]
  },
  {
   "attachments": {},
   "cell_type": "markdown",
   "id": "3e14a23215363909",
   "metadata": {
    "collapsed": false
   },
   "source": [
    "## 資料標準化，特徵縮放"
   ]
  },
  {
   "cell_type": "code",
   "execution_count": 10,
   "id": "6c017aa2a7ab0eba",
   "metadata": {
    "ExecuteTime": {
     "end_time": "2023-09-26T06:25:26.174121Z",
     "start_time": "2023-09-26T06:25:26.168216Z"
    },
    "collapsed": false
   },
   "outputs": [
    {
     "data": {
      "text/plain": [
       "array([[5.1, 1.4],\n",
       "       [4.9, 1.4],\n",
       "       [4.7, 1.3],\n",
       "       [4.6, 1.5],\n",
       "       [5. , 1.4],\n",
       "       [5.4, 1.7],\n",
       "       [4.6, 1.4],\n",
       "       [5. , 1.5],\n",
       "       [4.4, 1.4],\n",
       "       [4.9, 1.5],\n",
       "       [5.4, 1.5],\n",
       "       [4.8, 1.6],\n",
       "       [4.8, 1.4],\n",
       "       [4.3, 1.1],\n",
       "       [5.8, 1.2],\n",
       "       [5.7, 1.5],\n",
       "       [5.4, 1.3],\n",
       "       [5.1, 1.4],\n",
       "       [5.7, 1.7],\n",
       "       [5.1, 1.5],\n",
       "       [5.4, 1.7],\n",
       "       [5.1, 1.5],\n",
       "       [4.6, 1. ],\n",
       "       [5.1, 1.7],\n",
       "       [4.8, 1.9],\n",
       "       [5. , 1.6],\n",
       "       [5. , 1.6],\n",
       "       [5.2, 1.5],\n",
       "       [5.2, 1.4],\n",
       "       [4.7, 1.6],\n",
       "       [4.8, 1.6],\n",
       "       [5.4, 1.5],\n",
       "       [5.2, 1.5],\n",
       "       [5.5, 1.4],\n",
       "       [4.9, 1.5],\n",
       "       [5. , 1.2],\n",
       "       [5.5, 1.3],\n",
       "       [4.9, 1.5],\n",
       "       [4.4, 1.3],\n",
       "       [5.1, 1.5],\n",
       "       [5. , 1.3],\n",
       "       [4.5, 1.3],\n",
       "       [4.4, 1.3],\n",
       "       [5. , 1.6],\n",
       "       [5.1, 1.9],\n",
       "       [4.8, 1.4],\n",
       "       [5.1, 1.6],\n",
       "       [4.6, 1.4],\n",
       "       [5.3, 1.5],\n",
       "       [5. , 1.4],\n",
       "       [7. , 4.7],\n",
       "       [6.4, 4.5],\n",
       "       [6.9, 4.9],\n",
       "       [5.5, 4. ],\n",
       "       [6.5, 4.6],\n",
       "       [5.7, 4.5],\n",
       "       [6.3, 4.7],\n",
       "       [4.9, 3.3],\n",
       "       [6.6, 4.6],\n",
       "       [5.2, 3.9],\n",
       "       [5. , 3.5],\n",
       "       [5.9, 4.2],\n",
       "       [6. , 4. ],\n",
       "       [6.1, 4.7],\n",
       "       [5.6, 3.6],\n",
       "       [6.7, 4.4],\n",
       "       [5.6, 4.5],\n",
       "       [5.8, 4.1],\n",
       "       [6.2, 4.5],\n",
       "       [5.6, 3.9],\n",
       "       [5.9, 4.8],\n",
       "       [6.1, 4. ],\n",
       "       [6.3, 4.9],\n",
       "       [6.1, 4.7],\n",
       "       [6.4, 4.3],\n",
       "       [6.6, 4.4],\n",
       "       [6.8, 4.8],\n",
       "       [6.7, 5. ],\n",
       "       [6. , 4.5],\n",
       "       [5.7, 3.5],\n",
       "       [5.5, 3.8],\n",
       "       [5.5, 3.7],\n",
       "       [5.8, 3.9],\n",
       "       [6. , 5.1],\n",
       "       [5.4, 4.5],\n",
       "       [6. , 4.5],\n",
       "       [6.7, 4.7],\n",
       "       [6.3, 4.4],\n",
       "       [5.6, 4.1],\n",
       "       [5.5, 4. ],\n",
       "       [5.5, 4.4],\n",
       "       [6.1, 4.6],\n",
       "       [5.8, 4. ],\n",
       "       [5. , 3.3],\n",
       "       [5.6, 4.2],\n",
       "       [5.7, 4.2],\n",
       "       [5.7, 4.2],\n",
       "       [6.2, 4.3],\n",
       "       [5.1, 3. ],\n",
       "       [5.7, 4.1]])"
      ]
     },
     "execution_count": 10,
     "metadata": {},
     "output_type": "execute_result"
    }
   ],
   "source": [
    "# 原始資料\n"
   ]
  },
  {
   "cell_type": "code",
   "execution_count": 11,
   "id": "b0c0a0699f868e44",
   "metadata": {
    "ExecuteTime": {
     "end_time": "2023-09-26T06:25:26.217275Z",
     "start_time": "2023-09-26T06:25:26.173055Z"
    },
    "collapsed": false
   },
   "outputs": [
    {
     "data": {
      "text/plain": [
       "array([[-0.5810659 , -1.01435952],\n",
       "       [-0.89430898, -1.01435952],\n",
       "       [-1.20755205, -1.08374115],\n",
       "       [-1.36417359, -0.94497788],\n",
       "       [-0.73768744, -1.01435952],\n",
       "       [-0.11120129, -0.80621461],\n",
       "       [-1.36417359, -1.01435952],\n",
       "       [-0.73768744, -0.94497788],\n",
       "       [-1.67741667, -1.01435952],\n",
       "       [-0.89430898, -0.94497788],\n",
       "       [-0.11120129, -0.94497788],\n",
       "       [-1.05093052, -0.87559625],\n",
       "       [-1.05093052, -1.01435952],\n",
       "       [-1.8340382 , -1.22250442],\n",
       "       [ 0.51528486, -1.15312279],\n",
       "       [ 0.35866332, -0.94497788],\n",
       "       [-0.11120129, -1.08374115],\n",
       "       [-0.5810659 , -1.01435952],\n",
       "       [ 0.35866332, -0.80621461],\n",
       "       [-0.5810659 , -0.94497788],\n",
       "       [-0.11120129, -0.80621461],\n",
       "       [-0.5810659 , -0.94497788],\n",
       "       [-1.36417359, -1.29188606],\n",
       "       [-0.5810659 , -0.80621461],\n",
       "       [-1.05093052, -0.66745134],\n",
       "       [-0.73768744, -0.87559625],\n",
       "       [-0.73768744, -0.87559625],\n",
       "       [-0.42444437, -0.94497788],\n",
       "       [-0.42444437, -1.01435952],\n",
       "       [-1.20755205, -0.87559625],\n",
       "       [-1.05093052, -0.87559625],\n",
       "       [-0.11120129, -0.94497788],\n",
       "       [-0.42444437, -0.94497788],\n",
       "       [ 0.04542025, -1.01435952],\n",
       "       [-0.89430898, -0.94497788],\n",
       "       [-0.73768744, -1.15312279],\n",
       "       [ 0.04542025, -1.08374115],\n",
       "       [-0.89430898, -0.94497788],\n",
       "       [-1.67741667, -1.08374115],\n",
       "       [-0.5810659 , -0.94497788],\n",
       "       [-0.73768744, -1.08374115],\n",
       "       [-1.52079513, -1.08374115],\n",
       "       [-1.67741667, -1.08374115],\n",
       "       [-0.73768744, -0.87559625],\n",
       "       [-0.5810659 , -0.66745134],\n",
       "       [-1.05093052, -1.01435952],\n",
       "       [-0.5810659 , -0.87559625],\n",
       "       [-1.36417359, -1.01435952],\n",
       "       [-0.26782283, -0.94497788],\n",
       "       [-0.73768744, -1.01435952],\n",
       "       [ 2.39474331,  1.27523447],\n",
       "       [ 1.45501408,  1.1364712 ],\n",
       "       [ 2.23812177,  1.41399774],\n",
       "       [ 0.04542025,  0.78956302],\n",
       "       [ 1.61163562,  1.20585283],\n",
       "       [ 0.35866332,  1.1364712 ],\n",
       "       [ 1.29839254,  1.27523447],\n",
       "       [-0.89430898,  0.30389157],\n",
       "       [ 1.76825716,  1.20585283],\n",
       "       [-0.42444437,  0.72018138],\n",
       "       [-0.73768744,  0.44265484],\n",
       "       [ 0.6719064 ,  0.92832629],\n",
       "       [ 0.82852793,  0.78956302],\n",
       "       [ 0.98514947,  1.27523447],\n",
       "       [ 0.20204178,  0.51203647],\n",
       "       [ 1.92487869,  1.06708956],\n",
       "       [ 0.20204178,  1.1364712 ],\n",
       "       [ 0.51528486,  0.85894465],\n",
       "       [ 1.14177101,  1.1364712 ],\n",
       "       [ 0.20204178,  0.72018138],\n",
       "       [ 0.6719064 ,  1.3446161 ],\n",
       "       [ 0.98514947,  0.78956302],\n",
       "       [ 1.29839254,  1.41399774],\n",
       "       [ 0.98514947,  1.27523447],\n",
       "       [ 1.45501408,  0.99770792],\n",
       "       [ 1.76825716,  1.06708956],\n",
       "       [ 2.08150023,  1.3446161 ],\n",
       "       [ 1.92487869,  1.48337938],\n",
       "       [ 0.82852793,  1.1364712 ],\n",
       "       [ 0.35866332,  0.44265484],\n",
       "       [ 0.04542025,  0.65079974],\n",
       "       [ 0.04542025,  0.58141811],\n",
       "       [ 0.51528486,  0.72018138],\n",
       "       [ 0.82852793,  1.55276101],\n",
       "       [-0.11120129,  1.1364712 ],\n",
       "       [ 0.82852793,  1.1364712 ],\n",
       "       [ 1.92487869,  1.27523447],\n",
       "       [ 1.29839254,  1.06708956],\n",
       "       [ 0.20204178,  0.85894465],\n",
       "       [ 0.04542025,  0.78956302],\n",
       "       [ 0.04542025,  1.06708956],\n",
       "       [ 0.98514947,  1.20585283],\n",
       "       [ 0.51528486,  0.78956302],\n",
       "       [-0.73768744,  0.30389157],\n",
       "       [ 0.20204178,  0.92832629],\n",
       "       [ 0.35866332,  0.92832629],\n",
       "       [ 0.35866332,  0.92832629],\n",
       "       [ 1.14177101,  0.99770792],\n",
       "       [-0.5810659 ,  0.09574666],\n",
       "       [ 0.35866332,  0.85894465]])"
      ]
     },
     "execution_count": 11,
     "metadata": {},
     "output_type": "execute_result"
    }
   ],
   "source": [
    "# 標準化特徵值\n"
   ]
  },
  {
   "attachments": {},
   "cell_type": "markdown",
   "id": "93cdd395c83211af",
   "metadata": {
    "collapsed": false
   },
   "source": [
    "## 模型擬合"
   ]
  },
  {
   "cell_type": "code",
   "execution_count": 12,
   "id": "3863a134bc743a32",
   "metadata": {
    "ExecuteTime": {
     "end_time": "2023-09-26T06:25:26.222660Z",
     "start_time": "2023-09-26T06:25:26.183003Z"
    },
    "collapsed": false
   },
   "outputs": [
    {
     "data": {
      "text/plain": [
       "[50.97692262073463,\n",
       " 34.462945201633055,\n",
       " 23.572819267222194,\n",
       " 16.38559493990226,\n",
       " 11.642197678719517,\n",
       " 8.511668206880154,\n",
       " 6.445593148344742,\n",
       " 5.0820327072433775,\n",
       " 4.182115219320866,\n",
       " 3.5881910626368843,\n",
       " 3.1962152330448785,\n",
       " 2.937520500299579,\n",
       " 2.766788124224707,\n",
       " 2.654108813243642,\n",
       " 2.579743145670435]"
      ]
     },
     "execution_count": 12,
     "metadata": {},
     "output_type": "execute_result"
    }
   ],
   "source": []
  },
  {
   "attachments": {},
   "cell_type": "markdown",
   "id": "35a86fb0227f717f",
   "metadata": {
    "collapsed": false
   },
   "source": [
    "## 繪製訓練過程"
   ]
  },
  {
   "cell_type": "code",
   "execution_count": 13,
   "id": "d1123572208afdcc",
   "metadata": {
    "ExecuteTime": {
     "end_time": "2023-09-26T06:25:26.267736Z",
     "start_time": "2023-09-26T06:25:26.194632Z"
    },
    "collapsed": false
   },
   "outputs": [
    {
     "data": {
      "image/png": "[encoded data removed]",
      "text/plain": [
       "<Figure size 640x480 with 1 Axes>"
      ]
     },
     "metadata": {},
     "output_type": "display_data"
    }
   ],
   "source": []
  },
  {
   "attachments": {},
   "cell_type": "markdown",
   "id": "413a6f26348b47c4",
   "metadata": {
    "collapsed": false
   },
   "source": [
    "## 繪製決策邊界"
   ]
  },
  {
   "cell_type": "code",
   "execution_count": 14,
   "id": "eb3157d8d30c2d68",
   "metadata": {
    "ExecuteTime": {
     "end_time": "2023-09-26T06:25:26.523016Z",
     "start_time": "2023-09-26T06:25:26.268338Z"
    },
    "collapsed": false
   },
   "outputs": [
    {
     "data": {
      "image/png": "[encoded data removed]",
      "text/plain": [
       "<Figure size 640x480 with 1 Axes>"
      ]
     },
     "metadata": {},
     "output_type": "display_data"
    }
   ],
   "source": []
  }
 ],
 "metadata": {
  "kernelspec": {
   "display_name": "Python 3 (ipykernel)",
   "language": "python",
   "name": "python3"
  },
  "language_info": {
   "codemirror_mode": {
    "name": "ipython",
    "version": 3
   },
   "file_extension": ".py",
   "mimetype": "text/x-python",
   "name": "python",
   "nbconvert_exporter": "python",
   "pygments_lexer": "ipython3",
   "version": "3.8.17"
  }
 },
 "nbformat": 4,
 "nbformat_minor": 5
}
