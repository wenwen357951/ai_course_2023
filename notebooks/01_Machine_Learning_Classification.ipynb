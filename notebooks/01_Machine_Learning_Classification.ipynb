{
 "cells": [
  {
   "attachments": {},
   "cell_type": "markdown",
   "id": "93ff66e94302fe33",
   "metadata": {},
   "source": [
    "# 01. 訓練機器學習進行分類"
   ]
  },
  {
   "attachments": {},
   "cell_type": "markdown",
   "id": "fdcaefb344874c01",
   "metadata": {
    "collapsed": false
   },
   "source": [
    "## 目錄"
   ]
  },
  {
   "attachments": {},
   "cell_type": "markdown",
   "id": "3b44578972d3fc2d",
   "metadata": {
    "collapsed": false
   },
   "source": [
    "- 在 Python 中實作感知器學習演算法\n",
    "- 利用 Iris 資料集來訓練感知器(Perceptron)\n",
    "- 使用 Matplotlib 繪製決策邊界\n",
    "- 實作自適應梯度下降線性神經網路 (AdalineGD)"
   ]
  },
  {
   "attachments": {},
   "cell_type": "markdown",
   "id": "ad250405d71e8782",
   "metadata": {},
   "source": [
    "# 在 Python 中實作感知器學習演算法"
   ]
  },
  {
   "attachments": {},
   "cell_type": "markdown",
   "id": "1abd56601fc69dc6",
   "metadata": {
    "collapsed": false
   },
   "source": [
    "## 實作感知器 "
   ]
  },
  {
   "cell_type": "code",
   "execution_count": 1,
   "id": "initial_id",
   "metadata": {
    "ExecuteTime": {
     "end_time": "2023-10-03T01:45:38.870002Z",
     "start_time": "2023-10-03T01:45:38.812228Z"
    }
   },
   "outputs": [],
   "source": [
    "# 匯入 Numpy 套件\n",
    "import numpy as np\n",
    "\n",
    "# 實作感知器類別\n",
    "class Perceptron:\n",
    "    def __init__(self, eta=0.01, n_iter=50, random_state=1):\n",
    "        # LR 0.0 ~ 0.1\n",
    "        self._eta = eta\n",
    "        # Epoch\n",
    "        self._n_iter = n_iter\n",
    "        # Random seed\n",
    "        self._random_state = random_state\n",
    "        self._weights = np.asarray([])\n",
    "        self.errors = []\n",
    "\n",
    "    # 擬合模型\n",
    "    def fit(self, x, y):\n",
    "        rgen = np.random.RandomState(self._random_state)\n",
    "        self._weights = rgen.normal(loc=0.0, scale=0.01, size=x.shape[1] + 1)\n",
    "        self.errors = []\n",
    "\n",
    "        for _ in range(self._n_iter):\n",
    "            errors = 0\n",
    "            for xi, target in zip(x, y):\n",
    "                update = self._eta * (target - self.predict(xi))\n",
    "                self._weights[1:] += update * xi\n",
    "                self._weights[0] += update\n",
    "                errors += int(update != 0.0)\n",
    "\n",
    "            self.errors.append(errors)\n",
    "\n",
    "        return self\n",
    "\n",
    "\n",
    "    # 計算網路輸入\n",
    "    def net_input(self, x):\n",
    "        return np.dot(x, self._weights[1:]) + self._weights[0]\n",
    "\n",
    "    # 預測類別標記\n",
    "    def predict(self, x):\n",
    "        # 當 Param 1 , 條件達成, 條件失敗\n",
    "        return np.where(self.net_input(x) >= 0.0, 1, -1)"
   ]
  },
  {
   "attachments": {},
   "cell_type": "markdown",
   "id": "7b95b8b40ffcb575",
   "metadata": {},
   "source": [
    "# 利用 Iris 資料集來訓練感知器(Perceptron)\n",
    "\n",
    "使用網路中的開放資料集，來訓練感知器。"
   ]
  },
  {
   "attachments": {},
   "cell_type": "markdown",
   "id": "ef64cbf274327097",
   "metadata": {},
   "source": [
    "## 讀取 Iris 資料集 (網路)\n",
    "\n",
    "URL: https://archive.ics.uci.edu/ml/machine-learning-databases/iris/iris.data\n",
    "\n",
    "屬性：\n",
    "- Sepal length: 花萼長度 (cm)\n",
    "- Sepal width: 花萼寬度 (cm)\n",
    "- Petal length: 花瓣長度 (cm)\n",
    "- Petal width: 花瓣寬度 (cm)\n",
    "\n",
    "標籤：\n",
    "- setosa: 山鳶尾\n",
    "- versicolor: 變色鳶尾\n",
    "- virginica: 維吉尼亞鳶尾\n"
   ]
  },
  {
   "cell_type": "code",
   "execution_count": 2,
   "id": "6d9cfc8631bf2557",
   "metadata": {
    "ExecuteTime": {
     "end_time": "2023-10-03T01:45:43.415454Z",
     "start_time": "2023-10-03T01:45:42.066822Z"
    }
   },
   "outputs": [
    {
     "data": {
      "text/plain": "     花萼長度  花萼寬度  花瓣長度  花瓣寬度              標籤\n147   6.5   3.0   5.2   2.0  Iris-virginica\n148   6.2   3.4   5.4   2.3  Iris-virginica\n149   5.9   3.0   5.1   1.8  Iris-virginica",
      "text/html": "<div>\n<style scoped>\n    .dataframe tbody tr th:only-of-type {\n        vertical-align: middle;\n    }\n\n    .dataframe tbody tr th {\n        vertical-align: top;\n    }\n\n    .dataframe thead th {\n        text-align: right;\n    }\n</style>\n<table border=\"1\" class=\"dataframe\">\n  <thead>\n    <tr style=\"text-align: right;\">\n      <th></th>\n      <th>花萼長度</th>\n      <th>花萼寬度</th>\n      <th>花瓣長度</th>\n      <th>花瓣寬度</th>\n      <th>標籤</th>\n    </tr>\n  </thead>\n  <tbody>\n    <tr>\n      <th>147</th>\n      <td>6.5</td>\n      <td>3.0</td>\n      <td>5.2</td>\n      <td>2.0</td>\n      <td>Iris-virginica</td>\n    </tr>\n    <tr>\n      <th>148</th>\n      <td>6.2</td>\n      <td>3.4</td>\n      <td>5.4</td>\n      <td>2.3</td>\n      <td>Iris-virginica</td>\n    </tr>\n    <tr>\n      <th>149</th>\n      <td>5.9</td>\n      <td>3.0</td>\n      <td>5.1</td>\n      <td>1.8</td>\n      <td>Iris-virginica</td>\n    </tr>\n  </tbody>\n</table>\n</div>"
     },
     "execution_count": 2,
     "metadata": {},
     "output_type": "execute_result"
    }
   ],
   "source": [
    "# 匯入 Pandas 套件\n",
    "import pandas as pd\n",
    "\n",
    "# 載入 Iris 資料集\n",
    "iris_dataset_url = \"https://archive.ics.uci.edu/ml/machine-learning-databases/iris/iris.data\"\n",
    "df = pd.read_csv(iris_dataset_url,\n",
    "                 header=None,\n",
    "                 names=[\"花萼長度\", \"花萼寬度\", \"花瓣長度\", \"花瓣寬度\", \"標籤\"],\n",
    "                 encoding='utf-8')\n",
    "\n",
    "# 顯示最後 n 筆資料\n",
    "df.tail(n=3)\n",
    "\n",
    "# df.head()"
   ]
  },
  {
   "attachments": {},
   "cell_type": "markdown",
   "id": "7d5fceee358d4fde",
   "metadata": {},
   "source": [
    "## 讀取 Iris 的資料集 (本地)"
   ]
  },
  {
   "cell_type": "code",
   "execution_count": 4,
   "id": "c4c6d27cdd88cc7",
   "metadata": {
    "collapsed": false,
    "ExecuteTime": {
     "end_time": "2023-10-03T01:47:32.626859Z",
     "start_time": "2023-10-03T01:47:32.616162Z"
    }
   },
   "outputs": [
    {
     "data": {
      "text/plain": "   花萼長度  花萼寬度  花瓣長度  花瓣寬度           標籤\n0   5.1   3.5   1.4   0.2  Iris-setosa\n1   4.9   3.0   1.4   0.2  Iris-setosa\n2   4.7   3.2   1.3   0.2  Iris-setosa\n3   4.6   3.1   1.5   0.2  Iris-setosa\n4   5.0   3.6   1.4   0.2  Iris-setosa",
      "text/html": "<div>\n<style scoped>\n    .dataframe tbody tr th:only-of-type {\n        vertical-align: middle;\n    }\n\n    .dataframe tbody tr th {\n        vertical-align: top;\n    }\n\n    .dataframe thead th {\n        text-align: right;\n    }\n</style>\n<table border=\"1\" class=\"dataframe\">\n  <thead>\n    <tr style=\"text-align: right;\">\n      <th></th>\n      <th>花萼長度</th>\n      <th>花萼寬度</th>\n      <th>花瓣長度</th>\n      <th>花瓣寬度</th>\n      <th>標籤</th>\n    </tr>\n  </thead>\n  <tbody>\n    <tr>\n      <th>0</th>\n      <td>5.1</td>\n      <td>3.5</td>\n      <td>1.4</td>\n      <td>0.2</td>\n      <td>Iris-setosa</td>\n    </tr>\n    <tr>\n      <th>1</th>\n      <td>4.9</td>\n      <td>3.0</td>\n      <td>1.4</td>\n      <td>0.2</td>\n      <td>Iris-setosa</td>\n    </tr>\n    <tr>\n      <th>2</th>\n      <td>4.7</td>\n      <td>3.2</td>\n      <td>1.3</td>\n      <td>0.2</td>\n      <td>Iris-setosa</td>\n    </tr>\n    <tr>\n      <th>3</th>\n      <td>4.6</td>\n      <td>3.1</td>\n      <td>1.5</td>\n      <td>0.2</td>\n      <td>Iris-setosa</td>\n    </tr>\n    <tr>\n      <th>4</th>\n      <td>5.0</td>\n      <td>3.6</td>\n      <td>1.4</td>\n      <td>0.2</td>\n      <td>Iris-setosa</td>\n    </tr>\n  </tbody>\n</table>\n</div>"
     },
     "execution_count": 4,
     "metadata": {},
     "output_type": "execute_result"
    }
   ],
   "source": [
    "# 載入本地的 Iris 資料集\n",
    "df = pd.read_csv('./resources/iris_data.csv',\n",
    "                 header=None,\n",
    "                 names=[\"花萼長度\", \"花萼寬度\", \"花瓣長度\", \"花瓣寬度\", \"標籤\"],\n",
    "                 encoding='utf-8')\n",
    "\n",
    "# 顯示幾筆資料\n",
    "df.head()"
   ]
  },
  {
   "attachments": {},
   "cell_type": "markdown",
   "id": "19f3ff66a4ca64d5",
   "metadata": {
    "collapsed": false
   },
   "source": [
    "## 讓 MatPlotLib 可以使用中文字型\n",
    "\n",
    "字體下載: [Noto Sans TC](https://github.com/wenwen357951/ai_course_2023/raw/main/notebooks/resources/NotoSansTC.ttf)"
   ]
  },
  {
   "cell_type": "code",
   "execution_count": 6,
   "id": "91f6f145b69f2a41",
   "metadata": {
    "collapsed": false,
    "ExecuteTime": {
     "end_time": "2023-10-03T01:47:59.000307Z",
     "start_time": "2023-10-03T01:47:58.975875Z"
    }
   },
   "outputs": [],
   "source": [
    "# 匯入 matplotlib 套件\n",
    "import matplotlib as mlp\n",
    "\n",
    "# 匯入 matplotlib 的字體管理器\n",
    "from matplotlib.font_manager import fontManager\n",
    "\n",
    "# 使用 fontManager 加入字體\n",
    "fontManager.addfont('./resources/NotoSansTC.ttf')\n",
    "\n",
    "# 將 matplotlib 切換字體\n",
    "mlp.rc(\"font\", family=\"Noto Sans TC\")\n"
   ]
  },
  {
   "attachments": {},
   "cell_type": "markdown",
   "id": "e6bc28f90b7a3ed0",
   "metadata": {
    "collapsed": false
   },
   "source": [
    "## 繪製資料分布圖"
   ]
  },
  {
   "cell_type": "code",
   "execution_count": 7,
   "id": "381422a50e4e0191",
   "metadata": {
    "collapsed": false,
    "ExecuteTime": {
     "end_time": "2023-10-03T01:48:00.413911Z",
     "start_time": "2023-10-03T01:48:00.182384Z"
    }
   },
   "outputs": [
    {
     "data": {
      "text/plain": "<Figure size 640x480 with 1 Axes>",
      "image/png": "[encoded data removed]"
     },
     "metadata": {},
     "output_type": "display_data"
    }
   ],
   "source": [
    "# 匯入 matplotlib 套件的畫布工具\n",
    "import matplotlib.pyplot as plt\n",
    "\n",
    "# 匯入 numpy 套件\n",
    "import numpy as np\n",
    "\n",
    "# 選擇 ‘setosa’ 與 ‘versicolor’\n",
    "y_label = df.iloc[0:100, 4].values\n",
    "y_label = np.where(y_label == 'Iris-setosa', -1, 1)\n",
    "\n",
    "# 提取花萼長度與花瓣長度\n",
    "x_train = df.iloc[0:100, [0, 2]].values\n",
    "\n",
    "# 資料繪圖\n",
    "plt.scatter(x_train[:50, 0], x_train[:50, 1],\n",
    "            color='red', marker='o', label='setosa (山鳶尾)')\n",
    "plt.scatter(x_train[50:100, 0], x_train[50:100, 1],\n",
    "            color='blue', marker='x', label='versicolor (變色鳶尾)')\n",
    "\n",
    "plt.xlabel('花萼長度 [cm]')\n",
    "plt.ylabel('花瓣長度 [cm]')\n",
    "plt.legend(loc='upper left')\n",
    "\n",
    "plt.show()"
   ]
  },
  {
   "attachments": {},
   "cell_type": "markdown",
   "id": "a4689dfc50e5786f",
   "metadata": {
    "collapsed": false
   },
   "source": [
    "## 模型擬合"
   ]
  },
  {
   "cell_type": "code",
   "execution_count": 8,
   "id": "fd94b760",
   "metadata": {
    "ExecuteTime": {
     "end_time": "2023-10-03T01:48:01.660362Z",
     "start_time": "2023-10-03T01:48:01.586143Z"
    }
   },
   "outputs": [
    {
     "data": {
      "text/plain": "<Figure size 640x480 with 1 Axes>",
      "image/png": "[encoded data removed]"
     },
     "metadata": {},
     "output_type": "display_data"
    }
   ],
   "source": [
    "# 使用 Perceptron 來擬合資料\n",
    "ppn = Perceptron(eta=0.1, n_iter=10)\n",
    "\n",
    "ppn.fit(x_train, y_label)\n",
    "\n",
    "# 資料繪圖\n",
    "plt.plot(range(1, len(ppn.errors) + 1), ppn.errors, marker=\"o\")\n",
    "plt.xlabel('Epoch')\n",
    "plt.ylabel('Errors')\n",
    "\n",
    "plt.show()"
   ]
  },
  {
   "attachments": {},
   "cell_type": "markdown",
   "id": "5b06cc0f51bc995f",
   "metadata": {
    "collapsed": false
   },
   "source": [
    "# 使用 Matplotlib 繪製決策邊界"
   ]
  },
  {
   "cell_type": "code",
   "execution_count": 9,
   "id": "54fde9ff3179acd",
   "metadata": {
    "collapsed": false,
    "ExecuteTime": {
     "end_time": "2023-10-03T01:48:02.955134Z",
     "start_time": "2023-10-03T01:48:02.949718Z"
    }
   },
   "outputs": [],
   "source": [
    "# 匯入 matplotlib 的顏色映射清單\n",
    "from matplotlib.colors import ListedColormap\n",
    "\n",
    "def plot_decision_regions(x, y, classifier, resoultion=0.02):\n",
    "    # 設定標記顏色\n",
    "    markers = ('s', 'x', 'o', '^', 'v')\n",
    "    colors = ('red', 'blue', 'lightgreen', 'gray', 'cyan')\n",
    "    cmap = ListedColormap(colors[:len(np.unique(y))])\n",
    "\n",
    "    # 繪製決策邊界\n",
    "    x1_min, x1_max = x[:, 0].min() - 1, x[:, 0].max() + 1\n",
    "    x2_min, x2_max = x[:, 1].min() - 1, x[:, 1].max() + 1\n",
    "    xx1, xx2 = np.meshgrid(np.arange(x1_min, x1_max, resoultion),\n",
    "                           np.arange(x2_min, x2_max, resoultion))\n",
    "    z = classifier.predict(np.array([xx1.ravel(), xx2.ravel()]).T)\n",
    "    z = z.reshape(xx1.shape)\n",
    "\n",
    "    plt.contourf(xx1, xx2, z, alpha=0.3, cmap=cmap)\n",
    "    plt.xlim(xx1.min(), xx1.max())\n",
    "    plt.ylim(xx2.min(), xx2.max())\n",
    "\n",
    "    for idx, class_name in enumerate(np.unique(y)):\n",
    "        plt.scatter(\n",
    "            x=x[y == class_name, 0],\n",
    "            y=x[y == class_name, 1],\n",
    "            alpha=0.8,\n",
    "            c=colors[idx],\n",
    "            marker=markers[idx],\n",
    "            label=class_name\n",
    "        )\n"
   ]
  },
  {
   "attachments": {},
   "cell_type": "markdown",
   "id": "8963f7f86b7a8678",
   "metadata": {
    "collapsed": false
   },
   "source": [
    "## 繪製決策邊界"
   ]
  },
  {
   "cell_type": "code",
   "execution_count": 10,
   "id": "a546e57fc9880af0",
   "metadata": {
    "collapsed": false,
    "ExecuteTime": {
     "end_time": "2023-10-03T01:48:04.334882Z",
     "start_time": "2023-10-03T01:48:04.182488Z"
    }
   },
   "outputs": [
    {
     "data": {
      "text/plain": "<Figure size 640x480 with 1 Axes>",
      "image/png": "[encoded data removed]"
     },
     "metadata": {},
     "output_type": "display_data"
    }
   ],
   "source": [
    "# 繪製決策邊界\n",
    "plot_decision_regions(x_train, y_label, ppn)\n",
    "plt.show()\n"
   ]
  },
  {
   "attachments": {},
   "cell_type": "markdown",
   "id": "db784438563872a3",
   "metadata": {
    "collapsed": false
   },
   "source": [
    "# 實作自適應梯度下降線性神經網路 (AdalineGD)"
   ]
  },
  {
   "cell_type": "code",
   "execution_count": 11,
   "id": "3ceef035d88d9576",
   "metadata": {
    "collapsed": false,
    "ExecuteTime": {
     "end_time": "2023-10-03T01:48:12.457387Z",
     "start_time": "2023-10-03T01:48:12.416955Z"
    }
   },
   "outputs": [],
   "source": [
    "# 實作 AdalineGD\n"
   ]
  },
  {
   "attachments": {},
   "cell_type": "markdown",
   "id": "3e14a23215363909",
   "metadata": {
    "collapsed": false
   },
   "source": [
    "## 資料標準化，特徵縮放"
   ]
  },
  {
   "cell_type": "code",
   "execution_count": 12,
   "id": "6c017aa2a7ab0eba",
   "metadata": {
    "collapsed": false,
    "ExecuteTime": {
     "end_time": "2023-10-03T01:48:12.816366Z",
     "start_time": "2023-10-03T01:48:12.812806Z"
    }
   },
   "outputs": [],
   "source": [
    "# 原始資料\n"
   ]
  },
  {
   "cell_type": "code",
   "execution_count": 13,
   "id": "b0c0a0699f868e44",
   "metadata": {
    "collapsed": false,
    "ExecuteTime": {
     "end_time": "2023-10-03T01:48:13.011717Z",
     "start_time": "2023-10-03T01:48:13.006736Z"
    }
   },
   "outputs": [],
   "source": [
    "# 標準化特徵值\n"
   ]
  },
  {
   "attachments": {},
   "cell_type": "markdown",
   "id": "93cdd395c83211af",
   "metadata": {
    "collapsed": false
   },
   "source": [
    "## 模型擬合"
   ]
  },
  {
   "cell_type": "code",
   "execution_count": 13,
   "id": "3863a134bc743a32",
   "metadata": {
    "collapsed": false,
    "ExecuteTime": {
     "end_time": "2023-10-03T01:48:13.400219Z",
     "start_time": "2023-10-03T01:48:13.396695Z"
    }
   },
   "outputs": [],
   "source": []
  },
  {
   "attachments": {},
   "cell_type": "markdown",
   "id": "35a86fb0227f717f",
   "metadata": {
    "collapsed": false
   },
   "source": [
    "## 繪製訓練過程"
   ]
  },
  {
   "cell_type": "code",
   "execution_count": 13,
   "id": "d1123572208afdcc",
   "metadata": {
    "collapsed": false,
    "ExecuteTime": {
     "end_time": "2023-10-03T01:48:13.801421Z",
     "start_time": "2023-10-03T01:48:13.796146Z"
    }
   },
   "outputs": [],
   "source": []
  },
  {
   "attachments": {},
   "cell_type": "markdown",
   "id": "413a6f26348b47c4",
   "metadata": {
    "collapsed": false
   },
   "source": [
    "## 繪製決策邊界"
   ]
  },
  {
   "cell_type": "code",
   "execution_count": 13,
   "id": "eb3157d8d30c2d68",
   "metadata": {
    "collapsed": false,
    "ExecuteTime": {
     "end_time": "2023-10-03T01:48:14.190129Z",
     "start_time": "2023-10-03T01:48:14.178828Z"
    }
   },
   "outputs": [],
   "source": []
  }
 ],
 "metadata": {
  "kernelspec": {
   "display_name": "Python 3 (ipykernel)",
   "language": "python",
   "name": "python3"
  },
  "language_info": {
   "codemirror_mode": {
    "name": "ipython",
    "version": 3
   },
   "file_extension": ".py",
   "mimetype": "text/x-python",
   "name": "python",
   "nbconvert_exporter": "python",
   "pygments_lexer": "ipython3",
   "version": "3.8.17"
  }
 },
 "nbformat": 4,
 "nbformat_minor": 5
}
