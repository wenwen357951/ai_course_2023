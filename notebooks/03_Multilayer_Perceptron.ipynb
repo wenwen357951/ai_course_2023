{
 "cells": [
  {
   "cell_type": "markdown",
   "id": "19d85e15b6007463",
   "metadata": {
    "collapsed": false
   },
   "source": [
    "# 03. 實作多層神經網路"
   ]
  },
  {
   "cell_type": "markdown",
   "id": "2ef60826a60cd463",
   "metadata": {
    "collapsed": false
   },
   "source": [
    "## 目錄"
   ]
  },
  {
   "cell_type": "markdown",
   "id": "15d6854f51efb360",
   "metadata": {
    "collapsed": false
   },
   "source": [
    "- 使用手寫數字來進行分類\n",
    "- 實作多層感知機 (MLP)"
   ]
  },
  {
   "cell_type": "markdown",
   "id": "f4735aaf83daafed",
   "metadata": {
    "collapsed": false
   },
   "source": [
    "# 使用手寫數字來進行分類"
   ]
  },
  {
   "cell_type": "markdown",
   "id": "bfd8b00bc2694239",
   "metadata": {
    "collapsed": false
   },
   "source": [
    "## 讀取 MNIST 資料集\n",
    "\n",
    "MNIST 資料集可以在這裡下載: [http://yann.lecun.com/exdb/mnist/](http://yann.lecun.com/exdb/mnist/)\n",
    "\n",
    "檔案:\n",
    "- train-images-idx3-ubyte.gz: 訓練集圖片\n",
    "- train-labels-idx1-ubyte.gz: 訓練集標籤\n",
    "- t10k-images-idx3-ubyte.gz: 測試集圖片\n",
    "- t10k-labels-idx1-ubyte.gz: 測試集標籤"
   ]
  },
  {
   "cell_type": "code",
   "execution_count": 16,
   "id": "d1d9a1ff1d5af707",
   "metadata": {
    "collapsed": false,
    "ExecuteTime": {
     "end_time": "2023-10-17T03:36:00.112024Z",
     "start_time": "2023-10-17T03:36:00.110432Z"
    }
   },
   "outputs": [],
   "source": [
    "MNIST = [\n",
    "    \"train-images-idx3-ubyte.gz\",\n",
    "    \"train-labels-idx1-ubyte.gz\",\n",
    "    \"t10k-images-idx3-ubyte.gz\",\n",
    "    \"t10k-labels-idx1-ubyte.gz\"\n",
    "]"
   ]
  },
  {
   "cell_type": "markdown",
   "id": "79bf3ecc7a862445",
   "metadata": {
    "collapsed": false
   },
   "source": [
    "### 安裝 wget 套件"
   ]
  },
  {
   "cell_type": "code",
   "execution_count": 17,
   "id": "7c4dfa85276cdc80",
   "metadata": {
    "collapsed": false,
    "ExecuteTime": {
     "end_time": "2023-10-17T03:36:01.026956Z",
     "start_time": "2023-10-17T03:36:00.113645Z"
    }
   },
   "outputs": [
    {
     "name": "stdout",
     "output_type": "stream",
     "text": [
      "Requirement already satisfied: wget in /Users/wenwen/Development/Environments/miniconda3/envs/MOST-2023-ICH/lib/python3.8/site-packages (3.2)\r\n",
      "\r\n",
      "\u001B[1m[\u001B[0m\u001B[34;49mnotice\u001B[0m\u001B[1;39;49m]\u001B[0m\u001B[39;49m A new release of pip is available: \u001B[0m\u001B[31;49m23.2.1\u001B[0m\u001B[39;49m -> \u001B[0m\u001B[32;49m23.3\u001B[0m\r\n",
      "\u001B[1m[\u001B[0m\u001B[34;49mnotice\u001B[0m\u001B[1;39;49m]\u001B[0m\u001B[39;49m To update, run: \u001B[0m\u001B[32;49mpip install --upgrade pip\u001B[0m\r\n"
     ]
    }
   ],
   "source": [
    "# 使用 '!' 來執行系統指令\n",
    "!pip install wget"
   ]
  },
  {
   "cell_type": "markdown",
   "id": "21a5b7aeff7579b4",
   "metadata": {
    "collapsed": false
   },
   "source": [
    "### 下載 MNIST 資料集"
   ]
  },
  {
   "cell_type": "code",
   "execution_count": 18,
   "id": "c37f62dd5de90efe",
   "metadata": {
    "collapsed": false,
    "ExecuteTime": {
     "end_time": "2023-10-17T03:36:01.034693Z",
     "start_time": "2023-10-17T03:36:01.028667Z"
    }
   },
   "outputs": [],
   "source": [
    "# 匯入 os 套件\n",
    "import os\n",
    "\n",
    "# 設置 MNIST 資料集位置\n",
    "# mnist_dir = \"/content/mnist\"\n",
    "mnist_dir = \"resources/mnist\"\n",
    "os.makedirs(mnist_dir, exist_ok=True)"
   ]
  },
  {
   "cell_type": "code",
   "execution_count": 19,
   "id": "initial_id",
   "metadata": {
    "collapsed": true,
    "jupyter": {
     "outputs_hidden": true
    },
    "ExecuteTime": {
     "end_time": "2023-10-17T03:36:04.132006Z",
     "start_time": "2023-10-17T03:36:01.032658Z"
    }
   },
   "outputs": [],
   "source": [
    "# 匯入 wget 套件\n",
    "import wget\n",
    "\n",
    "# 下載資料集\n",
    "for filename in MNIST:\n",
    "    wget.download(f\"http://yann.lecun.com/exdb/mnist/{filename}\", mnist_dir)"
   ]
  },
  {
   "cell_type": "markdown",
   "id": "2ba9ffa8539acd89",
   "metadata": {
    "collapsed": false
   },
   "source": [
    "### 解開 MNIST 壓縮"
   ]
  },
  {
   "cell_type": "code",
   "execution_count": 20,
   "id": "73d0d848dae8250a",
   "metadata": {
    "collapsed": false,
    "ExecuteTime": {
     "end_time": "2023-10-17T03:36:04.352611Z",
     "start_time": "2023-10-17T03:36:04.134935Z"
    }
   },
   "outputs": [],
   "source": [
    "# 匯入 gzip 套件\n",
    "import gzip\n",
    "\n",
    "for filename in MNIST:\n",
    "    z = os.path.join(mnist_dir, filename)\n",
    "    with gzip.GzipFile(z, mode=\"rb\") as decompressed, open(z[:-3], 'wb') as outfile:\n",
    "        outfile.write(decompressed.read())"
   ]
  },
  {
   "cell_type": "markdown",
   "id": "e234c530f0f7ee30",
   "metadata": {
    "collapsed": false
   },
   "source": [
    "### 讀取 MNIST 資料"
   ]
  },
  {
   "cell_type": "code",
   "execution_count": 21,
   "id": "fcaed83b5b2957cb",
   "metadata": {
    "collapsed": false,
    "ExecuteTime": {
     "end_time": "2023-10-17T03:36:04.359294Z",
     "start_time": "2023-10-17T03:36:04.354401Z"
    }
   },
   "outputs": [],
   "source": [
    "# 匯入 os, struct, numpy 套件\n",
    "import struct\n",
    "import numpy as np\n",
    "\n",
    "# 撰寫讀取 MNIST 資料集\n",
    "def load_mnist(path, kind='train'):\n",
    "    labels_path = os.path.join(path, '%s-labels-idx1-ubyte' % kind)\n",
    "    images_path = os.path.join(path, '%s-images-idx3-ubyte' % kind)\n",
    "\n",
    "    with open(labels_path, \"rb\") as label_path:\n",
    "        magic, n = struct.unpack('>II', label_path.read(8))\n",
    "        labels = np.fromfile(label_path, dtype=np.uint8)\n",
    "\n",
    "    with open(images_path, \"rb\") as image_path:\n",
    "        magic, num, rows, cols = struct.unpack('>IIII', image_path.read(16))\n",
    "        images = np.fromfile(image_path, dtype=np.uint8)\n",
    "        images = images.reshape(len(labels), 28*28)\n",
    "        images = ((images / 255.) - .5) * 2\n",
    "\n",
    "    return images, labels"
   ]
  },
  {
   "cell_type": "markdown",
   "id": "6bc4ed45be6a92",
   "metadata": {
    "collapsed": false
   },
   "source": [
    "#### 訓練集"
   ]
  },
  {
   "cell_type": "code",
   "execution_count": 22,
   "id": "c7f3c9fb153f70dd",
   "metadata": {
    "collapsed": false,
    "ExecuteTime": {
     "end_time": "2023-10-17T03:36:04.456824Z",
     "start_time": "2023-10-17T03:36:04.357439Z"
    }
   },
   "outputs": [
    {
     "name": "stdout",
     "output_type": "stream",
     "text": [
      "Rows: 60000, Columns: 784\n"
     ]
    }
   ],
   "source": [
    "# 顯示訓練集\n",
    "x_train, y_train = load_mnist(mnist_dir, kind=\"train\")\n",
    "print(\"Rows: %d, Columns: %d\" % (x_train.shape[0], x_train.shape[1]))"
   ]
  },
  {
   "cell_type": "markdown",
   "id": "1083c0922ad217e0",
   "metadata": {
    "collapsed": false
   },
   "source": [
    "#### 測試集"
   ]
  },
  {
   "cell_type": "code",
   "execution_count": 23,
   "id": "6765162a07726baa",
   "metadata": {
    "collapsed": false,
    "ExecuteTime": {
     "end_time": "2023-10-17T03:36:04.482938Z",
     "start_time": "2023-10-17T03:36:04.457028Z"
    }
   },
   "outputs": [
    {
     "name": "stdout",
     "output_type": "stream",
     "text": [
      "Rows: 60000, Columns: 784\n"
     ]
    }
   ],
   "source": [
    "# 顯示測試集\n",
    "x_test, y_test = load_mnist(mnist_dir, kind=\"t10k\")\n",
    "print(\"Rows: %d, Columns: %d\" % (x_train.shape[0], x_train.shape[1]))"
   ]
  },
  {
   "cell_type": "markdown",
   "id": "e47d15dc867d9689",
   "metadata": {
    "collapsed": false
   },
   "source": [
    "#### 顯示每個數字的第一張影像"
   ]
  },
  {
   "cell_type": "code",
   "execution_count": 24,
   "id": "f9d9d8ff1ca589a7",
   "metadata": {
    "collapsed": false,
    "ExecuteTime": {
     "end_time": "2023-10-17T03:36:04.930841Z",
     "start_time": "2023-10-17T03:36:04.491036Z"
    }
   },
   "outputs": [
    {
     "data": {
      "text/plain": "[]"
     },
     "execution_count": 24,
     "metadata": {},
     "output_type": "execute_result"
    },
    {
     "data": {
      "text/plain": "<Figure size 640x480 with 10 Axes>",
      "image/png": "[encoded data removed]"
     },
     "metadata": {},
     "output_type": "display_data"
    }
   ],
   "source": [
    "# 匯入 matplotlib 的畫布套件\n",
    "import matplotlib.pyplot as plt\n",
    "\n",
    "# 顯示 0~9 的手寫影像\n",
    "fig, ax = plt.subplots(nrows=2, ncols=5, sharex=True, sharey='all')\n",
    "ax = ax.flatten()\n",
    "\n",
    "for i in range(10):\n",
    "    img = x_train[y_train == i][0].reshape(28, 28)\n",
    "    ax[i].imshow(img, cmap='Greys')\n",
    "\n",
    "ax[0].set_xticks([])"
   ]
  },
  {
   "cell_type": "markdown",
   "id": "a5f6998b2f38c020",
   "metadata": {
    "collapsed": false
   },
   "source": [
    "#### 顯示 25 種不同版本的數字 7:"
   ]
  },
  {
   "cell_type": "code",
   "execution_count": 25,
   "id": "23983d777db6abbc",
   "metadata": {
    "collapsed": false,
    "ExecuteTime": {
     "end_time": "2023-10-17T03:36:05.566630Z",
     "start_time": "2023-10-17T03:36:04.936214Z"
    }
   },
   "outputs": [
    {
     "data": {
      "text/plain": "<Figure size 640x480 with 25 Axes>",
      "image/png": "[encoded data removed]"
     },
     "metadata": {},
     "output_type": "display_data"
    }
   ],
   "source": [
    "# 顯示多個版本的同樣數字的手寫影像\n",
    "fig, ax = plt.subplots(nrows=5, ncols=5, sharex=True, sharey=True)\n",
    "ax = ax.flatten()\n",
    "\n",
    "for i in range(5 * 5):\n",
    "    img = x_train[y_train == 6][i].reshape(28, 28)\n",
    "    ax[i].imshow(img, cmap=\"Greys\")\n",
    "\n",
    "ax[0].set_xticks([])\n",
    "ax[0].set_yticks([])\n",
    "\n",
    "plt.tight_layout()\n",
    "plt.show()"
   ]
  },
  {
   "cell_type": "markdown",
   "id": "c6e1f2e35ca418d6",
   "metadata": {
    "collapsed": false
   },
   "source": [
    "### 使用 Numpy 建立 MNIST 快取"
   ]
  },
  {
   "cell_type": "code",
   "execution_count": 26,
   "id": "329fa6ed8fdce75e",
   "metadata": {
    "collapsed": false,
    "ExecuteTime": {
     "end_time": "2023-10-17T03:36:08.659603Z",
     "start_time": "2023-10-17T03:36:05.566935Z"
    }
   },
   "outputs": [],
   "source": [
    "# 快取儲存位置\n",
    "output_dir = os.path.abspath(\"resources/mnist\")\n",
    "# output_dir = os.path.abspath(\"/content/mnist\")\n",
    "os.makedirs(output_dir, exist_ok=True)\n",
    "\n",
    "# 建立快取\n",
    "output_filepath = os.path.join(output_dir, \"mnist_scaled.npz\")\n",
    "np.savez_compressed(\n",
    "    output_filepath,\n",
    "    x_train=x_train,\n",
    "    y_train=y_train,\n",
    "    x_test=x_test,\n",
    "    y_test=y_test\n",
    ")"
   ]
  },
  {
   "cell_type": "markdown",
   "id": "c505f3c4de3d49a5",
   "metadata": {
    "collapsed": false
   },
   "source": [
    "#### 讀入 MNIST 快取"
   ]
  },
  {
   "cell_type": "code",
   "execution_count": 27,
   "id": "e05f8eac963240b2",
   "metadata": {
    "collapsed": false,
    "ExecuteTime": {
     "end_time": "2023-10-17T03:36:08.663710Z",
     "start_time": "2023-10-17T03:36:08.660058Z"
    }
   },
   "outputs": [
    {
     "data": {
      "text/plain": "['x_train', 'y_train', 'x_test', 'y_test']"
     },
     "execution_count": 27,
     "metadata": {},
     "output_type": "execute_result"
    }
   ],
   "source": [
    "# 讀取快取\n",
    "mnist = np.load(output_filepath)\n",
    "mnist.files"
   ]
  },
  {
   "cell_type": "code",
   "execution_count": 28,
   "id": "a680aa3319731d75",
   "metadata": {
    "collapsed": false,
    "ExecuteTime": {
     "end_time": "2023-10-17T03:36:09.042158Z",
     "start_time": "2023-10-17T03:36:08.663853Z"
    }
   },
   "outputs": [
    {
     "data": {
      "text/plain": "(60000, 784)"
     },
     "execution_count": 28,
     "metadata": {},
     "output_type": "execute_result"
    }
   ],
   "source": [
    "# 讀取快取\n",
    "x_train, y_train, x_test, y_test = [\n",
    "    mnist[filename]\n",
    "    for filename\n",
    "    in ['x_train', 'y_train', 'x_test', 'y_test']\n",
    "]\n",
    "x_train.shape"
   ]
  },
  {
   "cell_type": "markdown",
   "id": "2ab3e33c2eecef6",
   "metadata": {
    "collapsed": false
   },
   "source": [
    "# 實作多層感知機 (MLP)"
   ]
  },
  {
   "cell_type": "code",
   "execution_count": 29,
   "id": "b4cb9235416abb41",
   "metadata": {
    "collapsed": false,
    "ExecuteTime": {
     "end_time": "2023-10-17T03:36:09.047689Z",
     "start_time": "2023-10-17T03:36:09.045185Z"
    }
   },
   "outputs": [],
   "source": [
    "# 匯入套件 numpy, sys\n",
    "\n",
    "# 實作多層感知器 MLP\n",
    "class NeuralNetMLP:\n",
    "    \"\"\" 前向傳播神經網路 / 多層感知器分類器\n",
    "\n",
    "    參數\n",
    "    ------------\n",
    "    n_hidden : int (default: 30)\n",
    "        隱藏單元數量.\n",
    "    l2 : float (default: 0.)\n",
    "        L2 正規化的 lambda 值\n",
    "        如果 l2=0. 不進行正規化 (default)\n",
    "    epochs : int (default: 100)\n",
    "        訓練集的傳遞次數。 (回合數)\n",
    "    eta : float (default: 0.001)\n",
    "        學習綠.\n",
    "    shuffle : bool (default: True)\n",
    "        如果為 True，則在每個 Epoch 對訓練資料進行洗牌以防止循環。\n",
    "    minibatch_size : int (default: 1)\n",
    "        每個小批量的訓練樣本數。\n",
    "    seed : int (default: None)\n",
    "        用於初始化權重和洗牌的隨機種子。\n",
    "\n",
    "    屬性\n",
    "    -----------\n",
    "    eval_ : dict\n",
    "      收集訓練期間每個 EPOCH 的 cost、訓練正確率和驗證正確率。\n",
    "\n",
    "    \"\"\"\n",
    "    def __init__(self, n_hidden=30, l2=0., epochs=100, eta=0.001,\n",
    "                 shuffle=True, minibatch_size=1, seed=None):\n",
    "        self._random = np.random.RandomState(seed)\n",
    "        self._n_hidden = n_hidden\n",
    "        self._l2 = l2\n",
    "        self.epochs = epochs\n",
    "        self._eta = eta\n",
    "        self._shuffle = shuffle\n",
    "        self._minibatch_size = minibatch_size\n",
    "        self.eval_ = None\n",
    "        self._w_out = None\n",
    "        self._b_out = None\n",
    "        self._w_h = None\n",
    "        self._b_h = None\n",
    "\n",
    "    def _onehot(self, y, n_classes):\n",
    "        \"\"\"編碼標籤為 one-hot 表達式\n",
    "\n",
    "        參數\n",
    "        ------------\n",
    "        y : array, shape = [n_examples]\n",
    "            目標值. (label)\n",
    "        n_classes : int\n",
    "            類別數量\n",
    "\n",
    "        回傳\n",
    "        -----------\n",
    "        onehot : array, shape = (n_examples, n_labels)\n",
    "\n",
    "        \"\"\"\n",
    "\n",
    "    def _sigmoid(self, _z):\n",
    "        \"\"\"計算邏輯函數（sigmoid）\"\"\"\n",
    "\n",
    "    def _forward(self, _x):\n",
    "        \"\"\"計算前向傳播\"\"\"\n",
    "\n",
    "        # 第一步: 計算隱藏層的網路\n",
    "        # [n_examples, n_features] dot [n_features, n_hidden]\n",
    "        # -> [n_examples, n_hidden]\n",
    "\n",
    "        # 第二步: 活化隱藏層\n",
    "        \n",
    "        # 第三步: 計算輸出層的網路\n",
    "        # [n_examples, n_hidden] dot [n_hidden, n_classlabels]\n",
    "        # -> [n_examples, n_classlabels]\n",
    "\n",
    "        # step 4: 活化輸出層\n",
    "\n",
    "    def _compute_cost(self, y_enc, output):\n",
    "        \"\"\"計算成本函數\n",
    "\n",
    "        參數\n",
    "        ----------\n",
    "        y_enc : array, shape = (n_examples, n_labels)\n",
    "            one-hot 編碼的類別標籤\n",
    "        output : array, shape = [n_examples, n_output_units]\n",
    "            活化輸出層 (前向傳遞)\n",
    "\n",
    "        回傳\n",
    "        ---------\n",
    "        cost : float\n",
    "            正規化成本\n",
    "\n",
    "        \"\"\"\n",
    "\n",
    "    def predict(self, _x):\n",
    "        \"\"\"預測類別標籤\n",
    "\n",
    "        參數\n",
    "        -----------\n",
    "        _x : array, shape = [n_examples, n_features]\n",
    "            輸入層的原始特徵\n",
    "\n",
    "        Returns:\n",
    "        ----------\n",
    "        y_pred : array, shape = [n_examples]\n",
    "            預設的類別標籤.\n",
    "\n",
    "        \"\"\"\n",
    "\n",
    "    def fit(self, _x_train, _y_train, _x_valid, _y_valid):\n",
    "        \"\"\" 從訓練資料學習權重\n",
    "\n",
    "        參數\n",
    "        -----------\n",
    "        _x_train : array, shape = [n_examples, n_features]\n",
    "            給輸入層的原始特徵\n",
    "        _y_train : array, shape = [n_examples]\n",
    "            目標類別標籤\n",
    "        _x_valid : array, shape = [n_examples, n_features]\n",
    "            訓練期間驗證的樣本特徵\n",
    "        _y_valid : array, shape = [n_examples]\n",
    "            訓練期間驗證的樣本標籤\n",
    "\n",
    "        回傳\n",
    "        ----------\n",
    "        self\n",
    "\n",
    "        \"\"\"\n",
    "        # 類別標籤數量\n",
    "        # 特徵數量\n",
    "\n",
    "        ########################\n",
    "        # 權重初始化\n",
    "        ########################\n",
    "\n",
    "        # 權重: 輸入層 -> 隱藏層\n",
    "\n",
    "        # 權重: 隱藏層 -> 輸出層\n",
    "        \n",
    "        # 用於進度格式化\n",
    "        epoch_strlen = len(str(self.epochs))  \n",
    "        \n",
    "        # 初始化評估值\n",
    "        \n",
    "        # 將標籤進行 one-hot 編碼\n",
    "\n",
    "        # 迭代 EPOCH\n",
    "\n",
    "            # 迭代小批量\n",
    "            # 訓練集 60000 的索引列表\n",
    "            \n",
    "            # 將訓練集打散\n",
    "\n",
    "                # 前向傳播\n",
    "\n",
    "                ##################\n",
    "                # 反向傳播\n",
    "                ##################\n",
    "\n",
    "                # [n_examples, n_classlabels]\n",
    "                # 計算輸出與標籤的差異量\n",
    "\n",
    "                # [n_examples, n_hidden]\n",
    "                # 進行 sigmoid 的微分計算\n",
    "\n",
    "                # [n_examples, n_classlabels] dot [n_classlabels, n_hidden]\n",
    "                # -> [n_examples, n_hidden]\n",
    "                # 計算隱藏層權重的更新量\n",
    "        \n",
    "                # [n_features, n_examples] dot [n_examples, n_hidden]\n",
    "                # -> [n_features, n_hidden]\n",
    "                # 計算輸入層權重的更新量\n",
    "\n",
    "                # [n_hidden, n_examples] dot [n_examples, n_classlabels]\n",
    "                # -> [n_hidden, n_classlabels]\n",
    "                # 計算輸出層權重的更新量\n",
    "\n",
    "                # 正規化和權重更新\n",
    "        \n",
    "                # 偏權值不進行正規化\n",
    "\n",
    "            #############\n",
    "            # 評估\n",
    "            #############\n",
    "\n",
    "            # 訓練期間每個 EPOCH 後的評估\n",
    "            \n",
    "            # 顯示當前的評估值\n",
    "        \n"
   ]
  },
  {
   "cell_type": "markdown",
   "id": "61f8f35ff1a8c5c9",
   "metadata": {
    "collapsed": false
   },
   "source": [
    "## 訓練多層感知機"
   ]
  },
  {
   "cell_type": "code",
   "execution_count": 30,
   "id": "f1fb411293771e6d",
   "metadata": {
    "collapsed": false,
    "ExecuteTime": {
     "end_time": "2023-10-17T03:36:09.049905Z",
     "start_time": "2023-10-17T03:36:09.048103Z"
    }
   },
   "outputs": [],
   "source": [
    "# 回合數\n",
    "\n",
    "# MLP Model\n",
    "\n",
    "# 擬合模型"
   ]
  },
  {
   "cell_type": "markdown",
   "id": "a06303b3c1ce4955",
   "metadata": {
    "collapsed": false
   },
   "source": [
    "## 繪製損失曲線"
   ]
  },
  {
   "cell_type": "code",
   "execution_count": 30,
   "id": "e18caeccd680a93",
   "metadata": {
    "collapsed": false,
    "ExecuteTime": {
     "end_time": "2023-10-17T03:36:09.051652Z",
     "start_time": "2023-10-17T03:36:09.049963Z"
    }
   },
   "outputs": [],
   "source": []
  },
  {
   "cell_type": "markdown",
   "id": "3d2871436dcdc8d5",
   "metadata": {
    "collapsed": false
   },
   "source": [
    "## 繪製測試集與驗證集的正確率曲線"
   ]
  },
  {
   "cell_type": "code",
   "execution_count": 30,
   "id": "ec520fea989d21b1",
   "metadata": {
    "collapsed": false,
    "ExecuteTime": {
     "end_time": "2023-10-17T03:36:09.057603Z",
     "start_time": "2023-10-17T03:36:09.051999Z"
    }
   },
   "outputs": [],
   "source": []
  },
  {
   "cell_type": "markdown",
   "id": "fb255b9c8f07797d",
   "metadata": {
    "collapsed": false
   },
   "source": [
    "## 使用測試集進行評估"
   ]
  },
  {
   "cell_type": "code",
   "execution_count": 30,
   "id": "c2296a1e8cfdd7e2",
   "metadata": {
    "collapsed": false,
    "ExecuteTime": {
     "end_time": "2023-10-17T03:36:09.057755Z",
     "start_time": "2023-10-17T03:36:09.054055Z"
    }
   },
   "outputs": [],
   "source": []
  },
  {
   "cell_type": "markdown",
   "id": "8656acee1cd7d3fd",
   "metadata": {
    "collapsed": false
   },
   "source": [
    "## 顯示一些預測結果"
   ]
  },
  {
   "cell_type": "code",
   "execution_count": 30,
   "id": "e139c2045845102",
   "metadata": {
    "collapsed": false,
    "ExecuteTime": {
     "end_time": "2023-10-17T03:36:09.060713Z",
     "start_time": "2023-10-17T03:36:09.057011Z"
    }
   },
   "outputs": [],
   "source": []
  },
  {
   "cell_type": "markdown",
   "id": "1d4ba99f57c206e2",
   "metadata": {
    "collapsed": false
   },
   "source": [
    "## 顯示一些預測錯誤結果"
   ]
  },
  {
   "cell_type": "code",
   "execution_count": 30,
   "id": "fb6eb2bd5e339dd",
   "metadata": {
    "collapsed": false,
    "ExecuteTime": {
     "end_time": "2023-10-17T03:36:09.060819Z",
     "start_time": "2023-10-17T03:36:09.058933Z"
    }
   },
   "outputs": [],
   "source": []
  }
 ],
 "metadata": {
  "kernelspec": {
   "display_name": "Python 3 (ipykernel)",
   "language": "python",
   "name": "python3"
  },
  "language_info": {
   "codemirror_mode": {
    "name": "ipython",
    "version": 3
   },
   "file_extension": ".py",
   "mimetype": "text/x-python",
   "name": "python",
   "nbconvert_exporter": "python",
   "pygments_lexer": "ipython3",
   "version": "3.8.17"
  }
 },
 "nbformat": 4,
 "nbformat_minor": 5
}
