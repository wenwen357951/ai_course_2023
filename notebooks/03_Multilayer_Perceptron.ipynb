{
 "cells": [
  {
   "cell_type": "markdown",
   "id": "2b6cc240-2935-46e3-83f1-619b555ef90a",
   "metadata": {},
   "source": [
    "# 多層感知器從頭實現"
   ]
  },
  {
   "cell_type": "markdown",
   "id": "a32a86d0-198f-4c2a-aff5-821f2a659788",
   "metadata": {},
   "source": [
    "安裝套件庫"
   ]
  },
  {
   "cell_type": "code",
   "execution_count": 42,
   "id": "47c3a3a9-b6fd-439f-afe6-050e0fa65d8a",
   "metadata": {
    "tags": []
   },
   "outputs": [],
   "source": [
    "import numpy as np\n",
    "import tensorflow as tf"
   ]
  },
  {
   "cell_type": "markdown",
   "id": "527a8c6c-289f-48e5-8ad8-d98076fa73f7",
   "metadata": {},
   "source": [
    "加載Fashion-MNIST資料集"
   ]
  },
  {
   "cell_type": "code",
   "execution_count": 43,
   "id": "61df2540-a4bf-4f69-ac1b-509c10c92fe6",
   "metadata": {
    "tags": []
   },
   "outputs": [],
   "source": [
    "fashion_mnist = tf.keras.datasets.fashion_mnist\n",
    "(train_images, train_labels), (test_images, test_labels) = fashion_mnist.load_data()"
   ]
  },
  {
   "cell_type": "markdown",
   "id": "2742a855-9b19-4071-b52b-6d3d107d3954",
   "metadata": {},
   "source": [
    "將資料集預處理"
   ]
  },
  {
   "cell_type": "code",
   "execution_count": 53,
   "id": "78d3bd0d-86cf-4c88-a2b0-9494a267d237",
   "metadata": {
    "tags": []
   },
   "outputs": [],
   "source": [
    "# 將影像像素值縮放到0 ~ 1 之間\n",
    "train_images = train_images / 255.0\n",
    "test_images = test_images / 255.0\n",
    "# 將影像轉換成整數資料類型\n",
    "train_labels = train_labels.astype(np.int32)\n",
    "test_labels = test_labels.astype(np.int32)"
   ]
  },
  {
   "cell_type": "markdown",
   "id": "5ee9eeac-518d-4b60-973e-9e2c665d27ca",
   "metadata": {},
   "source": [
    "創建訓練集和測試集的批次資料集"
   ]
  },
  {
   "cell_type": "code",
   "execution_count": 54,
   "id": "9b3a107b-5a4a-4abb-9c92-045fa30c9dc5",
   "metadata": {
    "tags": []
   },
   "outputs": [],
   "source": [
    "# 批次大小\n",
    "batch_size = 256\n",
    "# 將訓練集製作成tensorflow 資料集\n",
    "train_dataset = tf.data.Dataset.from_tensor_slices((train_images, train_labels)).batch(batch_size)\n",
    "# 將測試集製作成tensorflow 資料集\n",
    "test_dataset = tf.data.Dataset.from_tensor_slices((test_images, test_labels)).batch(batch_size)"
   ]
  },
  {
   "cell_type": "markdown",
   "id": "9847acf0-2262-4330-aee8-f2607e495988",
   "metadata": {},
   "source": [
    "定義參數值"
   ]
  },
  {
   "cell_type": "code",
   "execution_count": 55,
   "id": "a541b870-b6c2-4d7e-8c1e-d5edfcd2ec51",
   "metadata": {
    "tags": []
   },
   "outputs": [],
   "source": [
    "# 定義輸入層、輸出層、隱藏層\n",
    "num_inputs, num_outputs, num_hiddens = 784, 10, 256\n",
    "# 定義權重和偏權值並隨機初始化\n",
    "W1 = tf.Variable(tf.random.normal(shape=(num_inputs, num_hiddens), mean=0, stddev=0.01, dtype=tf.float64))\n",
    "b1 = tf.Variable(tf.zeros(num_hiddens, dtype=tf.float64))\n",
    "W2 = tf.Variable(tf.random.normal(shape=(num_hiddens, num_outputs), mean=0, stddev=0.01, dtype=tf.float64))\n",
    "b2 = tf.Variable(tf.zeros(num_outputs, dtype=tf.float64))\n",
    "\n",
    "# 這裡將模型參數儲存在一個列表內\n",
    "params = [W1, b1, W2, b2]"
   ]
  },
  {
   "cell_type": "markdown",
   "id": "513702be-5eef-4368-a7d1-59b3777d5abb",
   "metadata": {},
   "source": [
    "**定義relu函數**"
   ]
  },
  {
   "cell_type": "code",
   "execution_count": 56,
   "id": "78c45549-230c-4df7-8bfd-3345c2449d1b",
   "metadata": {
    "tags": []
   },
   "outputs": [],
   "source": [
    "def relu(X):\n",
    "    return tf.math.maximum(X, 0)"
   ]
  },
  {
   "cell_type": "markdown",
   "id": "ba387e0a-9248-4247-9c54-48b6bc126b7a",
   "metadata": {},
   "source": [
    "前向傳播的過程"
   ]
  },
  {
   "cell_type": "code",
   "execution_count": 48,
   "id": "5f3bbd50-2f2e-4ce9-a8dc-bb111ffb80de",
   "metadata": {
    "tags": []
   },
   "outputs": [],
   "source": [
    "def net(X):\n",
    "    # 先將輸入值做形狀調整\n",
    "    X = tf.reshape(X, (-1, num_inputs))\n",
    "    # 隱藏層輸出\n",
    "    H = relu(tf.matmul(X, W1) + b1)\n",
    "    return tf.matmul(H, W2) + b2"
   ]
  },
  {
   "cell_type": "markdown",
   "id": "5f8b09ac-188f-451d-a050-efb575e242a5",
   "metadata": {},
   "source": [
    "定義損失函數"
   ]
  },
  {
   "cell_type": "code",
   "execution_count": 49,
   "id": "cfefe677-4628-461b-9207-e7294f59fa84",
   "metadata": {
    "tags": []
   },
   "outputs": [],
   "source": [
    "def loss(y_hat, y):\n",
    "    # 稀疏分類交叉熵\n",
    "    return tf.losses.sparse_categorical_crossentropy(\n",
    "        y, y_hat, from_logits=True)"
   ]
  },
  {
   "cell_type": "markdown",
   "id": "0673ff5b-eac5-41e0-9194-5ea74c2973bc",
   "metadata": {},
   "source": [
    "開始訓練，並定義訓練參數"
   ]
  },
  {
   "cell_type": "code",
   "execution_count": 50,
   "id": "e5f2f830-e4bb-4f19-827f-dfc4db5a33eb",
   "metadata": {
    "tags": []
   },
   "outputs": [],
   "source": [
    "# 定義回合數和學習參數\n",
    "num_epochs, learning_rate = 10, 0.1\n",
    "# 定義優化器\n",
    "optimizer = tf.optimizers.SGD(learning_rate=learning_rate)\n",
    "# 開始訓練\n",
    "for epoch in range(num_epochs):\n",
    "    for X, y in train_dataset:\n",
    "        # 自動計算梯度\n",
    "        with tf.GradientTape() as tape:\n",
    "            # 獲取隱藏層輸出\n",
    "            y_hat = net(X)\n",
    "            # 獲取損失值\n",
    "            l = loss(y_hat, y)\n",
    "        # 計算損失對於模型參數的梯度\n",
    "        grads = tape.gradient(l, [W1, b1, W2, b2])\n",
    "        # 使用優化器來更新模型參數\n",
    "        optimizer.apply_gradients(zip(grads, [W1, b1, W2, b2]))\n"
   ]
  },
  {
   "cell_type": "markdown",
   "id": "86c6c2d0-5a23-45bf-bd4e-d242aeb2480c",
   "metadata": {},
   "source": [
    "定義精確度涵式"
   ]
  },
  {
   "cell_type": "code",
   "execution_count": 51,
   "id": "a7b78185-9914-4b59-8816-7f4e77f8ad21",
   "metadata": {
    "tags": []
   },
   "outputs": [],
   "source": [
    "def evaluate_accuracy(data_iter, net):\n",
    "    # 定義初始精確度和樣本數\n",
    "    acc_sum, n = 0.0, 0\n",
    "    # 迭代批次資料集\n",
    "    for X, y in data_iter:\n",
    "        # 轉換影像資料類型\n",
    "        y = tf.cast(y, dtype=tf.int64)\n",
    "        # 計算批次中的準確預測數量\n",
    "        acc_sum += np.sum(tf.cast(tf.argmax(net(X), axis=1), dtype=tf.int64) == y)\n",
    "        # 計算總樣本數\n",
    "        n += y.shape[0]\n",
    "    return acc_sum / n"
   ]
  },
  {
   "cell_type": "code",
   "execution_count": 52,
   "id": "0929302f-9cd8-4484-90ee-2c5938932ffa",
   "metadata": {
    "tags": []
   },
   "outputs": [
    {
     "name": "stdout",
     "output_type": "stream",
     "text": [
      "Test accuracy: 10.00%\n"
     ]
    }
   ],
   "source": [
    "test_acc = evaluate_accuracy(test_dataset, net)\n",
    "print(f'Test accuracy: {test_acc * 100:.2f}%')"
   ]
  }
 ],
 "metadata": {
  "kernelspec": {
   "display_name": "Python 3 (ipykernel)",
   "language": "python",
   "name": "python3"
  },
  "language_info": {
   "codemirror_mode": {
    "name": "ipython",
    "version": 3
   },
   "file_extension": ".py",
   "mimetype": "text/x-python",
   "name": "python",
   "nbconvert_exporter": "python",
   "pygments_lexer": "ipython3",
   "version": "3.10.9"
  }
 },
 "nbformat": 4,
 "nbformat_minor": 5
}
