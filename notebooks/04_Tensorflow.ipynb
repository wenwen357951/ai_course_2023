{
  "nbformat": 4,
  "nbformat_minor": 0,
  "metadata": {
    "colab": {
      "provenance": [],
      "toc_visible": true
    },
    "kernelspec": {
      "name": "python3",
      "display_name": "Python 3"
    },
    "language_info": {
      "name": "python"
    }
  },
  "cells": [
    {
      "cell_type": "markdown",
      "source": [
        "# 04. TensorFlow 框架介紹"
      ],
      "metadata": {
        "id": "6lMijwC8xKkK"
      }
    },
    {
      "cell_type": "markdown",
      "source": [
        "## 目錄"
      ],
      "metadata": {
        "id": "d_vQnc35xP3w"
      }
    },
    {
      "cell_type": "markdown",
      "source": [
        "- 基礎用法\n",
        "- 將 Tensor 轉換為 Numpy\n",
        "- TensorFlow 運算方法\n",
        "- 變數\n"
      ],
      "metadata": {
        "id": "jcoi1pwlxSTL"
      }
    },
    {
      "cell_type": "markdown",
      "source": [
        "## 基礎用法"
      ],
      "metadata": {
        "id": "DqSn0-5NxVtp"
      }
    },
    {
      "cell_type": "markdown",
      "source": [
        "### 匯入套件庫"
      ],
      "metadata": {
        "id": "eNQTze6ixv2j"
      }
    },
    {
      "cell_type": "code",
      "source": [
        "# 安裝 TensorFlow 套件\n",
        "!pip install tensorflow"
      ],
      "metadata": {
        "colab": {
          "base_uri": "https://localhost:8080/"
        },
        "id": "xEdx-nfAxyiE",
        "outputId": "c1aa353f-7f2e-4b61-b6ec-5624ac15714d"
      },
      "execution_count": 18,
      "outputs": [
        {
          "output_type": "stream",
          "name": "stdout",
          "text": [
            "Requirement already satisfied: tensorflow in /usr/local/lib/python3.10/dist-packages (2.13.0)\n",
            "Requirement already satisfied: absl-py>=1.0.0 in /usr/local/lib/python3.10/dist-packages (from tensorflow) (1.4.0)\n",
            "Requirement already satisfied: astunparse>=1.6.0 in /usr/local/lib/python3.10/dist-packages (from tensorflow) (1.6.3)\n",
            "Requirement already satisfied: flatbuffers>=23.1.21 in /usr/local/lib/python3.10/dist-packages (from tensorflow) (23.5.26)\n",
            "Requirement already satisfied: gast<=0.4.0,>=0.2.1 in /usr/local/lib/python3.10/dist-packages (from tensorflow) (0.4.0)\n",
            "Requirement already satisfied: google-pasta>=0.1.1 in /usr/local/lib/python3.10/dist-packages (from tensorflow) (0.2.0)\n",
            "Requirement already satisfied: grpcio<2.0,>=1.24.3 in /usr/local/lib/python3.10/dist-packages (from tensorflow) (1.59.0)\n",
            "Requirement already satisfied: h5py>=2.9.0 in /usr/local/lib/python3.10/dist-packages (from tensorflow) (3.9.0)\n",
            "Requirement already satisfied: keras<2.14,>=2.13.1 in /usr/local/lib/python3.10/dist-packages (from tensorflow) (2.13.1)\n",
            "Requirement already satisfied: libclang>=13.0.0 in /usr/local/lib/python3.10/dist-packages (from tensorflow) (16.0.6)\n",
            "Requirement already satisfied: numpy<=1.24.3,>=1.22 in /usr/local/lib/python3.10/dist-packages (from tensorflow) (1.23.5)\n",
            "Requirement already satisfied: opt-einsum>=2.3.2 in /usr/local/lib/python3.10/dist-packages (from tensorflow) (3.3.0)\n",
            "Requirement already satisfied: packaging in /usr/local/lib/python3.10/dist-packages (from tensorflow) (23.2)\n",
            "Requirement already satisfied: protobuf!=4.21.0,!=4.21.1,!=4.21.2,!=4.21.3,!=4.21.4,!=4.21.5,<5.0.0dev,>=3.20.3 in /usr/local/lib/python3.10/dist-packages (from tensorflow) (3.20.3)\n",
            "Requirement already satisfied: setuptools in /usr/local/lib/python3.10/dist-packages (from tensorflow) (67.7.2)\n",
            "Requirement already satisfied: six>=1.12.0 in /usr/local/lib/python3.10/dist-packages (from tensorflow) (1.16.0)\n",
            "Requirement already satisfied: tensorboard<2.14,>=2.13 in /usr/local/lib/python3.10/dist-packages (from tensorflow) (2.13.0)\n",
            "Requirement already satisfied: tensorflow-estimator<2.14,>=2.13.0 in /usr/local/lib/python3.10/dist-packages (from tensorflow) (2.13.0)\n",
            "Requirement already satisfied: termcolor>=1.1.0 in /usr/local/lib/python3.10/dist-packages (from tensorflow) (2.3.0)\n",
            "Requirement already satisfied: typing-extensions<4.6.0,>=3.6.6 in /usr/local/lib/python3.10/dist-packages (from tensorflow) (4.5.0)\n",
            "Requirement already satisfied: wrapt>=1.11.0 in /usr/local/lib/python3.10/dist-packages (from tensorflow) (1.15.0)\n",
            "Requirement already satisfied: tensorflow-io-gcs-filesystem>=0.23.1 in /usr/local/lib/python3.10/dist-packages (from tensorflow) (0.34.0)\n",
            "Requirement already satisfied: wheel<1.0,>=0.23.0 in /usr/local/lib/python3.10/dist-packages (from astunparse>=1.6.0->tensorflow) (0.41.2)\n",
            "Requirement already satisfied: google-auth<3,>=1.6.3 in /usr/local/lib/python3.10/dist-packages (from tensorboard<2.14,>=2.13->tensorflow) (2.17.3)\n",
            "Requirement already satisfied: google-auth-oauthlib<1.1,>=0.5 in /usr/local/lib/python3.10/dist-packages (from tensorboard<2.14,>=2.13->tensorflow) (1.0.0)\n",
            "Requirement already satisfied: markdown>=2.6.8 in /usr/local/lib/python3.10/dist-packages (from tensorboard<2.14,>=2.13->tensorflow) (3.5)\n",
            "Requirement already satisfied: requests<3,>=2.21.0 in /usr/local/lib/python3.10/dist-packages (from tensorboard<2.14,>=2.13->tensorflow) (2.31.0)\n",
            "Requirement already satisfied: tensorboard-data-server<0.8.0,>=0.7.0 in /usr/local/lib/python3.10/dist-packages (from tensorboard<2.14,>=2.13->tensorflow) (0.7.1)\n",
            "Requirement already satisfied: werkzeug>=1.0.1 in /usr/local/lib/python3.10/dist-packages (from tensorboard<2.14,>=2.13->tensorflow) (3.0.0)\n",
            "Requirement already satisfied: cachetools<6.0,>=2.0.0 in /usr/local/lib/python3.10/dist-packages (from google-auth<3,>=1.6.3->tensorboard<2.14,>=2.13->tensorflow) (5.3.1)\n",
            "Requirement already satisfied: pyasn1-modules>=0.2.1 in /usr/local/lib/python3.10/dist-packages (from google-auth<3,>=1.6.3->tensorboard<2.14,>=2.13->tensorflow) (0.3.0)\n",
            "Requirement already satisfied: rsa<5,>=3.1.4 in /usr/local/lib/python3.10/dist-packages (from google-auth<3,>=1.6.3->tensorboard<2.14,>=2.13->tensorflow) (4.9)\n",
            "Requirement already satisfied: requests-oauthlib>=0.7.0 in /usr/local/lib/python3.10/dist-packages (from google-auth-oauthlib<1.1,>=0.5->tensorboard<2.14,>=2.13->tensorflow) (1.3.1)\n",
            "Requirement already satisfied: charset-normalizer<4,>=2 in /usr/local/lib/python3.10/dist-packages (from requests<3,>=2.21.0->tensorboard<2.14,>=2.13->tensorflow) (3.3.0)\n",
            "Requirement already satisfied: idna<4,>=2.5 in /usr/local/lib/python3.10/dist-packages (from requests<3,>=2.21.0->tensorboard<2.14,>=2.13->tensorflow) (3.4)\n",
            "Requirement already satisfied: urllib3<3,>=1.21.1 in /usr/local/lib/python3.10/dist-packages (from requests<3,>=2.21.0->tensorboard<2.14,>=2.13->tensorflow) (2.0.6)\n",
            "Requirement already satisfied: certifi>=2017.4.17 in /usr/local/lib/python3.10/dist-packages (from requests<3,>=2.21.0->tensorboard<2.14,>=2.13->tensorflow) (2023.7.22)\n",
            "Requirement already satisfied: MarkupSafe>=2.1.1 in /usr/local/lib/python3.10/dist-packages (from werkzeug>=1.0.1->tensorboard<2.14,>=2.13->tensorflow) (2.1.3)\n",
            "Requirement already satisfied: pyasn1<0.6.0,>=0.4.6 in /usr/local/lib/python3.10/dist-packages (from pyasn1-modules>=0.2.1->google-auth<3,>=1.6.3->tensorboard<2.14,>=2.13->tensorflow) (0.5.0)\n",
            "Requirement already satisfied: oauthlib>=3.0.0 in /usr/local/lib/python3.10/dist-packages (from requests-oauthlib>=0.7.0->google-auth-oauthlib<1.1,>=0.5->tensorboard<2.14,>=2.13->tensorflow) (3.2.2)\n"
          ]
        }
      ]
    },
    {
      "cell_type": "code",
      "execution_count": 19,
      "metadata": {
        "colab": {
          "base_uri": "https://localhost:8080/"
        },
        "id": "SQwk_5nOxE7h",
        "outputId": "0a8a0898-9dd5-48b4-f3e7-4c1cc2222bb0"
      },
      "outputs": [
        {
          "output_type": "stream",
          "name": "stdout",
          "text": [
            "TensorFlow 版本: 2.13.0\n"
          ]
        }
      ],
      "source": [
        "# 匯入 TensorFlow 套件\n",
        "import tensorflow as tf\n",
        "print(\"TensorFlow 版本:\", tf.__version__)"
      ]
    },
    {
      "cell_type": "markdown",
      "source": [
        "### 基本用法"
      ],
      "metadata": {
        "id": "5YgabdjyySwJ"
      }
    },
    {
      "cell_type": "markdown",
      "source": [
        "#### 創建張量 (Tensor)"
      ],
      "metadata": {
        "id": "Da0Y2Fn9ysJh"
      }
    },
    {
      "cell_type": "markdown",
      "source": [
        "##### 創建 rank 0 張量 (純量, Scalar)"
      ],
      "metadata": {
        "id": "WXlf_iNg1TeK"
      }
    },
    {
      "cell_type": "code",
      "source": [
        "rank_0_tensor = tf.constant(4)\n",
        "\n",
        "print(rank_0_tensor)"
      ],
      "metadata": {
        "colab": {
          "base_uri": "https://localhost:8080/"
        },
        "id": "EmkF4RgQyao4",
        "outputId": "ea8a1bfb-765c-4bd0-9277-b9eb1596d3c4"
      },
      "execution_count": 20,
      "outputs": [
        {
          "output_type": "stream",
          "name": "stdout",
          "text": [
            "tf.Tensor(4, shape=(), dtype=int32)\n"
          ]
        }
      ]
    },
    {
      "cell_type": "markdown",
      "source": [
        "##### 創建 rank 1 張量 (向量, Vector)"
      ],
      "metadata": {
        "id": "0rx1a1eR1Xum"
      }
    },
    {
      "cell_type": "code",
      "source": [
        "rank_1_tensor = tf.constant([2., 3., 4.])\n",
        "\n",
        "print(rank_1_tensor)"
      ],
      "metadata": {
        "colab": {
          "base_uri": "https://localhost:8080/"
        },
        "id": "W6pETsPey24R",
        "outputId": "e61c2d73-1999-41b8-cfdf-02bda19e2b2a"
      },
      "execution_count": 21,
      "outputs": [
        {
          "output_type": "stream",
          "name": "stdout",
          "text": [
            "tf.Tensor([2. 3. 4.], shape=(3,), dtype=float32)\n"
          ]
        }
      ]
    },
    {
      "cell_type": "markdown",
      "source": [
        "##### 創建 rank 2 張量 (矩陣, Matrix)"
      ],
      "metadata": {
        "id": "-lDqViGP1Z8_"
      }
    },
    {
      "cell_type": "code",
      "source": [
        "rank_2_tensor = tf.constant(\n",
        "    [[1, 2],\n",
        "     [3, 4],\n",
        "     [5, 6]],\n",
        "    dtype=tf.float16\n",
        ")\n",
        "\n",
        "print(rank_2_tensor)"
      ],
      "metadata": {
        "colab": {
          "base_uri": "https://localhost:8080/"
        },
        "id": "6DzNgsEGy_-h",
        "outputId": "67e1e5bc-5f15-4a21-869f-e12e59c0a831"
      },
      "execution_count": 22,
      "outputs": [
        {
          "output_type": "stream",
          "name": "stdout",
          "text": [
            "tf.Tensor(\n",
            "[[1. 2.]\n",
            " [3. 4.]\n",
            " [5. 6.]], shape=(3, 2), dtype=float16)\n"
          ]
        }
      ]
    },
    {
      "cell_type": "markdown",
      "source": [
        "##### 創建更高維度的張量\n",
        "\n",
        "創建 float32 例型的張量"
      ],
      "metadata": {
        "id": "ZiBA81v2y14m"
      }
    },
    {
      "cell_type": "code",
      "source": [
        "rank_3_tensor = tf.constant([\n",
        "  [[ 0,  1,  2,  3,  4],\n",
        "   [ 5,  6,  7,  8,  9]],\n",
        "  [[10, 11, 12, 13, 14],\n",
        "   [15, 16, 17, 18, 19]],\n",
        "  [[20, 21, 22, 23, 24],\n",
        "   [25, 26, 27, 28, 29]]])\n",
        "\n",
        "print(rank_3_tensor)"
      ],
      "metadata": {
        "colab": {
          "base_uri": "https://localhost:8080/"
        },
        "id": "QHOW5CSz0iKG",
        "outputId": "e5470eb8-3c0d-4d5b-977d-d6d5454529a3"
      },
      "execution_count": 23,
      "outputs": [
        {
          "output_type": "stream",
          "name": "stdout",
          "text": [
            "tf.Tensor(\n",
            "[[[ 0  1  2  3  4]\n",
            "  [ 5  6  7  8  9]]\n",
            "\n",
            " [[10 11 12 13 14]\n",
            "  [15 16 17 18 19]]\n",
            "\n",
            " [[20 21 22 23 24]\n",
            "  [25 26 27 28 29]]], shape=(3, 2, 5), dtype=int32)\n"
          ]
        }
      ]
    },
    {
      "cell_type": "markdown",
      "source": [
        "## 將 Tensor 轉換為 Numpy"
      ],
      "metadata": {
        "id": "eerRM3dBxXIl"
      }
    },
    {
      "cell_type": "markdown",
      "source": [
        "### 匯入 Numpy 套件"
      ],
      "metadata": {
        "id": "rumG-QPg1sd6"
      }
    },
    {
      "cell_type": "code",
      "source": [
        "import numpy as np"
      ],
      "metadata": {
        "id": "dttOjDPE1tHZ"
      },
      "execution_count": 24,
      "outputs": []
    },
    {
      "cell_type": "markdown",
      "source": [
        "### 轉換成 Numpy\n",
        "\n",
        "將 TensorFlow 轉換成 Numpy 有兩種方法，分別是利用 Numpy 提供的方法與使用 TensorFlow 本身的方法來達成。"
      ],
      "metadata": {
        "id": "KMUtraMV126F"
      }
    },
    {
      "cell_type": "markdown",
      "source": [
        "#### 利用 Numpy 的方法"
      ],
      "metadata": {
        "id": "Nsod-wh-2F6x"
      }
    },
    {
      "cell_type": "code",
      "source": [
        "np.array(rank_2_tensor)"
      ],
      "metadata": {
        "colab": {
          "base_uri": "https://localhost:8080/"
        },
        "id": "zkv7wOKc19xK",
        "outputId": "b061c5c0-d1db-4e3c-a324-d4971b168a6c"
      },
      "execution_count": 25,
      "outputs": [
        {
          "output_type": "execute_result",
          "data": {
            "text/plain": [
              "array([[1., 2.],\n",
              "       [3., 4.],\n",
              "       [5., 6.]], dtype=float16)"
            ]
          },
          "metadata": {},
          "execution_count": 25
        }
      ]
    },
    {
      "cell_type": "markdown",
      "source": [
        "#### 利用 TensorFlow 的方法"
      ],
      "metadata": {
        "id": "1rSOZ6Ix2Jzs"
      }
    },
    {
      "cell_type": "code",
      "source": [
        "rank_2_tensor.numpy()"
      ],
      "metadata": {
        "colab": {
          "base_uri": "https://localhost:8080/"
        },
        "id": "9cJD0VPW2C31",
        "outputId": "eb9939da-2dcc-4b15-f901-628f700f0e8d"
      },
      "execution_count": 26,
      "outputs": [
        {
          "output_type": "execute_result",
          "data": {
            "text/plain": [
              "array([[1., 2.],\n",
              "       [3., 4.],\n",
              "       [5., 6.]], dtype=float16)"
            ]
          },
          "metadata": {},
          "execution_count": 26
        }
      ]
    },
    {
      "cell_type": "markdown",
      "source": [
        "## TensorFlow 運算方法"
      ],
      "metadata": {
        "id": "INammqCF2sgS"
      }
    },
    {
      "cell_type": "markdown",
      "source": [
        "### 定義張量 a 與 b"
      ],
      "metadata": {
        "id": "8cX_Mmr72z9-"
      }
    },
    {
      "cell_type": "code",
      "source": [
        "a = tf.constant(\n",
        "    [[1, 2],\n",
        "     [3, 4]]\n",
        ")\n",
        "\n",
        "print(a)"
      ],
      "metadata": {
        "colab": {
          "base_uri": "https://localhost:8080/"
        },
        "id": "_rND71Xw2yg7",
        "outputId": "e3a78c17-5542-424d-a043-ad5f2053fee3"
      },
      "execution_count": 30,
      "outputs": [
        {
          "output_type": "stream",
          "name": "stdout",
          "text": [
            "tf.Tensor(\n",
            "[[1 2]\n",
            " [3 4]], shape=(2, 2), dtype=int32)\n"
          ]
        }
      ]
    },
    {
      "cell_type": "code",
      "source": [
        "b = tf.constant(\n",
        "    [[1, 1],\n",
        "     [1, 1]]\n",
        ")\n",
        "\n",
        "print(b)"
      ],
      "metadata": {
        "colab": {
          "base_uri": "https://localhost:8080/"
        },
        "id": "zlVU4e0b3AH0",
        "outputId": "ca0cfeb1-afb9-4030-a2ec-e652ffcdc9dd"
      },
      "execution_count": 29,
      "outputs": [
        {
          "output_type": "stream",
          "name": "stdout",
          "text": [
            "tf.Tensor(\n",
            "[[1 1]\n",
            " [1 1]], shape=(2, 2), dtype=int32)\n"
          ]
        }
      ]
    },
    {
      "cell_type": "markdown",
      "source": [
        "### 加法運算"
      ],
      "metadata": {
        "id": "hmbCTyaW3HGl"
      }
    },
    {
      "cell_type": "code",
      "source": [
        "tf.add(a, b)"
      ],
      "metadata": {
        "colab": {
          "base_uri": "https://localhost:8080/"
        },
        "id": "IBMz1tot3Szj",
        "outputId": "c3fc1a3a-f110-4d13-e1e5-5a3f6d62048f"
      },
      "execution_count": 31,
      "outputs": [
        {
          "output_type": "execute_result",
          "data": {
            "text/plain": [
              "<tf.Tensor: shape=(2, 2), dtype=int32, numpy=\n",
              "array([[2, 3],\n",
              "       [4, 5]], dtype=int32)>"
            ]
          },
          "metadata": {},
          "execution_count": 31
        }
      ]
    },
    {
      "cell_type": "code",
      "source": [
        "a + b"
      ],
      "metadata": {
        "colab": {
          "base_uri": "https://localhost:8080/"
        },
        "id": "JvGI95Sh36g8",
        "outputId": "6069dcf7-e898-4f89-8d26-16941b70a7fa"
      },
      "execution_count": 34,
      "outputs": [
        {
          "output_type": "execute_result",
          "data": {
            "text/plain": [
              "<tf.Tensor: shape=(2, 2), dtype=int32, numpy=\n",
              "array([[2, 3],\n",
              "       [4, 5]], dtype=int32)>"
            ]
          },
          "metadata": {},
          "execution_count": 34
        }
      ]
    },
    {
      "cell_type": "markdown",
      "source": [
        "### 元素乘法"
      ],
      "metadata": {
        "id": "MRqnSeIW3vTI"
      }
    },
    {
      "cell_type": "code",
      "source": [
        "tf.multiply(a, b)"
      ],
      "metadata": {
        "colab": {
          "base_uri": "https://localhost:8080/"
        },
        "id": "LyrgPHyj3V4Q",
        "outputId": "013eebd5-d45d-48e3-e420-dd93f700f037"
      },
      "execution_count": 32,
      "outputs": [
        {
          "output_type": "execute_result",
          "data": {
            "text/plain": [
              "<tf.Tensor: shape=(2, 2), dtype=int32, numpy=\n",
              "array([[1, 2],\n",
              "       [3, 4]], dtype=int32)>"
            ]
          },
          "metadata": {},
          "execution_count": 32
        }
      ]
    },
    {
      "cell_type": "code",
      "source": [
        "a * b"
      ],
      "metadata": {
        "colab": {
          "base_uri": "https://localhost:8080/"
        },
        "id": "FCoTvUD_4BZH",
        "outputId": "3c0cdc52-da0f-4fda-ba5b-28eae8943526"
      },
      "execution_count": 35,
      "outputs": [
        {
          "output_type": "execute_result",
          "data": {
            "text/plain": [
              "<tf.Tensor: shape=(2, 2), dtype=int32, numpy=\n",
              "array([[1, 2],\n",
              "       [3, 4]], dtype=int32)>"
            ]
          },
          "metadata": {},
          "execution_count": 35
        }
      ]
    },
    {
      "cell_type": "markdown",
      "source": [
        "### 矩陣乘法"
      ],
      "metadata": {
        "id": "TCuqepvu3voV"
      }
    },
    {
      "cell_type": "code",
      "source": [
        "tf.matmul(a, b)"
      ],
      "metadata": {
        "colab": {
          "base_uri": "https://localhost:8080/"
        },
        "id": "4jOLP6yV3ZMb",
        "outputId": "8be83c83-e16f-4ec7-df23-d1199c3b3445"
      },
      "execution_count": 33,
      "outputs": [
        {
          "output_type": "execute_result",
          "data": {
            "text/plain": [
              "<tf.Tensor: shape=(2, 2), dtype=int32, numpy=\n",
              "array([[3, 3],\n",
              "       [7, 7]], dtype=int32)>"
            ]
          },
          "metadata": {},
          "execution_count": 33
        }
      ]
    },
    {
      "cell_type": "code",
      "source": [
        "a @ b"
      ],
      "metadata": {
        "colab": {
          "base_uri": "https://localhost:8080/"
        },
        "id": "a0qeHIpD4Dkn",
        "outputId": "2d14194b-b9e3-402f-d000-20845883edec"
      },
      "execution_count": 36,
      "outputs": [
        {
          "output_type": "execute_result",
          "data": {
            "text/plain": [
              "<tf.Tensor: shape=(2, 2), dtype=int32, numpy=\n",
              "array([[3, 3],\n",
              "       [7, 7]], dtype=int32)>"
            ]
          },
          "metadata": {},
          "execution_count": 36
        }
      ]
    },
    {
      "cell_type": "markdown",
      "source": [
        "### 聚合運算\n",
        "\n",
        "- tf.reduce_sum() : 求和\n",
        "- tf.reduce_mean() : 平均值\n",
        "- tf.reduce_max()  : 最大值\n",
        "- tf.reduce_min()  : 最小值\n",
        "- tf.argmax() : 最大值的索引\n",
        "- tf.argmin() : 最小值的索引"
      ],
      "metadata": {
        "id": "Azntls8O4LSW"
      }
    },
    {
      "cell_type": "markdown",
      "source": [
        "#### 定義張量 c"
      ],
      "metadata": {
        "id": "2Ya4SdF84sR2"
      }
    },
    {
      "cell_type": "code",
      "source": [
        "c = tf.constant([[4.0, 5.0], [10.0, 1.0]])\n",
        "c"
      ],
      "metadata": {
        "colab": {
          "base_uri": "https://localhost:8080/"
        },
        "id": "-7MjMl2A4LqV",
        "outputId": "f4d6e611-3192-47f8-ff42-d8cc4f5dd808"
      },
      "execution_count": 39,
      "outputs": [
        {
          "output_type": "execute_result",
          "data": {
            "text/plain": [
              "<tf.Tensor: shape=(2, 2), dtype=float32, numpy=\n",
              "array([[ 4.,  5.],\n",
              "       [10.,  1.]], dtype=float32)>"
            ]
          },
          "metadata": {},
          "execution_count": 39
        }
      ]
    },
    {
      "cell_type": "markdown",
      "source": [
        "#### 最大值"
      ],
      "metadata": {
        "id": "Um_FMiWw4v3g"
      }
    },
    {
      "cell_type": "code",
      "source": [
        "tf.reduce_max(c)"
      ],
      "metadata": {
        "colab": {
          "base_uri": "https://localhost:8080/"
        },
        "id": "zFKDa3AI4p1B",
        "outputId": "678a9192-2dc2-48bf-8212-dc84e682c72d"
      },
      "execution_count": 40,
      "outputs": [
        {
          "output_type": "execute_result",
          "data": {
            "text/plain": [
              "<tf.Tensor: shape=(), dtype=float32, numpy=10.0>"
            ]
          },
          "metadata": {},
          "execution_count": 40
        }
      ]
    },
    {
      "cell_type": "markdown",
      "source": [
        "#### 最大值索引"
      ],
      "metadata": {
        "id": "qx4p04Xq45ci"
      }
    },
    {
      "cell_type": "code",
      "source": [
        "tf.argmax(c)"
      ],
      "metadata": {
        "colab": {
          "base_uri": "https://localhost:8080/"
        },
        "id": "OobNCyo349yh",
        "outputId": "dd15224d-361e-4f4e-d261-e06ed815afd7"
      },
      "execution_count": 41,
      "outputs": [
        {
          "output_type": "execute_result",
          "data": {
            "text/plain": [
              "<tf.Tensor: shape=(2,), dtype=int64, numpy=array([1, 0])>"
            ]
          },
          "metadata": {},
          "execution_count": 41
        }
      ]
    },
    {
      "cell_type": "markdown",
      "source": [
        "#### 均值"
      ],
      "metadata": {
        "id": "-7mntcac4_97"
      }
    },
    {
      "cell_type": "code",
      "source": [
        "tf.reduce_mean(c)"
      ],
      "metadata": {
        "colab": {
          "base_uri": "https://localhost:8080/"
        },
        "id": "_Qi_9Ejx4_qz",
        "outputId": "6eec99bd-5327-4492-c6df-dff25927f473"
      },
      "execution_count": 42,
      "outputs": [
        {
          "output_type": "execute_result",
          "data": {
            "text/plain": [
              "<tf.Tensor: shape=(), dtype=float32, numpy=5.0>"
            ]
          },
          "metadata": {},
          "execution_count": 42
        }
      ]
    },
    {
      "cell_type": "markdown",
      "source": [
        "## 變數"
      ],
      "metadata": {
        "id": "DFB0tp89-2jy"
      }
    },
    {
      "cell_type": "code",
      "source": [
        "var1 = tf.Variable([[1.0, 2.0], [3.0, 4.0]])\n",
        "var1"
      ],
      "metadata": {
        "colab": {
          "base_uri": "https://localhost:8080/"
        },
        "id": "mrOrqqjE-8gg",
        "outputId": "a4769a45-fd13-485c-8a9c-880b021669a3"
      },
      "execution_count": 43,
      "outputs": [
        {
          "output_type": "execute_result",
          "data": {
            "text/plain": [
              "<tf.Variable 'Variable:0' shape=(2, 2) dtype=float32, numpy=\n",
              "array([[1., 2.],\n",
              "       [3., 4.]], dtype=float32)>"
            ]
          },
          "metadata": {},
          "execution_count": 43
        }
      ]
    },
    {
      "cell_type": "markdown",
      "source": [
        "## Keras 介紹"
      ],
      "metadata": {
        "id": "tfTkXES8_j6F"
      }
    },
    {
      "cell_type": "markdown",
      "source": [
        "### 從 TensorFlow 匯入 Keras 套件"
      ],
      "metadata": {
        "id": "9a8ezAd_AcH-"
      }
    },
    {
      "cell_type": "code",
      "source": [
        "from tensorflow import keras"
      ],
      "metadata": {
        "id": "wiTVJW6yAShR"
      },
      "execution_count": 46,
      "outputs": []
    },
    {
      "cell_type": "markdown",
      "source": [
        "### 使用 Keras 載入 MNIST 資料集\n",
        "\n",
        "載入資料集與正規化"
      ],
      "metadata": {
        "id": "d5PZ0P0lCQLG"
      }
    },
    {
      "cell_type": "code",
      "source": [
        "mnist = keras.datasets.mnist"
      ],
      "metadata": {
        "id": "v38vo0RF_mPD"
      },
      "execution_count": 51,
      "outputs": []
    },
    {
      "cell_type": "code",
      "source": [
        "(x_train, y_train), (x_test, y_test) = mnist.load_data()\n",
        "x_train, x_test = x_train / 255.0, x_test / 255.0"
      ],
      "metadata": {
        "id": "eSxmsYOuCWtE"
      },
      "execution_count": 52,
      "outputs": []
    },
    {
      "cell_type": "markdown",
      "source": [
        "### 模型建構"
      ],
      "metadata": {
        "id": "x7D7CYsFC3gk"
      }
    },
    {
      "cell_type": "markdown",
      "source": [
        "#### 從 Keras 匯入 Layer 套件"
      ],
      "metadata": {
        "id": "TYms-2N7DeWi"
      }
    },
    {
      "cell_type": "code",
      "source": [
        "from tensorflow.keras import layers as KL"
      ],
      "metadata": {
        "id": "iO-ZshU4DFPM"
      },
      "execution_count": 53,
      "outputs": []
    },
    {
      "cell_type": "markdown",
      "source": [
        "#### 建置手寫辨識分類資料集"
      ],
      "metadata": {
        "id": "H4f0swymDl2e"
      }
    },
    {
      "cell_type": "code",
      "source": [
        "model = keras.models.Sequential([\n",
        "    KL.Flatten(input_shape=(28, 28)),\n",
        "    KL.Dense(128, activation='relu'),\n",
        "    KL.Dropout(0.2),\n",
        "    KL.Dense(10)\n",
        "])"
      ],
      "metadata": {
        "id": "Ia-mZRrWCrh3"
      },
      "execution_count": 54,
      "outputs": []
    },
    {
      "cell_type": "markdown",
      "source": [
        "#### 模型預測"
      ],
      "metadata": {
        "id": "60V7QGc9DqJH"
      }
    },
    {
      "cell_type": "markdown",
      "source": [
        "##### 對樣本進行預測\n",
        "\n",
        "會回傳會是樣本對於每個類別的邏輯分數(Logits)向量。"
      ],
      "metadata": {
        "id": "X5rJytsvEVDt"
      }
    },
    {
      "cell_type": "code",
      "source": [
        "predictions = model(x_train[:1]).numpy()\n",
        "predictions"
      ],
      "metadata": {
        "colab": {
          "base_uri": "https://localhost:8080/"
        },
        "id": "rf7e7FH3DdBk",
        "outputId": "8eb36fe5-9601-4410-d91a-82dadb809d84"
      },
      "execution_count": 57,
      "outputs": [
        {
          "output_type": "execute_result",
          "data": {
            "text/plain": [
              "array([[-0.6793607 , -0.1534846 ,  0.1577643 ,  0.1113722 , -0.2822224 ,\n",
              "        -0.13211143, -0.01687551,  0.42131132, -0.15692118,  0.4346081 ]],\n",
              "      dtype=float32)"
            ]
          },
          "metadata": {},
          "execution_count": 57
        }
      ]
    },
    {
      "cell_type": "markdown",
      "source": [
        "##### 透過 Softmax 轉為每個類別的機率"
      ],
      "metadata": {
        "id": "2LRvsEMJEPLK"
      }
    },
    {
      "cell_type": "code",
      "source": [
        "tf.nn.softmax(predictions).numpy()"
      ],
      "metadata": {
        "colab": {
          "base_uri": "https://localhost:8080/"
        },
        "id": "FgnBrYeLEEam",
        "outputId": "72f826df-54f2-4e4b-a32a-db532182de0a"
      },
      "execution_count": 59,
      "outputs": [
        {
          "output_type": "execute_result",
          "data": {
            "text/plain": [
              "array([[0.04974858, 0.08417165, 0.11490515, 0.10969622, 0.07400408,\n",
              "        0.08599002, 0.09649269, 0.14955348, 0.08388288, 0.15155533]],\n",
              "      dtype=float32)"
            ]
          },
          "metadata": {},
          "execution_count": 59
        }
      ]
    },
    {
      "cell_type": "markdown",
      "source": [
        "#### 計算損失函數\n",
        "\n",
        "未經過訓練的模型，給出的機率值接近隨機(1/10)，因此初始損失應該接近\n",
        "\n",
        "```\n",
        "-tf.math.log(1/10) ~= 2.3\n",
        "```"
      ],
      "metadata": {
        "id": "F14Tsgi9Fti3"
      }
    },
    {
      "cell_type": "code",
      "source": [
        "-tf.math.log(1/10)"
      ],
      "metadata": {
        "colab": {
          "base_uri": "https://localhost:8080/"
        },
        "id": "IModD65AGlrN",
        "outputId": "f266afc7-a902-478b-ad28-976443eefd8d"
      },
      "execution_count": 62,
      "outputs": [
        {
          "output_type": "execute_result",
          "data": {
            "text/plain": [
              "<tf.Tensor: shape=(), dtype=float32, numpy=2.3025851>"
            ]
          },
          "metadata": {},
          "execution_count": 62
        }
      ]
    },
    {
      "cell_type": "markdown",
      "source": [
        "##### 使用稀疏分類交叉熵"
      ],
      "metadata": {
        "id": "_4UfdbkFGuJ4"
      }
    },
    {
      "cell_type": "code",
      "source": [
        "loss_fn = keras.losses.SparseCategoricalCrossentropy(from_logits=True)"
      ],
      "metadata": {
        "id": "sekxIuX2FtGx"
      },
      "execution_count": 60,
      "outputs": []
    },
    {
      "cell_type": "code",
      "source": [
        "loss_fn(y_train[:1], predictions).numpy()"
      ],
      "metadata": {
        "colab": {
          "base_uri": "https://localhost:8080/"
        },
        "id": "VU47O3iNGAY2",
        "outputId": "40455ebd-dd73-4096-97c4-d52050e99e9f"
      },
      "execution_count": 61,
      "outputs": [
        {
          "output_type": "execute_result",
          "data": {
            "text/plain": [
              "2.453524"
            ]
          },
          "metadata": {},
          "execution_count": 61
        }
      ]
    },
    {
      "cell_type": "markdown",
      "source": [
        "#### 編譯模型"
      ],
      "metadata": {
        "id": "tjz170aWG02S"
      }
    },
    {
      "cell_type": "code",
      "source": [
        "model.compile(\n",
        "    optimizer='adam',\n",
        "    loss=loss_fn,\n",
        "    metrics=['accuracy']\n",
        ")"
      ],
      "metadata": {
        "id": "LTQgXDIRG39M"
      },
      "execution_count": 63,
      "outputs": []
    },
    {
      "cell_type": "markdown",
      "source": [
        "#### 訓練並評估模型"
      ],
      "metadata": {
        "id": "LpaC7z_rHCWb"
      }
    },
    {
      "cell_type": "markdown",
      "source": [
        "##### 模型訓練"
      ],
      "metadata": {
        "id": "PjBWmdn0HZWe"
      }
    },
    {
      "cell_type": "code",
      "source": [
        "model.fit(\n",
        "    x_train, y_train,\n",
        "    epochs=5\n",
        ")"
      ],
      "metadata": {
        "colab": {
          "base_uri": "https://localhost:8080/"
        },
        "id": "vKVZD0deHAcz",
        "outputId": "f1b0962a-6542-4561-81d4-4f4e9f0b14f8"
      },
      "execution_count": 65,
      "outputs": [
        {
          "output_type": "stream",
          "name": "stdout",
          "text": [
            "Epoch 1/5\n",
            "1875/1875 [==============================] - 9s 4ms/step - loss: 0.3013 - accuracy: 0.9125\n",
            "Epoch 2/5\n",
            "1875/1875 [==============================] - 8s 4ms/step - loss: 0.1464 - accuracy: 0.9560\n",
            "Epoch 3/5\n",
            "1875/1875 [==============================] - 8s 4ms/step - loss: 0.1105 - accuracy: 0.9669\n",
            "Epoch 4/5\n",
            "1875/1875 [==============================] - 9s 5ms/step - loss: 0.0904 - accuracy: 0.9726\n",
            "Epoch 5/5\n",
            "1875/1875 [==============================] - 9s 5ms/step - loss: 0.0777 - accuracy: 0.9750\n"
          ]
        },
        {
          "output_type": "execute_result",
          "data": {
            "text/plain": [
              "<keras.src.callbacks.History at 0x7bb0b72d7790>"
            ]
          },
          "metadata": {},
          "execution_count": 65
        }
      ]
    },
    {
      "cell_type": "markdown",
      "source": [
        "##### 模型評估"
      ],
      "metadata": {
        "id": "p4fSOvgRHUBm"
      }
    },
    {
      "cell_type": "code",
      "source": [
        "model.evaluate(\n",
        "    x_test, y_test,\n",
        "    verbose=2\n",
        ")"
      ],
      "metadata": {
        "colab": {
          "base_uri": "https://localhost:8080/"
        },
        "id": "aforj06XHb_d",
        "outputId": "939ef692-44aa-4175-85e9-f9cd2fe3b0e4"
      },
      "execution_count": 66,
      "outputs": [
        {
          "output_type": "stream",
          "name": "stdout",
          "text": [
            "313/313 - 1s - loss: 0.0734 - accuracy: 0.9787 - 638ms/epoch - 2ms/step\n"
          ]
        },
        {
          "output_type": "execute_result",
          "data": {
            "text/plain": [
              "[0.07344241440296173, 0.9786999821662903]"
            ]
          },
          "metadata": {},
          "execution_count": 66
        }
      ]
    },
    {
      "cell_type": "markdown",
      "source": [
        "##### 建立機率模型"
      ],
      "metadata": {
        "id": "EVwfJRRVHzNh"
      }
    },
    {
      "cell_type": "code",
      "source": [
        "probability_model = keras.Sequential([\n",
        "    model,\n",
        "    KL.Softmax()\n",
        "])"
      ],
      "metadata": {
        "id": "t4YcT9KLHpMp"
      },
      "execution_count": 67,
      "outputs": []
    },
    {
      "cell_type": "code",
      "source": [
        "probability_model(x_test[:5])"
      ],
      "metadata": {
        "colab": {
          "base_uri": "https://localhost:8080/"
        },
        "id": "z76ABYSOHyZ9",
        "outputId": "689c4326-7a0e-4c9a-af32-f1d2beb561e3"
      },
      "execution_count": 68,
      "outputs": [
        {
          "output_type": "execute_result",
          "data": {
            "text/plain": [
              "<tf.Tensor: shape=(5, 10), dtype=float32, numpy=\n",
              "array([[5.1696514e-08, 2.7458467e-09, 2.6161582e-05, 1.6867516e-04,\n",
              "        1.5740411e-11, 1.3165561e-07, 2.7404797e-12, 9.9980396e-01,\n",
              "        3.1159510e-07, 7.7086406e-07],\n",
              "       [4.5801182e-11, 7.1181530e-06, 9.9999046e-01, 2.2891861e-06,\n",
              "        9.2500444e-19, 1.3504530e-07, 4.5470567e-12, 3.7719136e-13,\n",
              "        6.9872645e-09, 9.7171267e-14],\n",
              "       [6.7541714e-07, 9.9609756e-01, 1.2857359e-03, 1.2525081e-04,\n",
              "        2.4198753e-05, 1.1542739e-06, 1.0117909e-05, 2.3737724e-03,\n",
              "        8.0676276e-05, 8.7986717e-07],\n",
              "       [9.9996912e-01, 1.8453258e-10, 1.1222852e-05, 1.9621282e-08,\n",
              "        1.4486550e-06, 4.7906661e-07, 9.1775828e-06, 7.6875574e-07,\n",
              "        8.0741353e-07, 6.9900652e-06],\n",
              "       [8.3209773e-07, 1.8021907e-09, 2.5909005e-06, 6.8342709e-09,\n",
              "        9.9732876e-01, 1.9453289e-08, 4.0331778e-07, 4.7406531e-05,\n",
              "        1.7372315e-08, 2.6200230e-03]], dtype=float32)>"
            ]
          },
          "metadata": {},
          "execution_count": 68
        }
      ]
    }
  ]
}