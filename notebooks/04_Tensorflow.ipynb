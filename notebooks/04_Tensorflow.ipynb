{
 "nbformat": 4,
 "nbformat_minor": 0,
 "metadata": {
  "colab": {
   "provenance": [],
   "toc_visible": true
  },
  "kernelspec": {
   "name": "python3",
   "language": "python",
   "display_name": "Python 3 (ipykernel)"
  },
  "language_info": {
   "name": "python"
  }
 },
 "cells": [
  {
   "cell_type": "markdown",
   "source": [
    "# 04. TensorFlow 框架介紹"
   ],
   "metadata": {
    "id": "6lMijwC8xKkK"
   }
  },
  {
   "cell_type": "markdown",
   "source": [
    "## 目錄"
   ],
   "metadata": {
    "id": "d_vQnc35xP3w"
   }
  },
  {
   "cell_type": "markdown",
   "source": [
    "- 基礎用法\n",
    "- 將 Tensor 轉換為 Numpy\n",
    "- TensorFlow 運算方法\n",
    "- 變數\n"
   ],
   "metadata": {
    "id": "jcoi1pwlxSTL"
   }
  },
  {
   "cell_type": "markdown",
   "source": [
    "## 基礎用法"
   ],
   "metadata": {
    "id": "DqSn0-5NxVtp"
   }
  },
  {
   "cell_type": "markdown",
   "source": [
    "### 匯入套件庫"
   ],
   "metadata": {
    "id": "eNQTze6ixv2j"
   }
  },
  {
   "cell_type": "code",
   "source": [
    "# 安裝 TensorFlow 套件\n",
    "!pip install tensorflow"
   ],
   "metadata": {
    "colab": {
     "base_uri": "https://localhost:8080/"
    },
    "id": "xEdx-nfAxyiE",
    "outputId": "c1aa353f-7f2e-4b61-b6ec-5624ac15714d",
    "ExecuteTime": {
     "end_time": "2023-10-23T10:41:56.906695990Z",
     "start_time": "2023-10-23T10:41:55.805115368Z"
    }
   },
   "execution_count": 1,
   "outputs": [
    {
     "name": "stdout",
     "output_type": "stream",
     "text": [
      "Requirement already satisfied: tensorflow in /home/waynechen/Projects/ai_course_2023/venv/lib/python3.10/site-packages (2.14.0)\r\n",
      "Requirement already satisfied: absl-py>=1.0.0 in /home/waynechen/Projects/ai_course_2023/venv/lib/python3.10/site-packages (from tensorflow) (2.0.0)\r\n",
      "Requirement already satisfied: astunparse>=1.6.0 in /home/waynechen/Projects/ai_course_2023/venv/lib/python3.10/site-packages (from tensorflow) (1.6.3)\r\n",
      "Requirement already satisfied: flatbuffers>=23.5.26 in /home/waynechen/Projects/ai_course_2023/venv/lib/python3.10/site-packages (from tensorflow) (23.5.26)\r\n",
      "Requirement already satisfied: gast!=0.5.0,!=0.5.1,!=0.5.2,>=0.2.1 in /home/waynechen/Projects/ai_course_2023/venv/lib/python3.10/site-packages (from tensorflow) (0.5.4)\r\n",
      "Requirement already satisfied: google-pasta>=0.1.1 in /home/waynechen/Projects/ai_course_2023/venv/lib/python3.10/site-packages (from tensorflow) (0.2.0)\r\n",
      "Requirement already satisfied: h5py>=2.9.0 in /home/waynechen/Projects/ai_course_2023/venv/lib/python3.10/site-packages (from tensorflow) (3.10.0)\r\n",
      "Requirement already satisfied: libclang>=13.0.0 in /home/waynechen/Projects/ai_course_2023/venv/lib/python3.10/site-packages (from tensorflow) (16.0.6)\r\n",
      "Requirement already satisfied: ml-dtypes==0.2.0 in /home/waynechen/Projects/ai_course_2023/venv/lib/python3.10/site-packages (from tensorflow) (0.2.0)\r\n",
      "Requirement already satisfied: numpy>=1.23.5 in /home/waynechen/Projects/ai_course_2023/venv/lib/python3.10/site-packages (from tensorflow) (1.26.1)\r\n",
      "Requirement already satisfied: opt-einsum>=2.3.2 in /home/waynechen/Projects/ai_course_2023/venv/lib/python3.10/site-packages (from tensorflow) (3.3.0)\r\n",
      "Requirement already satisfied: packaging in /home/waynechen/Projects/ai_course_2023/venv/lib/python3.10/site-packages (from tensorflow) (23.2)\r\n",
      "Requirement already satisfied: protobuf!=4.21.0,!=4.21.1,!=4.21.2,!=4.21.3,!=4.21.4,!=4.21.5,<5.0.0dev,>=3.20.3 in /home/waynechen/Projects/ai_course_2023/venv/lib/python3.10/site-packages (from tensorflow) (4.24.4)\r\n",
      "Requirement already satisfied: setuptools in /home/waynechen/Projects/ai_course_2023/venv/lib/python3.10/site-packages (from tensorflow) (68.2.0)\r\n",
      "Requirement already satisfied: six>=1.12.0 in /home/waynechen/Projects/ai_course_2023/venv/lib/python3.10/site-packages (from tensorflow) (1.16.0)\r\n",
      "Requirement already satisfied: termcolor>=1.1.0 in /home/waynechen/Projects/ai_course_2023/venv/lib/python3.10/site-packages (from tensorflow) (2.3.0)\r\n",
      "Requirement already satisfied: typing-extensions>=3.6.6 in /home/waynechen/Projects/ai_course_2023/venv/lib/python3.10/site-packages (from tensorflow) (4.8.0)\r\n",
      "Requirement already satisfied: wrapt<1.15,>=1.11.0 in /home/waynechen/Projects/ai_course_2023/venv/lib/python3.10/site-packages (from tensorflow) (1.14.1)\r\n",
      "Requirement already satisfied: tensorflow-io-gcs-filesystem>=0.23.1 in /home/waynechen/Projects/ai_course_2023/venv/lib/python3.10/site-packages (from tensorflow) (0.34.0)\r\n",
      "Requirement already satisfied: grpcio<2.0,>=1.24.3 in /home/waynechen/Projects/ai_course_2023/venv/lib/python3.10/site-packages (from tensorflow) (1.59.0)\r\n",
      "Requirement already satisfied: tensorboard<2.15,>=2.14 in /home/waynechen/Projects/ai_course_2023/venv/lib/python3.10/site-packages (from tensorflow) (2.14.1)\r\n",
      "Requirement already satisfied: tensorflow-estimator<2.15,>=2.14.0 in /home/waynechen/Projects/ai_course_2023/venv/lib/python3.10/site-packages (from tensorflow) (2.14.0)\r\n",
      "Requirement already satisfied: keras<2.15,>=2.14.0 in /home/waynechen/Projects/ai_course_2023/venv/lib/python3.10/site-packages (from tensorflow) (2.14.0)\r\n",
      "Requirement already satisfied: wheel<1.0,>=0.23.0 in /home/waynechen/Projects/ai_course_2023/venv/lib/python3.10/site-packages (from astunparse>=1.6.0->tensorflow) (0.41.2)\r\n",
      "Requirement already satisfied: google-auth<3,>=1.6.3 in /home/waynechen/Projects/ai_course_2023/venv/lib/python3.10/site-packages (from tensorboard<2.15,>=2.14->tensorflow) (2.23.3)\r\n",
      "Requirement already satisfied: google-auth-oauthlib<1.1,>=0.5 in /home/waynechen/Projects/ai_course_2023/venv/lib/python3.10/site-packages (from tensorboard<2.15,>=2.14->tensorflow) (1.0.0)\r\n",
      "Requirement already satisfied: markdown>=2.6.8 in /home/waynechen/Projects/ai_course_2023/venv/lib/python3.10/site-packages (from tensorboard<2.15,>=2.14->tensorflow) (3.5)\r\n",
      "Requirement already satisfied: requests<3,>=2.21.0 in /home/waynechen/Projects/ai_course_2023/venv/lib/python3.10/site-packages (from tensorboard<2.15,>=2.14->tensorflow) (2.31.0)\r\n",
      "Requirement already satisfied: tensorboard-data-server<0.8.0,>=0.7.0 in /home/waynechen/Projects/ai_course_2023/venv/lib/python3.10/site-packages (from tensorboard<2.15,>=2.14->tensorflow) (0.7.1)\r\n",
      "Requirement already satisfied: werkzeug>=1.0.1 in /home/waynechen/Projects/ai_course_2023/venv/lib/python3.10/site-packages (from tensorboard<2.15,>=2.14->tensorflow) (3.0.0)\r\n",
      "Requirement already satisfied: cachetools<6.0,>=2.0.0 in /home/waynechen/Projects/ai_course_2023/venv/lib/python3.10/site-packages (from google-auth<3,>=1.6.3->tensorboard<2.15,>=2.14->tensorflow) (5.3.1)\r\n",
      "Requirement already satisfied: pyasn1-modules>=0.2.1 in /home/waynechen/Projects/ai_course_2023/venv/lib/python3.10/site-packages (from google-auth<3,>=1.6.3->tensorboard<2.15,>=2.14->tensorflow) (0.3.0)\r\n",
      "Requirement already satisfied: rsa<5,>=3.1.4 in /home/waynechen/Projects/ai_course_2023/venv/lib/python3.10/site-packages (from google-auth<3,>=1.6.3->tensorboard<2.15,>=2.14->tensorflow) (4.9)\r\n",
      "Requirement already satisfied: requests-oauthlib>=0.7.0 in /home/waynechen/Projects/ai_course_2023/venv/lib/python3.10/site-packages (from google-auth-oauthlib<1.1,>=0.5->tensorboard<2.15,>=2.14->tensorflow) (1.3.1)\r\n",
      "Requirement already satisfied: charset-normalizer<4,>=2 in /home/waynechen/Projects/ai_course_2023/venv/lib/python3.10/site-packages (from requests<3,>=2.21.0->tensorboard<2.15,>=2.14->tensorflow) (3.3.1)\r\n",
      "Requirement already satisfied: idna<4,>=2.5 in /home/waynechen/Projects/ai_course_2023/venv/lib/python3.10/site-packages (from requests<3,>=2.21.0->tensorboard<2.15,>=2.14->tensorflow) (3.4)\r\n",
      "Requirement already satisfied: urllib3<3,>=1.21.1 in /home/waynechen/Projects/ai_course_2023/venv/lib/python3.10/site-packages (from requests<3,>=2.21.0->tensorboard<2.15,>=2.14->tensorflow) (2.0.7)\r\n",
      "Requirement already satisfied: certifi>=2017.4.17 in /home/waynechen/Projects/ai_course_2023/venv/lib/python3.10/site-packages (from requests<3,>=2.21.0->tensorboard<2.15,>=2.14->tensorflow) (2023.7.22)\r\n",
      "Requirement already satisfied: MarkupSafe>=2.1.1 in /home/waynechen/Projects/ai_course_2023/venv/lib/python3.10/site-packages (from werkzeug>=1.0.1->tensorboard<2.15,>=2.14->tensorflow) (2.1.3)\r\n",
      "Requirement already satisfied: pyasn1<0.6.0,>=0.4.6 in /home/waynechen/Projects/ai_course_2023/venv/lib/python3.10/site-packages (from pyasn1-modules>=0.2.1->google-auth<3,>=1.6.3->tensorboard<2.15,>=2.14->tensorflow) (0.5.0)\r\n",
      "Requirement already satisfied: oauthlib>=3.0.0 in /home/waynechen/Projects/ai_course_2023/venv/lib/python3.10/site-packages (from requests-oauthlib>=0.7.0->google-auth-oauthlib<1.1,>=0.5->tensorboard<2.15,>=2.14->tensorflow) (3.2.2)\r\n"
     ]
    }
   ]
  },
  {
   "cell_type": "code",
   "execution_count": 2,
   "metadata": {
    "colab": {
     "base_uri": "https://localhost:8080/"
    },
    "id": "SQwk_5nOxE7h",
    "outputId": "0a8a0898-9dd5-48b4-f3e7-4c1cc2222bb0",
    "ExecuteTime": {
     "end_time": "2023-10-23T10:41:58.215503631Z",
     "start_time": "2023-10-23T10:41:56.909037585Z"
    }
   },
   "outputs": [
    {
     "name": "stderr",
     "output_type": "stream",
     "text": [
      "2023-10-23 18:41:57.065139: I tensorflow/tsl/cuda/cudart_stub.cc:28] Could not find cuda drivers on your machine, GPU will not be used.\n",
      "2023-10-23 18:41:57.092292: E tensorflow/compiler/xla/stream_executor/cuda/cuda_dnn.cc:9342] Unable to register cuDNN factory: Attempting to register factory for plugin cuDNN when one has already been registered\n",
      "2023-10-23 18:41:57.092316: E tensorflow/compiler/xla/stream_executor/cuda/cuda_fft.cc:609] Unable to register cuFFT factory: Attempting to register factory for plugin cuFFT when one has already been registered\n",
      "2023-10-23 18:41:57.092346: E tensorflow/compiler/xla/stream_executor/cuda/cuda_blas.cc:1518] Unable to register cuBLAS factory: Attempting to register factory for plugin cuBLAS when one has already been registered\n",
      "2023-10-23 18:41:57.097375: I tensorflow/tsl/cuda/cudart_stub.cc:28] Could not find cuda drivers on your machine, GPU will not be used.\n",
      "2023-10-23 18:41:57.097803: I tensorflow/core/platform/cpu_feature_guard.cc:182] This TensorFlow binary is optimized to use available CPU instructions in performance-critical operations.\n",
      "To enable the following instructions: AVX2 FMA, in other operations, rebuild TensorFlow with the appropriate compiler flags.\n",
      "2023-10-23 18:41:57.800236: W tensorflow/compiler/tf2tensorrt/utils/py_utils.cc:38] TF-TRT Warning: Could not find TensorRT\n"
     ]
    },
    {
     "name": "stdout",
     "output_type": "stream",
     "text": [
      "TensorFlow 版本: 2.14.0\n"
     ]
    }
   ],
   "source": [
    "# 匯入 TensorFlow 套件\n",
    "import tensorflow as tf\n",
    "print(\"TensorFlow 版本:\", tf.__version__)"
   ]
  },
  {
   "cell_type": "markdown",
   "source": [
    "### 基本用法"
   ],
   "metadata": {
    "id": "5YgabdjyySwJ"
   }
  },
  {
   "cell_type": "markdown",
   "source": [
    "#### 創建張量 (Tensor)"
   ],
   "metadata": {
    "id": "Da0Y2Fn9ysJh"
   }
  },
  {
   "cell_type": "markdown",
   "source": [
    "##### 創建 rank 0 張量 (純量, Scalar)"
   ],
   "metadata": {
    "id": "WXlf_iNg1TeK"
   }
  },
  {
   "cell_type": "code",
   "source": [
    "rank_0_tensor = tf.constant(4)\n",
    "\n",
    "print(rank_0_tensor)"
   ],
   "metadata": {
    "colab": {
     "base_uri": "https://localhost:8080/"
    },
    "id": "EmkF4RgQyao4",
    "outputId": "ea8a1bfb-765c-4bd0-9277-b9eb1596d3c4",
    "ExecuteTime": {
     "end_time": "2023-10-23T10:41:58.294570804Z",
     "start_time": "2023-10-23T10:41:58.214988278Z"
    }
   },
   "execution_count": 3,
   "outputs": [
    {
     "name": "stdout",
     "output_type": "stream",
     "text": [
      "tf.Tensor(4, shape=(), dtype=int32)\n"
     ]
    },
    {
     "name": "stderr",
     "output_type": "stream",
     "text": [
      "2023-10-23 18:41:58.278921: I tensorflow/compiler/xla/stream_executor/cuda/cuda_gpu_executor.cc:894] successful NUMA node read from SysFS had negative value (-1), but there must be at least one NUMA node, so returning NUMA node zero. See more at https://github.com/torvalds/linux/blob/v6.0/Documentation/ABI/testing/sysfs-bus-pci#L344-L355\n",
      "2023-10-23 18:41:58.279104: I tensorflow/compiler/xla/stream_executor/cuda/cuda_gpu_executor.cc:894] successful NUMA node read from SysFS had negative value (-1), but there must be at least one NUMA node, so returning NUMA node zero. See more at https://github.com/torvalds/linux/blob/v6.0/Documentation/ABI/testing/sysfs-bus-pci#L344-L355\n",
      "2023-10-23 18:41:58.279424: W tensorflow/core/common_runtime/gpu/gpu_device.cc:2211] Cannot dlopen some GPU libraries. Please make sure the missing libraries mentioned above are installed properly if you would like to use GPU. Follow the guide at https://www.tensorflow.org/install/gpu for how to download and setup the required libraries for your platform.\n",
      "Skipping registering GPU devices...\n"
     ]
    }
   ]
  },
  {
   "cell_type": "markdown",
   "source": [
    "##### 創建 rank 1 張量 (向量, Vector)"
   ],
   "metadata": {
    "id": "0rx1a1eR1Xum"
   }
  },
  {
   "cell_type": "code",
   "source": [
    "rank_1_tensor = tf.constant([2., 3., 4.])\n",
    "\n",
    "print(rank_1_tensor)"
   ],
   "metadata": {
    "colab": {
     "base_uri": "https://localhost:8080/"
    },
    "id": "W6pETsPey24R",
    "outputId": "e61c2d73-1999-41b8-cfdf-02bda19e2b2a",
    "ExecuteTime": {
     "end_time": "2023-10-23T10:41:58.363777700Z",
     "start_time": "2023-10-23T10:41:58.295671554Z"
    }
   },
   "execution_count": 4,
   "outputs": [
    {
     "name": "stdout",
     "output_type": "stream",
     "text": [
      "tf.Tensor([2. 3. 4.], shape=(3,), dtype=float32)\n"
     ]
    }
   ]
  },
  {
   "cell_type": "markdown",
   "source": [
    "##### 創建 rank 2 張量 (矩陣, Matrix)"
   ],
   "metadata": {
    "id": "-lDqViGP1Z8_"
   }
  },
  {
   "cell_type": "code",
   "source": [
    "rank_2_tensor = tf.constant(\n",
    "    [[1, 2],\n",
    "     [3, 4],\n",
    "     [5, 6]],\n",
    "    dtype=tf.float16\n",
    ")\n",
    "\n",
    "print(rank_2_tensor)"
   ],
   "metadata": {
    "colab": {
     "base_uri": "https://localhost:8080/"
    },
    "id": "6DzNgsEGy_-h",
    "outputId": "67e1e5bc-5f15-4a21-869f-e12e59c0a831",
    "ExecuteTime": {
     "end_time": "2023-10-23T10:41:58.364393195Z",
     "start_time": "2023-10-23T10:41:58.318307877Z"
    }
   },
   "execution_count": 5,
   "outputs": [
    {
     "name": "stdout",
     "output_type": "stream",
     "text": [
      "tf.Tensor(\n",
      "[[1. 2.]\n",
      " [3. 4.]\n",
      " [5. 6.]], shape=(3, 2), dtype=float16)\n"
     ]
    }
   ]
  },
  {
   "cell_type": "markdown",
   "source": [
    "##### 創建更高維度的張量\n",
    "\n",
    "創建 float32 例型的張量"
   ],
   "metadata": {
    "id": "ZiBA81v2y14m"
   }
  },
  {
   "cell_type": "code",
   "source": [
    "rank_3_tensor = tf.constant([\n",
    "  [[ 0,  1,  2,  3,  4],\n",
    "   [ 5,  6,  7,  8,  9]],\n",
    "  [[10, 11, 12, 13, 14],\n",
    "   [15, 16, 17, 18, 19]],\n",
    "  [[20, 21, 22, 23, 24],\n",
    "   [25, 26, 27, 28, 29]]])\n",
    "\n",
    "print(rank_3_tensor)"
   ],
   "metadata": {
    "colab": {
     "base_uri": "https://localhost:8080/"
    },
    "id": "QHOW5CSz0iKG",
    "outputId": "e5470eb8-3c0d-4d5b-977d-d6d5454529a3",
    "ExecuteTime": {
     "end_time": "2023-10-23T10:41:58.381567605Z",
     "start_time": "2023-10-23T10:41:58.366614895Z"
    }
   },
   "execution_count": 6,
   "outputs": [
    {
     "name": "stdout",
     "output_type": "stream",
     "text": [
      "tf.Tensor(\n",
      "[[[ 0  1  2  3  4]\n",
      "  [ 5  6  7  8  9]]\n",
      "\n",
      " [[10 11 12 13 14]\n",
      "  [15 16 17 18 19]]\n",
      "\n",
      " [[20 21 22 23 24]\n",
      "  [25 26 27 28 29]]], shape=(3, 2, 5), dtype=int32)\n"
     ]
    }
   ]
  },
  {
   "cell_type": "markdown",
   "source": [
    "## 將 Tensor 轉換為 Numpy"
   ],
   "metadata": {
    "id": "eerRM3dBxXIl"
   }
  },
  {
   "cell_type": "markdown",
   "source": [
    "### 匯入 Numpy 套件"
   ],
   "metadata": {
    "id": "rumG-QPg1sd6"
   }
  },
  {
   "cell_type": "code",
   "source": [
    "import numpy as np"
   ],
   "metadata": {
    "id": "dttOjDPE1tHZ",
    "ExecuteTime": {
     "end_time": "2023-10-23T10:41:58.381786843Z",
     "start_time": "2023-10-23T10:41:58.366712976Z"
    }
   },
   "execution_count": 7,
   "outputs": []
  },
  {
   "cell_type": "markdown",
   "source": [
    "### 轉換成 Numpy\n",
    "\n",
    "將 TensorFlow 轉換成 Numpy 有兩種方法，分別是利用 Numpy 提供的方法與使用 TensorFlow 本身的方法來達成。"
   ],
   "metadata": {
    "id": "KMUtraMV126F"
   }
  },
  {
   "cell_type": "markdown",
   "source": [
    "#### 利用 Numpy 的方法"
   ],
   "metadata": {
    "id": "Nsod-wh-2F6x"
   }
  },
  {
   "cell_type": "code",
   "source": [
    "np.array(rank_2_tensor)"
   ],
   "metadata": {
    "colab": {
     "base_uri": "https://localhost:8080/"
    },
    "id": "zkv7wOKc19xK",
    "outputId": "b061c5c0-d1db-4e3c-a324-d4971b168a6c",
    "ExecuteTime": {
     "end_time": "2023-10-23T10:41:58.382143214Z",
     "start_time": "2023-10-23T10:41:58.366763594Z"
    }
   },
   "execution_count": 8,
   "outputs": [
    {
     "data": {
      "text/plain": "array([[1., 2.],\n       [3., 4.],\n       [5., 6.]], dtype=float16)"
     },
     "execution_count": 8,
     "metadata": {},
     "output_type": "execute_result"
    }
   ]
  },
  {
   "cell_type": "markdown",
   "source": [
    "#### 利用 TensorFlow 的方法"
   ],
   "metadata": {
    "id": "1rSOZ6Ix2Jzs"
   }
  },
  {
   "cell_type": "code",
   "source": [
    "rank_2_tensor.numpy()"
   ],
   "metadata": {
    "colab": {
     "base_uri": "https://localhost:8080/"
    },
    "id": "9cJD0VPW2C31",
    "outputId": "eb9939da-2dcc-4b15-f901-628f700f0e8d",
    "ExecuteTime": {
     "end_time": "2023-10-23T10:41:58.382446537Z",
     "start_time": "2023-10-23T10:41:58.366817711Z"
    }
   },
   "execution_count": 9,
   "outputs": [
    {
     "data": {
      "text/plain": "array([[1., 2.],\n       [3., 4.],\n       [5., 6.]], dtype=float16)"
     },
     "execution_count": 9,
     "metadata": {},
     "output_type": "execute_result"
    }
   ]
  },
  {
   "cell_type": "markdown",
   "source": [
    "## TensorFlow 運算方法"
   ],
   "metadata": {
    "id": "INammqCF2sgS"
   }
  },
  {
   "cell_type": "markdown",
   "source": [
    "### 定義張量 a 與 b"
   ],
   "metadata": {
    "id": "8cX_Mmr72z9-"
   }
  },
  {
   "cell_type": "code",
   "source": [
    "a = tf.constant(\n",
    "    [[1, 2],\n",
    "     [3, 4]]\n",
    ")\n",
    "\n",
    "print(a)"
   ],
   "metadata": {
    "colab": {
     "base_uri": "https://localhost:8080/"
    },
    "id": "_rND71Xw2yg7",
    "outputId": "e3a78c17-5542-424d-a043-ad5f2053fee3",
    "ExecuteTime": {
     "end_time": "2023-10-23T10:41:58.382709402Z",
     "start_time": "2023-10-23T10:41:58.366872231Z"
    }
   },
   "execution_count": 10,
   "outputs": [
    {
     "name": "stdout",
     "output_type": "stream",
     "text": [
      "tf.Tensor(\n",
      "[[1 2]\n",
      " [3 4]], shape=(2, 2), dtype=int32)\n"
     ]
    }
   ]
  },
  {
   "cell_type": "code",
   "source": [
    "b = tf.constant(\n",
    "    [[1, 1],\n",
    "     [1, 1]]\n",
    ")\n",
    "\n",
    "print(b)"
   ],
   "metadata": {
    "colab": {
     "base_uri": "https://localhost:8080/"
    },
    "id": "zlVU4e0b3AH0",
    "outputId": "ca0cfeb1-afb9-4030-a2ec-e652ffcdc9dd",
    "ExecuteTime": {
     "end_time": "2023-10-23T10:41:58.495473314Z",
     "start_time": "2023-10-23T10:41:58.366944282Z"
    }
   },
   "execution_count": 11,
   "outputs": [
    {
     "name": "stdout",
     "output_type": "stream",
     "text": [
      "tf.Tensor(\n",
      "[[1 1]\n",
      " [1 1]], shape=(2, 2), dtype=int32)\n"
     ]
    }
   ]
  },
  {
   "cell_type": "markdown",
   "source": [
    "### 加法運算"
   ],
   "metadata": {
    "id": "hmbCTyaW3HGl"
   }
  },
  {
   "cell_type": "code",
   "source": [
    "tf.add(a, b)"
   ],
   "metadata": {
    "colab": {
     "base_uri": "https://localhost:8080/"
    },
    "id": "IBMz1tot3Szj",
    "outputId": "c3fc1a3a-f110-4d13-e1e5-5a3f6d62048f",
    "ExecuteTime": {
     "end_time": "2023-10-23T10:41:58.495942752Z",
     "start_time": "2023-10-23T10:41:58.410611621Z"
    }
   },
   "execution_count": 12,
   "outputs": [
    {
     "data": {
      "text/plain": "<tf.Tensor: shape=(2, 2), dtype=int32, numpy=\narray([[2, 3],\n       [4, 5]], dtype=int32)>"
     },
     "execution_count": 12,
     "metadata": {},
     "output_type": "execute_result"
    }
   ]
  },
  {
   "cell_type": "code",
   "source": [
    "a + b"
   ],
   "metadata": {
    "colab": {
     "base_uri": "https://localhost:8080/"
    },
    "id": "JvGI95Sh36g8",
    "outputId": "6069dcf7-e898-4f89-8d26-16941b70a7fa",
    "ExecuteTime": {
     "end_time": "2023-10-23T10:41:58.496133526Z",
     "start_time": "2023-10-23T10:41:58.410730316Z"
    }
   },
   "execution_count": 13,
   "outputs": [
    {
     "data": {
      "text/plain": "<tf.Tensor: shape=(2, 2), dtype=int32, numpy=\narray([[2, 3],\n       [4, 5]], dtype=int32)>"
     },
     "execution_count": 13,
     "metadata": {},
     "output_type": "execute_result"
    }
   ]
  },
  {
   "cell_type": "markdown",
   "source": [
    "### 元素乘法"
   ],
   "metadata": {
    "id": "MRqnSeIW3vTI"
   }
  },
  {
   "cell_type": "code",
   "source": [
    "tf.multiply(a, b)"
   ],
   "metadata": {
    "colab": {
     "base_uri": "https://localhost:8080/"
    },
    "id": "LyrgPHyj3V4Q",
    "outputId": "013eebd5-d45d-48e3-e420-dd93f700f037",
    "ExecuteTime": {
     "end_time": "2023-10-23T10:41:58.496326577Z",
     "start_time": "2023-10-23T10:41:58.410794182Z"
    }
   },
   "execution_count": 14,
   "outputs": [
    {
     "data": {
      "text/plain": "<tf.Tensor: shape=(2, 2), dtype=int32, numpy=\narray([[1, 2],\n       [3, 4]], dtype=int32)>"
     },
     "execution_count": 14,
     "metadata": {},
     "output_type": "execute_result"
    }
   ]
  },
  {
   "cell_type": "code",
   "source": [
    "a * b"
   ],
   "metadata": {
    "colab": {
     "base_uri": "https://localhost:8080/"
    },
    "id": "FCoTvUD_4BZH",
    "outputId": "3c0cdc52-da0f-4fda-ba5b-28eae8943526",
    "ExecuteTime": {
     "end_time": "2023-10-23T10:41:58.496541826Z",
     "start_time": "2023-10-23T10:41:58.410848993Z"
    }
   },
   "execution_count": 15,
   "outputs": [
    {
     "data": {
      "text/plain": "<tf.Tensor: shape=(2, 2), dtype=int32, numpy=\narray([[1, 2],\n       [3, 4]], dtype=int32)>"
     },
     "execution_count": 15,
     "metadata": {},
     "output_type": "execute_result"
    }
   ]
  },
  {
   "cell_type": "markdown",
   "source": [
    "### 矩陣乘法"
   ],
   "metadata": {
    "id": "TCuqepvu3voV"
   }
  },
  {
   "cell_type": "code",
   "source": [
    "tf.matmul(a, b)"
   ],
   "metadata": {
    "colab": {
     "base_uri": "https://localhost:8080/"
    },
    "id": "4jOLP6yV3ZMb",
    "outputId": "8be83c83-e16f-4ec7-df23-d1199c3b3445",
    "ExecuteTime": {
     "end_time": "2023-10-23T10:41:58.496728537Z",
     "start_time": "2023-10-23T10:41:58.410905564Z"
    }
   },
   "execution_count": 16,
   "outputs": [
    {
     "data": {
      "text/plain": "<tf.Tensor: shape=(2, 2), dtype=int32, numpy=\narray([[3, 3],\n       [7, 7]], dtype=int32)>"
     },
     "execution_count": 16,
     "metadata": {},
     "output_type": "execute_result"
    }
   ]
  },
  {
   "cell_type": "code",
   "source": [
    "a @ b"
   ],
   "metadata": {
    "colab": {
     "base_uri": "https://localhost:8080/"
    },
    "id": "a0qeHIpD4Dkn",
    "outputId": "2d14194b-b9e3-402f-d000-20845883edec",
    "ExecuteTime": {
     "end_time": "2023-10-23T10:41:58.497261238Z",
     "start_time": "2023-10-23T10:41:58.454573996Z"
    }
   },
   "execution_count": 17,
   "outputs": [
    {
     "data": {
      "text/plain": "<tf.Tensor: shape=(2, 2), dtype=int32, numpy=\narray([[3, 3],\n       [7, 7]], dtype=int32)>"
     },
     "execution_count": 17,
     "metadata": {},
     "output_type": "execute_result"
    }
   ]
  },
  {
   "cell_type": "markdown",
   "source": [
    "### 聚合運算\n",
    "\n",
    "- tf.reduce_sum() : 求和\n",
    "- tf.reduce_mean() : 平均值\n",
    "- tf.reduce_max()  : 最大值\n",
    "- tf.reduce_min()  : 最小值\n",
    "- tf.argmax() : 最大值的索引\n",
    "- tf.argmin() : 最小值的索引"
   ],
   "metadata": {
    "id": "Azntls8O4LSW"
   }
  },
  {
   "cell_type": "markdown",
   "source": [
    "#### 定義張量 c"
   ],
   "metadata": {
    "id": "2Ya4SdF84sR2"
   }
  },
  {
   "cell_type": "code",
   "source": [
    "c = tf.constant([[4.0, 5.0], [10.0, 1.0]])\n",
    "c"
   ],
   "metadata": {
    "colab": {
     "base_uri": "https://localhost:8080/"
    },
    "id": "-7MjMl2A4LqV",
    "outputId": "f4d6e611-3192-47f8-ff42-d8cc4f5dd808",
    "ExecuteTime": {
     "end_time": "2023-10-23T10:41:58.497474156Z",
     "start_time": "2023-10-23T10:41:58.454705642Z"
    }
   },
   "execution_count": 18,
   "outputs": [
    {
     "data": {
      "text/plain": "<tf.Tensor: shape=(2, 2), dtype=float32, numpy=\narray([[ 4.,  5.],\n       [10.,  1.]], dtype=float32)>"
     },
     "execution_count": 18,
     "metadata": {},
     "output_type": "execute_result"
    }
   ]
  },
  {
   "cell_type": "markdown",
   "source": [
    "#### 最大值"
   ],
   "metadata": {
    "id": "Um_FMiWw4v3g"
   }
  },
  {
   "cell_type": "code",
   "source": [
    "tf.reduce_max(c)"
   ],
   "metadata": {
    "colab": {
     "base_uri": "https://localhost:8080/"
    },
    "id": "zFKDa3AI4p1B",
    "outputId": "678a9192-2dc2-48bf-8212-dc84e682c72d",
    "ExecuteTime": {
     "end_time": "2023-10-23T10:41:58.497661988Z",
     "start_time": "2023-10-23T10:41:58.454784385Z"
    }
   },
   "execution_count": 19,
   "outputs": [
    {
     "data": {
      "text/plain": "<tf.Tensor: shape=(), dtype=float32, numpy=10.0>"
     },
     "execution_count": 19,
     "metadata": {},
     "output_type": "execute_result"
    }
   ]
  },
  {
   "cell_type": "markdown",
   "source": [
    "#### 最大值索引"
   ],
   "metadata": {
    "id": "qx4p04Xq45ci"
   }
  },
  {
   "cell_type": "code",
   "source": [
    "tf.argmax(c)"
   ],
   "metadata": {
    "colab": {
     "base_uri": "https://localhost:8080/"
    },
    "id": "OobNCyo349yh",
    "outputId": "dd15224d-361e-4f4e-d261-e06ed815afd7",
    "ExecuteTime": {
     "end_time": "2023-10-23T10:41:58.497841532Z",
     "start_time": "2023-10-23T10:41:58.454839400Z"
    }
   },
   "execution_count": 20,
   "outputs": [
    {
     "data": {
      "text/plain": "<tf.Tensor: shape=(2,), dtype=int64, numpy=array([1, 0])>"
     },
     "execution_count": 20,
     "metadata": {},
     "output_type": "execute_result"
    }
   ]
  },
  {
   "cell_type": "markdown",
   "source": [
    "#### 均值"
   ],
   "metadata": {
    "id": "-7mntcac4_97"
   }
  },
  {
   "cell_type": "code",
   "source": [
    "tf.reduce_mean(c)"
   ],
   "metadata": {
    "colab": {
     "base_uri": "https://localhost:8080/"
    },
    "id": "_Qi_9Ejx4_qz",
    "outputId": "6eec99bd-5327-4492-c6df-dff25927f473",
    "ExecuteTime": {
     "end_time": "2023-10-23T10:41:58.498013005Z",
     "start_time": "2023-10-23T10:41:58.454903593Z"
    }
   },
   "execution_count": 21,
   "outputs": [
    {
     "data": {
      "text/plain": "<tf.Tensor: shape=(), dtype=float32, numpy=5.0>"
     },
     "execution_count": 21,
     "metadata": {},
     "output_type": "execute_result"
    }
   ]
  },
  {
   "cell_type": "markdown",
   "source": [
    "## 變數"
   ],
   "metadata": {
    "id": "DFB0tp89-2jy"
   }
  },
  {
   "cell_type": "code",
   "source": [
    "var1 = tf.Variable([[1.0, 2.0], [3.0, 4.0]])\n",
    "var1"
   ],
   "metadata": {
    "colab": {
     "base_uri": "https://localhost:8080/"
    },
    "id": "mrOrqqjE-8gg",
    "outputId": "a4769a45-fd13-485c-8a9c-880b021669a3",
    "ExecuteTime": {
     "end_time": "2023-10-23T10:41:58.498189377Z",
     "start_time": "2023-10-23T10:41:58.454990939Z"
    }
   },
   "execution_count": 22,
   "outputs": [
    {
     "data": {
      "text/plain": "<tf.Variable 'Variable:0' shape=(2, 2) dtype=float32, numpy=\narray([[1., 2.],\n       [3., 4.]], dtype=float32)>"
     },
     "execution_count": 22,
     "metadata": {},
     "output_type": "execute_result"
    }
   ]
  },
  {
   "cell_type": "markdown",
   "source": [
    "## Keras 介紹"
   ],
   "metadata": {
    "id": "tfTkXES8_j6F"
   }
  },
  {
   "cell_type": "markdown",
   "source": [
    "### 從 TensorFlow 匯入 Keras 套件"
   ],
   "metadata": {
    "id": "9a8ezAd_AcH-"
   }
  },
  {
   "cell_type": "code",
   "source": [],
   "metadata": {
    "id": "wiTVJW6yAShR",
    "ExecuteTime": {
     "end_time": "2023-10-23T10:41:58.544088880Z",
     "start_time": "2023-10-23T10:41:58.455039062Z"
    }
   },
   "execution_count": 23,
   "outputs": []
  },
  {
   "cell_type": "markdown",
   "source": [
    "### 使用 Keras 載入 MNIST 資料集\n",
    "\n",
    "載入資料集與正規化"
   ],
   "metadata": {
    "id": "d5PZ0P0lCQLG"
   }
  },
  {
   "cell_type": "code",
   "source": [],
   "metadata": {
    "id": "v38vo0RF_mPD",
    "ExecuteTime": {
     "end_time": "2023-10-23T10:41:58.544306285Z",
     "start_time": "2023-10-23T10:41:58.502605641Z"
    }
   },
   "execution_count": 24,
   "outputs": []
  },
  {
   "cell_type": "code",
   "source": [],
   "metadata": {
    "id": "eSxmsYOuCWtE",
    "ExecuteTime": {
     "end_time": "2023-10-23T10:41:58.721058653Z",
     "start_time": "2023-10-23T10:41:58.502750149Z"
    }
   },
   "execution_count": 25,
   "outputs": []
  },
  {
   "cell_type": "markdown",
   "source": [
    "### 模型建構"
   ],
   "metadata": {
    "id": "x7D7CYsFC3gk"
   }
  },
  {
   "cell_type": "markdown",
   "source": [
    "#### 從 Keras 匯入 Layer 套件"
   ],
   "metadata": {
    "id": "TYms-2N7DeWi"
   }
  },
  {
   "cell_type": "code",
   "source": [],
   "metadata": {
    "id": "iO-ZshU4DFPM",
    "ExecuteTime": {
     "end_time": "2023-10-23T10:41:58.726168647Z",
     "start_time": "2023-10-23T10:41:58.721456567Z"
    }
   },
   "execution_count": 26,
   "outputs": []
  },
  {
   "cell_type": "markdown",
   "source": [
    "#### 建置手寫辨識分類資料集"
   ],
   "metadata": {
    "id": "H4f0swymDl2e"
   }
  },
  {
   "cell_type": "code",
   "source": [],
   "metadata": {
    "id": "Ia-mZRrWCrh3",
    "ExecuteTime": {
     "end_time": "2023-10-23T10:41:58.763066100Z",
     "start_time": "2023-10-23T10:41:58.723363371Z"
    }
   },
   "execution_count": 27,
   "outputs": []
  },
  {
   "cell_type": "markdown",
   "source": [
    "#### 模型預測"
   ],
   "metadata": {
    "id": "60V7QGc9DqJH"
   }
  },
  {
   "cell_type": "markdown",
   "source": [
    "##### 對樣本進行預測\n",
    "\n",
    "會回傳會是樣本對於每個類別的邏輯分數(Logits)向量。"
   ],
   "metadata": {
    "id": "X5rJytsvEVDt"
   }
  },
  {
   "cell_type": "code",
   "source": [],
   "metadata": {
    "colab": {
     "base_uri": "https://localhost:8080/"
    },
    "id": "rf7e7FH3DdBk",
    "outputId": "8eb36fe5-9601-4410-d91a-82dadb809d84",
    "ExecuteTime": {
     "end_time": "2023-10-23T10:41:58.774997369Z",
     "start_time": "2023-10-23T10:41:58.767006946Z"
    }
   },
   "execution_count": 28,
   "outputs": [
    {
     "data": {
      "text/plain": "array([[-0.26944628, -0.33950424,  0.01807639,  0.26037255,  0.34969878,\n         0.14384484,  0.54202366, -1.5258648 ,  0.04568738, -0.07889077]],\n      dtype=float32)"
     },
     "execution_count": 28,
     "metadata": {},
     "output_type": "execute_result"
    }
   ]
  },
  {
   "cell_type": "markdown",
   "source": [
    "##### 透過 Softmax 轉為每個類別的機率"
   ],
   "metadata": {
    "id": "2LRvsEMJEPLK"
   }
  },
  {
   "cell_type": "code",
   "source": [],
   "metadata": {
    "colab": {
     "base_uri": "https://localhost:8080/"
    },
    "id": "FgnBrYeLEEam",
    "outputId": "72f826df-54f2-4e4b-a32a-db532182de0a",
    "ExecuteTime": {
     "end_time": "2023-10-23T10:41:58.827898258Z",
     "start_time": "2023-10-23T10:41:58.775912260Z"
    }
   },
   "execution_count": 29,
   "outputs": [
    {
     "data": {
      "text/plain": "array([[0.07435243, 0.06932172, 0.09912077, 0.12629685, 0.13809769,\n        0.11240488, 0.16738327, 0.02116603, 0.10189572, 0.0899606 ]],\n      dtype=float32)"
     },
     "execution_count": 29,
     "metadata": {},
     "output_type": "execute_result"
    }
   ]
  },
  {
   "cell_type": "markdown",
   "source": [
    "#### 計算損失函數\n",
    "\n",
    "未經過訓練的模型，給出的機率值接近隨機(1/10)，因此初始損失應該接近\n",
    "\n",
    "```\n",
    "-tf.math.log(1/10) ~= 2.3\n",
    "```"
   ],
   "metadata": {
    "id": "F14Tsgi9Fti3"
   }
  },
  {
   "cell_type": "code",
   "source": [],
   "metadata": {
    "colab": {
     "base_uri": "https://localhost:8080/"
    },
    "id": "IModD65AGlrN",
    "outputId": "f266afc7-a902-478b-ad28-976443eefd8d",
    "ExecuteTime": {
     "end_time": "2023-10-23T10:41:58.828470436Z",
     "start_time": "2023-10-23T10:41:58.779601767Z"
    }
   },
   "execution_count": 30,
   "outputs": [
    {
     "data": {
      "text/plain": "<tf.Tensor: shape=(), dtype=float32, numpy=2.3025851>"
     },
     "execution_count": 30,
     "metadata": {},
     "output_type": "execute_result"
    }
   ]
  },
  {
   "cell_type": "markdown",
   "source": [
    "##### 使用稀疏分類交叉熵"
   ],
   "metadata": {
    "id": "_4UfdbkFGuJ4"
   }
  },
  {
   "cell_type": "code",
   "source": [],
   "metadata": {
    "id": "sekxIuX2FtGx",
    "ExecuteTime": {
     "end_time": "2023-10-23T10:41:58.828660324Z",
     "start_time": "2023-10-23T10:41:58.826704612Z"
    }
   },
   "execution_count": 31,
   "outputs": []
  },
  {
   "cell_type": "code",
   "source": [],
   "metadata": {
    "colab": {
     "base_uri": "https://localhost:8080/"
    },
    "id": "VU47O3iNGAY2",
    "outputId": "40455ebd-dd73-4096-97c4-d52050e99e9f",
    "ExecuteTime": {
     "end_time": "2023-10-23T10:41:58.828970828Z",
     "start_time": "2023-10-23T10:41:58.826914547Z"
    }
   },
   "execution_count": 32,
   "outputs": [
    {
     "data": {
      "text/plain": "2.185648"
     },
     "execution_count": 32,
     "metadata": {},
     "output_type": "execute_result"
    }
   ]
  },
  {
   "cell_type": "markdown",
   "source": [
    "#### 編譯模型"
   ],
   "metadata": {
    "id": "tjz170aWG02S"
   }
  },
  {
   "cell_type": "code",
   "source": [],
   "metadata": {
    "id": "LTQgXDIRG39M",
    "ExecuteTime": {
     "end_time": "2023-10-23T10:41:58.829135444Z",
     "start_time": "2023-10-23T10:41:58.827045418Z"
    }
   },
   "execution_count": 33,
   "outputs": []
  },
  {
   "cell_type": "markdown",
   "source": [
    "#### 訓練並評估模型"
   ],
   "metadata": {
    "id": "LpaC7z_rHCWb"
   }
  },
  {
   "cell_type": "markdown",
   "source": [
    "##### 模型訓練"
   ],
   "metadata": {
    "id": "PjBWmdn0HZWe"
   }
  },
  {
   "cell_type": "code",
   "source": [],
   "metadata": {
    "colab": {
     "base_uri": "https://localhost:8080/"
    },
    "id": "vKVZD0deHAcz",
    "outputId": "f1b0962a-6542-4561-81d4-4f4e9f0b14f8",
    "ExecuteTime": {
     "end_time": "2023-10-23T10:42:10.039118728Z",
     "start_time": "2023-10-23T10:41:58.827108832Z"
    }
   },
   "execution_count": 34,
   "outputs": [
    {
     "name": "stdout",
     "output_type": "stream",
     "text": [
      "Epoch 1/5\n",
      "1875/1875 [==============================] - 2s 1ms/step - loss: 0.2925 - accuracy: 0.9160\n",
      "Epoch 2/5\n",
      "1875/1875 [==============================] - 2s 1ms/step - loss: 0.1414 - accuracy: 0.9580\n",
      "Epoch 3/5\n",
      "1875/1875 [==============================] - 2s 1ms/step - loss: 0.1066 - accuracy: 0.9680\n",
      "Epoch 4/5\n",
      "1875/1875 [==============================] - 2s 1ms/step - loss: 0.0876 - accuracy: 0.9733\n",
      "Epoch 5/5\n",
      "1875/1875 [==============================] - 2s 1ms/step - loss: 0.0742 - accuracy: 0.9768\n"
     ]
    },
    {
     "data": {
      "text/plain": "<keras.src.callbacks.History at 0x7fbb9c109690>"
     },
     "execution_count": 34,
     "metadata": {},
     "output_type": "execute_result"
    }
   ]
  },
  {
   "cell_type": "markdown",
   "source": [
    "##### 模型評估"
   ],
   "metadata": {
    "id": "p4fSOvgRHUBm"
   }
  },
  {
   "cell_type": "code",
   "source": [],
   "metadata": {
    "colab": {
     "base_uri": "https://localhost:8080/"
    },
    "id": "aforj06XHb_d",
    "outputId": "939ef692-44aa-4175-85e9-f9cd2fe3b0e4",
    "ExecuteTime": {
     "end_time": "2023-10-23T10:42:10.349773508Z",
     "start_time": "2023-10-23T10:42:10.038686712Z"
    }
   },
   "execution_count": 35,
   "outputs": [
    {
     "name": "stdout",
     "output_type": "stream",
     "text": [
      "313/313 - 0s - loss: 0.0766 - accuracy: 0.9773 - 279ms/epoch - 890us/step\n"
     ]
    },
    {
     "data": {
      "text/plain": "[0.07660085707902908, 0.9772999882698059]"
     },
     "execution_count": 35,
     "metadata": {},
     "output_type": "execute_result"
    }
   ]
  },
  {
   "cell_type": "markdown",
   "source": [
    "##### 建立機率模型"
   ],
   "metadata": {
    "id": "EVwfJRRVHzNh"
   }
  },
  {
   "cell_type": "code",
   "source": [],
   "metadata": {
    "id": "t4YcT9KLHpMp",
    "ExecuteTime": {
     "end_time": "2023-10-23T10:42:10.364005724Z",
     "start_time": "2023-10-23T10:42:10.351631799Z"
    }
   },
   "execution_count": 36,
   "outputs": []
  },
  {
   "cell_type": "code",
   "source": [],
   "metadata": {
    "colab": {
     "base_uri": "https://localhost:8080/"
    },
    "id": "z76ABYSOHyZ9",
    "outputId": "689c4326-7a0e-4c9a-af32-f1d2beb561e3",
    "ExecuteTime": {
     "end_time": "2023-10-23T10:42:10.406900142Z",
     "start_time": "2023-10-23T10:42:10.365333184Z"
    }
   },
   "execution_count": 37,
   "outputs": [
    {
     "data": {
      "text/plain": "<tf.Tensor: shape=(5, 10), dtype=float32, numpy=\narray([[2.9685349e-08, 4.6580761e-10, 4.1183976e-06, 2.7051245e-05,\n        1.7616901e-11, 2.5620553e-08, 4.4670671e-14, 9.9996841e-01,\n        1.0457931e-08, 3.0099375e-07],\n       [5.6043397e-08, 1.8908994e-06, 9.9997544e-01, 1.3402547e-05,\n        5.4507765e-13, 9.1772035e-06, 4.0441684e-08, 2.4756091e-12,\n        1.7335766e-07, 9.7281749e-12],\n       [2.1626022e-08, 9.9910372e-01, 3.5906007e-05, 6.1723372e-06,\n        1.9939773e-05, 2.2837387e-06, 2.5395175e-06, 6.9588848e-04,\n        1.3338307e-04, 1.6159382e-07],\n       [9.9961877e-01, 1.0496628e-09, 3.3688135e-04, 2.1267233e-06,\n        7.1936137e-07, 1.4009641e-05, 4.2709266e-06, 1.1332496e-05,\n        8.4861327e-08, 1.1701363e-05],\n       [5.5400698e-05, 4.9934716e-08, 3.4419077e-06, 1.1753368e-07,\n        9.9646264e-01, 1.1198007e-06, 2.9156763e-06, 7.3869531e-05,\n        1.8235329e-06, 3.3985446e-03]], dtype=float32)>"
     },
     "execution_count": 37,
     "metadata": {},
     "output_type": "execute_result"
    }
   ]
  },
  {
   "cell_type": "markdown",
   "source": [
    "###### 印出標準答案"
   ],
   "metadata": {
    "collapsed": false
   }
  },
  {
   "cell_type": "code",
   "execution_count": 38,
   "outputs": [
    {
     "data": {
      "text/plain": "array([7, 2, 1, 0, 4], dtype=uint8)"
     },
     "execution_count": 38,
     "metadata": {},
     "output_type": "execute_result"
    }
   ],
   "source": [],
   "metadata": {
    "collapsed": false,
    "ExecuteTime": {
     "end_time": "2023-10-23T10:42:10.408180996Z",
     "start_time": "2023-10-23T10:42:10.406621378Z"
    }
   }
  },
  {
   "cell_type": "markdown",
   "source": [
    "###### 印出預測結果"
   ],
   "metadata": {
    "collapsed": false
   }
  },
  {
   "cell_type": "code",
   "execution_count": 39,
   "outputs": [
    {
     "data": {
      "text/plain": "array([7, 2, 1, 0, 4])"
     },
     "execution_count": 39,
     "metadata": {},
     "output_type": "execute_result"
    }
   ],
   "source": [],
   "metadata": {
    "collapsed": false,
    "ExecuteTime": {
     "end_time": "2023-10-23T10:42:10.408408273Z",
     "start_time": "2023-10-23T10:42:10.406733212Z"
    }
   }
  },
  {
   "cell_type": "markdown",
   "source": [],
   "metadata": {
    "collapsed": false
   }
  }
 ]
}
